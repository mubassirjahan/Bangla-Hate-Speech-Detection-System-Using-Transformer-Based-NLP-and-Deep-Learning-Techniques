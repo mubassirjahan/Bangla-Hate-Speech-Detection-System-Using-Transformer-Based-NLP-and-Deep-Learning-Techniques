{
  "nbformat": 4,
  "nbformat_minor": 0,
  "metadata": {
    "colab": {
      "name": "Doc2Vector.ipynb",
      "provenance": []
    },
    "kernelspec": {
      "name": "python3",
      "display_name": "Python 3"
    },
    "language_info": {
      "name": "python"
    }
  },
  "cells": [
    {
      "cell_type": "code",
      "execution_count": null,
      "metadata": {
        "id": "AKbXmScWfCCd"
      },
      "outputs": [],
      "source": [
        "# imports\n",
        "import pandas as pd\n",
        "import matplotlib.pyplot as plt\n",
        "from matplotlib import cm\n",
        "import seaborn as sns; sns.set()\n",
        "%matplotlib inline\n",
        "# NLP\n",
        "import nltk\n",
        "from nltk.tokenize import word_tokenize\n",
        "from sklearn.feature_extraction import text \n",
        "from nltk.stem import WordNetLemmatizer \n",
        "from sklearn.feature_extraction.text import CountVectorizer, TfidfVectorizer, TfidfTransformer\n",
        "from nltk.probability import FreqDist\n",
        "from nltk.corpus import stopwords\n",
        "from nltk.stem import PorterStemmer\n",
        "# modeling\n",
        "import sklearn.metrics as metrics\n",
        "from sklearn import metrics, utils\n",
        "from sklearn.naive_bayes import MultinomialNB\n",
        "from sklearn.model_selection import train_test_split, GridSearchCV\n",
        "from gensim.models.doc2vec import Doc2Vec, TaggedDocument\n",
        "from sklearn.svm import LinearSVC\n",
        "from sklearn.linear_model import LogisticRegression\n",
        "# metrics\n",
        "from sklearn import metrics, model_selection, svm\n",
        "from sklearn.metrics import accuracy_score, precision_score, recall_score, f1_score, confusion_matrix, plot_confusion_matrix, roc_curve, auc, classification_report\n",
        "import pickle"
      ]
    },
    {
      "cell_type": "code",
      "source": [
        "df = pd.read_csv('/content/DataSets 1 - DataSets 1.csv')"
      ],
      "metadata": {
        "id": "zwnHnN3IfNcC"
      },
      "execution_count": null,
      "outputs": []
    },
    {
      "cell_type": "code",
      "source": [
        "df.head(2)"
      ],
      "metadata": {
        "colab": {
          "base_uri": "https://localhost:8080/",
          "height": 112
        },
        "id": "TVJNJkTUfW5r",
        "outputId": "ec5f2d0c-11d4-45b5-b442-08152daee7a2"
      },
      "execution_count": null,
      "outputs": [
        {
          "output_type": "execute_result",
          "data": {
            "text/plain": [
              "                                                text         label\n",
              "0  ইনিই হচ্ছেন ভারতের প্রতিরক্ষামন্ত্রী মনোহর পা...  Geopolitical\n",
              "1      রেন্ডিয়াকে পৃথীবির মানচিএ থেকে মুচে ফেলতে হবে  Geopolitical"
            ],
            "text/html": [
              "\n",
              "  <div id=\"df-879d701c-ad75-4561-81c1-2af5d82a32cb\">\n",
              "    <div class=\"colab-df-container\">\n",
              "      <div>\n",
              "<style scoped>\n",
              "    .dataframe tbody tr th:only-of-type {\n",
              "        vertical-align: middle;\n",
              "    }\n",
              "\n",
              "    .dataframe tbody tr th {\n",
              "        vertical-align: top;\n",
              "    }\n",
              "\n",
              "    .dataframe thead th {\n",
              "        text-align: right;\n",
              "    }\n",
              "</style>\n",
              "<table border=\"1\" class=\"dataframe\">\n",
              "  <thead>\n",
              "    <tr style=\"text-align: right;\">\n",
              "      <th></th>\n",
              "      <th>text</th>\n",
              "      <th>label</th>\n",
              "    </tr>\n",
              "  </thead>\n",
              "  <tbody>\n",
              "    <tr>\n",
              "      <th>0</th>\n",
              "      <td>ইনিই হচ্ছেন ভারতের প্রতিরক্ষামন্ত্রী মনোহর পা...</td>\n",
              "      <td>Geopolitical</td>\n",
              "    </tr>\n",
              "    <tr>\n",
              "      <th>1</th>\n",
              "      <td>রেন্ডিয়াকে পৃথীবির মানচিএ থেকে মুচে ফেলতে হবে</td>\n",
              "      <td>Geopolitical</td>\n",
              "    </tr>\n",
              "  </tbody>\n",
              "</table>\n",
              "</div>\n",
              "      <button class=\"colab-df-convert\" onclick=\"convertToInteractive('df-879d701c-ad75-4561-81c1-2af5d82a32cb')\"\n",
              "              title=\"Convert this dataframe to an interactive table.\"\n",
              "              style=\"display:none;\">\n",
              "        \n",
              "  <svg xmlns=\"http://www.w3.org/2000/svg\" height=\"24px\"viewBox=\"0 0 24 24\"\n",
              "       width=\"24px\">\n",
              "    <path d=\"M0 0h24v24H0V0z\" fill=\"none\"/>\n",
              "    <path d=\"M18.56 5.44l.94 2.06.94-2.06 2.06-.94-2.06-.94-.94-2.06-.94 2.06-2.06.94zm-11 1L8.5 8.5l.94-2.06 2.06-.94-2.06-.94L8.5 2.5l-.94 2.06-2.06.94zm10 10l.94 2.06.94-2.06 2.06-.94-2.06-.94-.94-2.06-.94 2.06-2.06.94z\"/><path d=\"M17.41 7.96l-1.37-1.37c-.4-.4-.92-.59-1.43-.59-.52 0-1.04.2-1.43.59L10.3 9.45l-7.72 7.72c-.78.78-.78 2.05 0 2.83L4 21.41c.39.39.9.59 1.41.59.51 0 1.02-.2 1.41-.59l7.78-7.78 2.81-2.81c.8-.78.8-2.07 0-2.86zM5.41 20L4 18.59l7.72-7.72 1.47 1.35L5.41 20z\"/>\n",
              "  </svg>\n",
              "      </button>\n",
              "      \n",
              "  <style>\n",
              "    .colab-df-container {\n",
              "      display:flex;\n",
              "      flex-wrap:wrap;\n",
              "      gap: 12px;\n",
              "    }\n",
              "\n",
              "    .colab-df-convert {\n",
              "      background-color: #E8F0FE;\n",
              "      border: none;\n",
              "      border-radius: 50%;\n",
              "      cursor: pointer;\n",
              "      display: none;\n",
              "      fill: #1967D2;\n",
              "      height: 32px;\n",
              "      padding: 0 0 0 0;\n",
              "      width: 32px;\n",
              "    }\n",
              "\n",
              "    .colab-df-convert:hover {\n",
              "      background-color: #E2EBFA;\n",
              "      box-shadow: 0px 1px 2px rgba(60, 64, 67, 0.3), 0px 1px 3px 1px rgba(60, 64, 67, 0.15);\n",
              "      fill: #174EA6;\n",
              "    }\n",
              "\n",
              "    [theme=dark] .colab-df-convert {\n",
              "      background-color: #3B4455;\n",
              "      fill: #D2E3FC;\n",
              "    }\n",
              "\n",
              "    [theme=dark] .colab-df-convert:hover {\n",
              "      background-color: #434B5C;\n",
              "      box-shadow: 0px 1px 3px 1px rgba(0, 0, 0, 0.15);\n",
              "      filter: drop-shadow(0px 1px 2px rgba(0, 0, 0, 0.3));\n",
              "      fill: #FFFFFF;\n",
              "    }\n",
              "  </style>\n",
              "\n",
              "      <script>\n",
              "        const buttonEl =\n",
              "          document.querySelector('#df-879d701c-ad75-4561-81c1-2af5d82a32cb button.colab-df-convert');\n",
              "        buttonEl.style.display =\n",
              "          google.colab.kernel.accessAllowed ? 'block' : 'none';\n",
              "\n",
              "        async function convertToInteractive(key) {\n",
              "          const element = document.querySelector('#df-879d701c-ad75-4561-81c1-2af5d82a32cb');\n",
              "          const dataTable =\n",
              "            await google.colab.kernel.invokeFunction('convertToInteractive',\n",
              "                                                     [key], {});\n",
              "          if (!dataTable) return;\n",
              "\n",
              "          const docLinkHtml = 'Like what you see? Visit the ' +\n",
              "            '<a target=\"_blank\" href=https://colab.research.google.com/notebooks/data_table.ipynb>data table notebook</a>'\n",
              "            + ' to learn more about interactive tables.';\n",
              "          element.innerHTML = '';\n",
              "          dataTable['output_type'] = 'display_data';\n",
              "          await google.colab.output.renderOutput(dataTable, element);\n",
              "          const docLink = document.createElement('div');\n",
              "          docLink.innerHTML = docLinkHtml;\n",
              "          element.appendChild(docLink);\n",
              "        }\n",
              "      </script>\n",
              "    </div>\n",
              "  </div>\n",
              "  "
            ]
          },
          "metadata": {},
          "execution_count": 3
        }
      ]
    },
    {
      "cell_type": "code",
      "source": [
        "doc_train, doc_test = train_test_split(df, test_size=0.3, random_state=42)"
      ],
      "metadata": {
        "id": "1_NaRZ2jfd3w"
      },
      "execution_count": null,
      "outputs": []
    },
    {
      "cell_type": "code",
      "source": [
        "def tokenize_text(text):\n",
        "    tokens = []\n",
        "    for sent in nltk.sent_tokenize(text):\n",
        "        for word in nltk.word_tokenize(sent):\n",
        "            if len(word) < 2:\n",
        "                continue\n",
        "            tokens.append(word.lower())\n",
        "    return tokens"
      ],
      "metadata": {
        "id": "A2PbOJ1QflwJ"
      },
      "execution_count": null,
      "outputs": []
    },
    {
      "cell_type": "code",
      "source": [
        " import nltk\n",
        " nltk.download('punkt')"
      ],
      "metadata": {
        "colab": {
          "base_uri": "https://localhost:8080/"
        },
        "id": "VFOP7cBzf5VZ",
        "outputId": "e7c47858-fce7-4ce6-9db2-fe3b0cdead50"
      },
      "execution_count": null,
      "outputs": [
        {
          "output_type": "stream",
          "name": "stdout",
          "text": [
            "[nltk_data] Downloading package punkt to /root/nltk_data...\n",
            "[nltk_data]   Unzipping tokenizers/punkt.zip.\n"
          ]
        },
        {
          "output_type": "execute_result",
          "data": {
            "text/plain": [
              "True"
            ]
          },
          "metadata": {},
          "execution_count": 7
        }
      ]
    },
    {
      "cell_type": "code",
      "source": [
        "tagged_train = doc_train.apply(\n",
        "    lambda r: TaggedDocument(words=tokenize_text(r['text']), tags=[r.label]), axis=1)\n",
        "tagged_test = doc_test.apply(\n",
        "    lambda r: TaggedDocument(words=tokenize_text(r['text']), tags=[r.label]), axis=1)"
      ],
      "metadata": {
        "id": "3n_xdwmxfqwO"
      },
      "execution_count": null,
      "outputs": []
    },
    {
      "cell_type": "code",
      "source": [
        "tagged_train.values[30]"
      ],
      "metadata": {
        "colab": {
          "base_uri": "https://localhost:8080/"
        },
        "id": "SA_DNLcof_25",
        "outputId": "d9a01525-71fb-4348-c8df-777bf2b70fed"
      },
      "execution_count": null,
      "outputs": [
        {
          "output_type": "execute_result",
          "data": {
            "text/plain": [
              "TaggedDocument(words=['আরে', 'ভারত', 'না', 'থাকলে', 'এই', 'কাংলাদেশীরা', 'পাকিসতানী', 'চোদন', 'খেয়ে', 'শেষ', 'হয়ে', 'যেত'], tags=['Geopolitical'])"
            ]
          },
          "metadata": {},
          "execution_count": 9
        }
      ]
    },
    {
      "cell_type": "code",
      "source": [
        "# train a doc2vec model, using only training data\n",
        "dbow_model = Doc2Vec(vector_size=100, \n",
        "                alpha=0.025, \n",
        "                min_count=5,\n",
        "                dm=1, epochs=100)"
      ],
      "metadata": {
        "id": "cx4mspMKgFfI"
      },
      "execution_count": null,
      "outputs": []
    },
    {
      "cell_type": "code",
      "source": [
        "from tqdm import tqdm\n",
        "tqdm.pandas(desc=\"progress-bar\")\n",
        "\n",
        "# building vocabulary \n",
        "dbow_model.build_vocab([x for x in tqdm(tagged_train.values)])"
      ],
      "metadata": {
        "colab": {
          "base_uri": "https://localhost:8080/"
        },
        "id": "9rdQtZfRgKjB",
        "outputId": "16f94c0b-1ddc-43cc-8a3c-5d9da17ed0dd"
      },
      "execution_count": null,
      "outputs": [
        {
          "output_type": "stream",
          "name": "stderr",
          "text": [
            "100%|██████████| 2392/2392 [00:00<00:00, 812304.69it/s]\n"
          ]
        }
      ]
    },
    {
      "cell_type": "code",
      "source": [
        "%%time\n",
        "# this cell takes about 26 seconds to run\n",
        "for epoch in range(30):\n",
        "    dbow_model.train(utils.shuffle([x for x in tqdm(tagged_train.values)]), total_examples=len(tagged_train.values), epochs=1)\n",
        "    dbow_model.alpha -= 0.002\n",
        "    dbow_model.min_alpha = dbow_model.alpha"
      ],
      "metadata": {
        "colab": {
          "base_uri": "https://localhost:8080/"
        },
        "id": "FnAy_q82gPQl",
        "outputId": "7f0a8948-43b3-4f89-a4bd-87185c4cb744"
      },
      "execution_count": null,
      "outputs": [
        {
          "output_type": "stream",
          "name": "stderr",
          "text": [
            "100%|██████████| 2392/2392 [00:00<00:00, 340555.84it/s]\n",
            "100%|██████████| 2392/2392 [00:00<00:00, 778700.34it/s]\n",
            "100%|██████████| 2392/2392 [00:00<00:00, 969069.37it/s]\n",
            "100%|██████████| 2392/2392 [00:00<00:00, 978234.71it/s]\n",
            "100%|██████████| 2392/2392 [00:00<00:00, 745986.70it/s]\n",
            "100%|██████████| 2392/2392 [00:00<00:00, 2047923.08it/s]\n",
            "100%|██████████| 2392/2392 [00:00<00:00, 1676880.36it/s]\n",
            "100%|██████████| 2392/2392 [00:00<00:00, 2090161.49it/s]\n",
            "100%|██████████| 2392/2392 [00:00<00:00, 2079331.64it/s]\n",
            "100%|██████████| 2392/2392 [00:00<00:00, 2012189.16it/s]\n",
            "100%|██████████| 2392/2392 [00:00<00:00, 580264.61it/s]\n",
            "100%|██████████| 2392/2392 [00:00<00:00, 2098906.94it/s]\n",
            "100%|██████████| 2392/2392 [00:00<00:00, 2152032.43it/s]\n",
            "100%|██████████| 2392/2392 [00:00<00:00, 2075460.32it/s]\n",
            "100%|██████████| 2392/2392 [00:00<00:00, 2009368.15it/s]\n",
            "100%|██████████| 2392/2392 [00:00<00:00, 940278.83it/s]\n",
            "100%|██████████| 2392/2392 [00:00<00:00, 1608332.02it/s]\n",
            "100%|██████████| 2392/2392 [00:00<00:00, 1500789.11it/s]\n",
            "100%|██████████| 2392/2392 [00:00<00:00, 982545.80it/s]\n",
            "100%|██████████| 2392/2392 [00:00<00:00, 2009368.15it/s]\n",
            "100%|██████████| 2392/2392 [00:00<00:00, 1963745.38it/s]\n",
            "100%|██████████| 2392/2392 [00:00<00:00, 2116172.78it/s]\n",
            "100%|██████████| 2392/2392 [00:00<00:00, 972922.34it/s]\n",
            "100%|██████████| 2392/2392 [00:00<00:00, 2142382.06it/s]\n",
            "100%|██████████| 2392/2392 [00:00<00:00, 2089726.13it/s]\n",
            "100%|██████████| 2392/2392 [00:00<00:00, 2074601.98it/s]\n",
            "100%|██████████| 2392/2392 [00:00<00:00, 2045001.05it/s]\n",
            "100%|██████████| 2392/2392 [00:00<00:00, 1152265.44it/s]\n",
            "100%|██████████| 2392/2392 [00:00<00:00, 1980022.73it/s]\n",
            "100%|██████████| 2392/2392 [00:00<00:00, 577027.39it/s]\n"
          ]
        },
        {
          "output_type": "stream",
          "name": "stdout",
          "text": [
            "CPU times: user 8.05 s, sys: 1.83 s, total: 9.87 s\n",
            "Wall time: 8.32 s\n"
          ]
        }
      ]
    },
    {
      "cell_type": "code",
      "source": [
        "def vec_for_learning(model, tagged_docs):\n",
        "    sents = tagged_docs.values\n",
        "    targets, regressors = zip(*[(doc.tags[0], model.infer_vector(doc.words, steps=20)) for doc in sents])\n",
        "    return targets, regressors"
      ],
      "metadata": {
        "id": "UJh4K0OPgZCL"
      },
      "execution_count": null,
      "outputs": []
    },
    {
      "cell_type": "code",
      "source": [
        "# train-test split\n",
        "y_train, X_train = vec_for_learning(dbow_model, tagged_train)\n",
        "y_test, X_test = vec_for_learning(dbow_model, tagged_test)"
      ],
      "metadata": {
        "id": "sCa0wHB0ghLp"
      },
      "execution_count": null,
      "outputs": []
    },
    {
      "cell_type": "code",
      "source": [
        "logreg = LogisticRegression(n_jobs=1, C=1e5)"
      ],
      "metadata": {
        "id": "nH9Jwwcvgj5A"
      },
      "execution_count": null,
      "outputs": []
    },
    {
      "cell_type": "code",
      "source": [
        "%%time\n",
        "logreg.fit(X_train, y_train)"
      ],
      "metadata": {
        "colab": {
          "base_uri": "https://localhost:8080/"
        },
        "id": "rW0_cSoogpCY",
        "outputId": "3c2b3d63-c897-4487-d4d8-690b9911c212"
      },
      "execution_count": null,
      "outputs": [
        {
          "output_type": "stream",
          "name": "stdout",
          "text": [
            "CPU times: user 406 ms, sys: 226 ms, total: 632 ms\n",
            "Wall time: 335 ms\n"
          ]
        },
        {
          "output_type": "stream",
          "name": "stderr",
          "text": [
            "/usr/local/lib/python3.7/dist-packages/sklearn/linear_model/_logistic.py:818: ConvergenceWarning: lbfgs failed to converge (status=1):\n",
            "STOP: TOTAL NO. of ITERATIONS REACHED LIMIT.\n",
            "\n",
            "Increase the number of iterations (max_iter) or scale the data as shown in:\n",
            "    https://scikit-learn.org/stable/modules/preprocessing.html\n",
            "Please also refer to the documentation for alternative solver options:\n",
            "    https://scikit-learn.org/stable/modules/linear_model.html#logistic-regression\n",
            "  extra_warning_msg=_LOGISTIC_SOLVER_CONVERGENCE_MSG,\n"
          ]
        },
        {
          "output_type": "execute_result",
          "data": {
            "text/plain": [
              "LogisticRegression(C=100000.0, n_jobs=1)"
            ]
          },
          "metadata": {},
          "execution_count": 16
        }
      ]
    },
    {
      "cell_type": "code",
      "source": [
        "logreg_y_preds = logreg.predict(X_test)"
      ],
      "metadata": {
        "id": "XFAcEDulgt-x"
      },
      "execution_count": null,
      "outputs": []
    },
    {
      "cell_type": "code",
      "source": [
        "logreg_precision = precision_score(y_test, logreg_y_preds,average='micro')\n",
        "logreg_recall = recall_score(y_test, logreg_y_preds,average='micro')\n",
        "logreg_f1_score = f1_score(y_test, logreg_y_preds,average='micro')\n",
        "logreg_f1_weighted = f1_score(y_test, logreg_y_preds, average='micro')"
      ],
      "metadata": {
        "id": "kb2pkHklg1QJ"
      },
      "execution_count": null,
      "outputs": []
    },
    {
      "cell_type": "code",
      "source": [
        "print('Precision: {:.4}'.format(logreg_precision))\n",
        "print('Recall: {:.4}'.format(logreg_recall))\n",
        "print('F1 Score: {:.4}'.format(logreg_f1_score))\n",
        "print('Weighted F1 Score: {:.4}'.format(logreg_f1_weighted))"
      ],
      "metadata": {
        "colab": {
          "base_uri": "https://localhost:8080/"
        },
        "id": "jxhqTZDklCk_",
        "outputId": "d012cbfc-47b9-4f82-9883-3bab9764f877"
      },
      "execution_count": null,
      "outputs": [
        {
          "output_type": "stream",
          "name": "stdout",
          "text": [
            "Precision: 0.5984\n",
            "Recall: 0.5984\n",
            "F1 Score: 0.5984\n",
            "Weighted F1 Score: 0.5984\n"
          ]
        }
      ]
    },
    {
      "cell_type": "code",
      "source": [
        "# creating dictionary with all metrics\n",
        "metric_dict = {}\n",
        "metric_dict['Baseline Logisitic Regression'] = {'precision': logreg_precision, 'recall': logreg_recall, 'f1_score': logreg_f1_score}"
      ],
      "metadata": {
        "id": "q14B7qsMlJPl"
      },
      "execution_count": null,
      "outputs": []
    },
    {
      "cell_type": "code",
      "source": [
        "SVM_baseline = svm.SVC(C=1.0, kernel='linear', degree=3, gamma='auto', class_weight='balanced')"
      ],
      "metadata": {
        "id": "nrBDlWEqlluv"
      },
      "execution_count": null,
      "outputs": []
    },
    {
      "cell_type": "code",
      "source": [
        "%%time\n",
        "# this cell takes about 26 seconds to run\n",
        "# fit the training dataset on the classifier\n",
        "SVM_baseline.fit(X_train, y_train)"
      ],
      "metadata": {
        "colab": {
          "base_uri": "https://localhost:8080/"
        },
        "id": "H7dFL6Lplqq9",
        "outputId": "e80e883d-b063-4230-d1ea-c9cfdb1b76c7"
      },
      "execution_count": null,
      "outputs": [
        {
          "output_type": "stream",
          "name": "stdout",
          "text": [
            "CPU times: user 579 ms, sys: 4.23 ms, total: 584 ms\n",
            "Wall time: 602 ms\n"
          ]
        },
        {
          "output_type": "execute_result",
          "data": {
            "text/plain": [
              "SVC(class_weight='balanced', gamma='auto', kernel='linear')"
            ]
          },
          "metadata": {},
          "execution_count": 31
        }
      ]
    },
    {
      "cell_type": "code",
      "source": [
        "# predict the labels on validation dataset\n",
        "SVM_y_preds = SVM_baseline.predict(X_test)"
      ],
      "metadata": {
        "id": "OHMRgn5GlxCw"
      },
      "execution_count": null,
      "outputs": []
    },
    {
      "cell_type": "code",
      "source": [
        "SVM_precision = precision_score(y_test, SVM_y_preds, average='micro')\n",
        "SVM_recall = recall_score(y_test, SVM_y_preds, average='micro')\n",
        "SVM_f1_score = f1_score(y_test, SVM_y_preds, average='micro')\n",
        "SVM_f1_weighted = f1_score(y_test, SVM_y_preds, average='micro')"
      ],
      "metadata": {
        "id": "h_W0wJLzl1gZ"
      },
      "execution_count": null,
      "outputs": []
    },
    {
      "cell_type": "code",
      "source": [
        "# printing evaluation metrics up to 4th decimal place\n",
        "print('Testing Metrics for SVM Baseline with Lemmatization Features')\n",
        "print('Precision: {:.4}'.format(SVM_precision))\n",
        "print('Recall: {:.4}'.format(SVM_recall))\n",
        "print('F1 Score: {:.4}'.format(SVM_f1_score))\n",
        "print('Weighted F1 Score: {:.4}'.format(SVM_f1_weighted))"
      ],
      "metadata": {
        "colab": {
          "base_uri": "https://localhost:8080/"
        },
        "id": "tsFOSiQwmHMR",
        "outputId": "d8e63037-e321-41a7-c6b0-cb0175ddb5de"
      },
      "execution_count": null,
      "outputs": [
        {
          "output_type": "stream",
          "name": "stdout",
          "text": [
            "Testing Metrics for SVM Baseline with Lemmatization Features\n",
            "Precision: 0.576\n",
            "Recall: 0.576\n",
            "F1 Score: 0.576\n",
            "Weighted F1 Score: 0.576\n"
          ]
        }
      ]
    },
    {
      "cell_type": "code",
      "source": [
        "metric_dict['Baseline SVM'] = {'precision': SVM_precision, 'recall': SVM_recall, 'f1_score': SVM_f1_score, 'weighted_f1': SVM_f1_weighted}"
      ],
      "metadata": {
        "id": "kN5VnSqpmMrk"
      },
      "execution_count": null,
      "outputs": []
    },
    {
      "cell_type": "code",
      "source": [
        "pd.DataFrame.from_dict(metric_dict, orient='index')"
      ],
      "metadata": {
        "colab": {
          "base_uri": "https://localhost:8080/",
          "height": 112
        },
        "id": "sHfJThtZmjk5",
        "outputId": "25ceb6d4-cd3f-47c7-8fc0-21fd18e3ced1"
      },
      "execution_count": null,
      "outputs": [
        {
          "output_type": "execute_result",
          "data": {
            "text/plain": [
              "                               precision    recall  f1_score  weighted_f1\n",
              "Baseline Logisitic Regression   0.598441  0.598441  0.598441          NaN\n",
              "Baseline SVM                    0.576023  0.576023  0.576023     0.576023"
            ],
            "text/html": [
              "\n",
              "  <div id=\"df-eb19f6b8-5b40-4a68-aa5a-5922a3ccbebe\">\n",
              "    <div class=\"colab-df-container\">\n",
              "      <div>\n",
              "<style scoped>\n",
              "    .dataframe tbody tr th:only-of-type {\n",
              "        vertical-align: middle;\n",
              "    }\n",
              "\n",
              "    .dataframe tbody tr th {\n",
              "        vertical-align: top;\n",
              "    }\n",
              "\n",
              "    .dataframe thead th {\n",
              "        text-align: right;\n",
              "    }\n",
              "</style>\n",
              "<table border=\"1\" class=\"dataframe\">\n",
              "  <thead>\n",
              "    <tr style=\"text-align: right;\">\n",
              "      <th></th>\n",
              "      <th>precision</th>\n",
              "      <th>recall</th>\n",
              "      <th>f1_score</th>\n",
              "      <th>weighted_f1</th>\n",
              "    </tr>\n",
              "  </thead>\n",
              "  <tbody>\n",
              "    <tr>\n",
              "      <th>Baseline Logisitic Regression</th>\n",
              "      <td>0.598441</td>\n",
              "      <td>0.598441</td>\n",
              "      <td>0.598441</td>\n",
              "      <td>NaN</td>\n",
              "    </tr>\n",
              "    <tr>\n",
              "      <th>Baseline SVM</th>\n",
              "      <td>0.576023</td>\n",
              "      <td>0.576023</td>\n",
              "      <td>0.576023</td>\n",
              "      <td>0.576023</td>\n",
              "    </tr>\n",
              "  </tbody>\n",
              "</table>\n",
              "</div>\n",
              "      <button class=\"colab-df-convert\" onclick=\"convertToInteractive('df-eb19f6b8-5b40-4a68-aa5a-5922a3ccbebe')\"\n",
              "              title=\"Convert this dataframe to an interactive table.\"\n",
              "              style=\"display:none;\">\n",
              "        \n",
              "  <svg xmlns=\"http://www.w3.org/2000/svg\" height=\"24px\"viewBox=\"0 0 24 24\"\n",
              "       width=\"24px\">\n",
              "    <path d=\"M0 0h24v24H0V0z\" fill=\"none\"/>\n",
              "    <path d=\"M18.56 5.44l.94 2.06.94-2.06 2.06-.94-2.06-.94-.94-2.06-.94 2.06-2.06.94zm-11 1L8.5 8.5l.94-2.06 2.06-.94-2.06-.94L8.5 2.5l-.94 2.06-2.06.94zm10 10l.94 2.06.94-2.06 2.06-.94-2.06-.94-.94-2.06-.94 2.06-2.06.94z\"/><path d=\"M17.41 7.96l-1.37-1.37c-.4-.4-.92-.59-1.43-.59-.52 0-1.04.2-1.43.59L10.3 9.45l-7.72 7.72c-.78.78-.78 2.05 0 2.83L4 21.41c.39.39.9.59 1.41.59.51 0 1.02-.2 1.41-.59l7.78-7.78 2.81-2.81c.8-.78.8-2.07 0-2.86zM5.41 20L4 18.59l7.72-7.72 1.47 1.35L5.41 20z\"/>\n",
              "  </svg>\n",
              "      </button>\n",
              "      \n",
              "  <style>\n",
              "    .colab-df-container {\n",
              "      display:flex;\n",
              "      flex-wrap:wrap;\n",
              "      gap: 12px;\n",
              "    }\n",
              "\n",
              "    .colab-df-convert {\n",
              "      background-color: #E8F0FE;\n",
              "      border: none;\n",
              "      border-radius: 50%;\n",
              "      cursor: pointer;\n",
              "      display: none;\n",
              "      fill: #1967D2;\n",
              "      height: 32px;\n",
              "      padding: 0 0 0 0;\n",
              "      width: 32px;\n",
              "    }\n",
              "\n",
              "    .colab-df-convert:hover {\n",
              "      background-color: #E2EBFA;\n",
              "      box-shadow: 0px 1px 2px rgba(60, 64, 67, 0.3), 0px 1px 3px 1px rgba(60, 64, 67, 0.15);\n",
              "      fill: #174EA6;\n",
              "    }\n",
              "\n",
              "    [theme=dark] .colab-df-convert {\n",
              "      background-color: #3B4455;\n",
              "      fill: #D2E3FC;\n",
              "    }\n",
              "\n",
              "    [theme=dark] .colab-df-convert:hover {\n",
              "      background-color: #434B5C;\n",
              "      box-shadow: 0px 1px 3px 1px rgba(0, 0, 0, 0.15);\n",
              "      filter: drop-shadow(0px 1px 2px rgba(0, 0, 0, 0.3));\n",
              "      fill: #FFFFFF;\n",
              "    }\n",
              "  </style>\n",
              "\n",
              "      <script>\n",
              "        const buttonEl =\n",
              "          document.querySelector('#df-eb19f6b8-5b40-4a68-aa5a-5922a3ccbebe button.colab-df-convert');\n",
              "        buttonEl.style.display =\n",
              "          google.colab.kernel.accessAllowed ? 'block' : 'none';\n",
              "\n",
              "        async function convertToInteractive(key) {\n",
              "          const element = document.querySelector('#df-eb19f6b8-5b40-4a68-aa5a-5922a3ccbebe');\n",
              "          const dataTable =\n",
              "            await google.colab.kernel.invokeFunction('convertToInteractive',\n",
              "                                                     [key], {});\n",
              "          if (!dataTable) return;\n",
              "\n",
              "          const docLinkHtml = 'Like what you see? Visit the ' +\n",
              "            '<a target=\"_blank\" href=https://colab.research.google.com/notebooks/data_table.ipynb>data table notebook</a>'\n",
              "            + ' to learn more about interactive tables.';\n",
              "          element.innerHTML = '';\n",
              "          dataTable['output_type'] = 'display_data';\n",
              "          await google.colab.output.renderOutput(dataTable, element);\n",
              "          const docLink = document.createElement('div');\n",
              "          docLink.innerHTML = docLinkHtml;\n",
              "          element.appendChild(docLink);\n",
              "        }\n",
              "      </script>\n",
              "    </div>\n",
              "  </div>\n",
              "  "
            ]
          },
          "metadata": {},
          "execution_count": 37
        }
      ]
    },
    {
      "cell_type": "code",
      "source": [
        "target_names = ['class 0', 'class 1','class 2','class 3','class 4']\n",
        "# logistic regression baseline\n",
        "print(classification_report(y_test, logreg_y_preds, target_names=target_names))\n",
        "# SVM baseline\n",
        "print(classification_report(y_test, SVM_y_preds, target_names=target_names))"
      ],
      "metadata": {
        "colab": {
          "base_uri": "https://localhost:8080/"
        },
        "id": "JpyLJ0rympIp",
        "outputId": "ae7e5d8f-a30f-46ba-b820-2c4b199a4a5a"
      },
      "execution_count": null,
      "outputs": [
        {
          "output_type": "stream",
          "name": "stdout",
          "text": [
            "              precision    recall  f1-score   support\n",
            "\n",
            "     class 0       0.49      0.20      0.29        93\n",
            "     class 1       0.69      0.80      0.74       416\n",
            "     class 2       0.46      0.56      0.51       195\n",
            "     class 3       0.56      0.53      0.55       159\n",
            "     class 4       0.60      0.40      0.48       163\n",
            "\n",
            "    accuracy                           0.60      1026\n",
            "   macro avg       0.56      0.50      0.51      1026\n",
            "weighted avg       0.59      0.60      0.58      1026\n",
            "\n",
            "              precision    recall  f1-score   support\n",
            "\n",
            "     class 0       0.44      0.49      0.47        93\n",
            "     class 1       0.75      0.64      0.70       416\n",
            "     class 2       0.45      0.56      0.50       195\n",
            "     class 3       0.51      0.54      0.52       159\n",
            "     class 4       0.53      0.50      0.51       163\n",
            "\n",
            "    accuracy                           0.58      1026\n",
            "   macro avg       0.54      0.55      0.54      1026\n",
            "weighted avg       0.59      0.58      0.58      1026\n",
            "\n"
          ]
        }
      ]
    },
    {
      "cell_type": "code",
      "source": [
        ""
      ],
      "metadata": {
        "id": "iD7398JWnF9u"
      },
      "execution_count": null,
      "outputs": []
    },
    {
      "cell_type": "code",
      "source": [
        "scorers = {\n",
        "            'f1_score': make_scorer(f1_score, average='micro'),\n",
        "            'precision_score': make_scorer(precision_score, average='micro'),\n",
        "            'recall_score': make_scorer(recall_score, average='micro'),\n",
        "            'accuracy_score': make_scorer(accuracy_score)\n",
        "          }"
      ],
      "metadata": {
        "colab": {
          "base_uri": "https://localhost:8080/",
          "height": 235
        },
        "id": "IPpDuQf_ifsA",
        "outputId": "1d26c328-5af9-4c5d-d26f-dc3350547a30"
      },
      "execution_count": null,
      "outputs": [
        {
          "output_type": "error",
          "ename": "NameError",
          "evalue": "ignored",
          "traceback": [
            "\u001b[0;31m---------------------------------------------------------------------------\u001b[0m",
            "\u001b[0;31mNameError\u001b[0m                                 Traceback (most recent call last)",
            "\u001b[0;32m<ipython-input-24-8cda1300cc02>\u001b[0m in \u001b[0;36m<module>\u001b[0;34m()\u001b[0m\n\u001b[1;32m      1\u001b[0m scorers = {\n\u001b[0;32m----> 2\u001b[0;31m             \u001b[0;34m'f1_score'\u001b[0m\u001b[0;34m:\u001b[0m \u001b[0mmake_scorer\u001b[0m\u001b[0;34m(\u001b[0m\u001b[0mf1_score\u001b[0m\u001b[0;34m,\u001b[0m \u001b[0maverage\u001b[0m\u001b[0;34m=\u001b[0m\u001b[0;34m'micro'\u001b[0m\u001b[0;34m)\u001b[0m\u001b[0;34m,\u001b[0m\u001b[0;34m\u001b[0m\u001b[0;34m\u001b[0m\u001b[0m\n\u001b[0m\u001b[1;32m      3\u001b[0m             \u001b[0;34m'precision_score'\u001b[0m\u001b[0;34m:\u001b[0m \u001b[0mmake_scorer\u001b[0m\u001b[0;34m(\u001b[0m\u001b[0mprecision_score\u001b[0m\u001b[0;34m,\u001b[0m \u001b[0maverage\u001b[0m\u001b[0;34m=\u001b[0m\u001b[0;34m'micro'\u001b[0m\u001b[0;34m)\u001b[0m\u001b[0;34m,\u001b[0m\u001b[0;34m\u001b[0m\u001b[0;34m\u001b[0m\u001b[0m\n\u001b[1;32m      4\u001b[0m             \u001b[0;34m'recall_score'\u001b[0m\u001b[0;34m:\u001b[0m \u001b[0mmake_scorer\u001b[0m\u001b[0;34m(\u001b[0m\u001b[0mrecall_score\u001b[0m\u001b[0;34m,\u001b[0m \u001b[0maverage\u001b[0m\u001b[0;34m=\u001b[0m\u001b[0;34m'micro'\u001b[0m\u001b[0;34m)\u001b[0m\u001b[0;34m,\u001b[0m\u001b[0;34m\u001b[0m\u001b[0;34m\u001b[0m\u001b[0m\n\u001b[1;32m      5\u001b[0m             \u001b[0;34m'accuracy_score'\u001b[0m\u001b[0;34m:\u001b[0m \u001b[0mmake_scorer\u001b[0m\u001b[0;34m(\u001b[0m\u001b[0maccuracy_score\u001b[0m\u001b[0;34m)\u001b[0m\u001b[0;34m\u001b[0m\u001b[0;34m\u001b[0m\u001b[0m\n",
            "\u001b[0;31mNameError\u001b[0m: name 'make_scorer' is not defined"
          ]
        }
      ]
    },
    {
      "cell_type": "code",
      "source": [
        "print(\"Precision Score : \",precision_score(y_test, y_pred, \n",
        "                                           pos_label='positive',\n",
        "                                           average='micro'))\n",
        "print(\"Recall Score : \",recall_score(y_test, y_pred, \n",
        "                                           pos_label='positive',\n",
        "                                           average='micro'))"
      ],
      "metadata": {
        "colab": {
          "base_uri": "https://localhost:8080/",
          "height": 235
        },
        "id": "GjVazLkohLQo",
        "outputId": "3c094a83-8e81-4c44-999c-f20c6172734a"
      },
      "execution_count": null,
      "outputs": [
        {
          "output_type": "error",
          "ename": "NameError",
          "evalue": "ignored",
          "traceback": [
            "\u001b[0;31m---------------------------------------------------------------------------\u001b[0m",
            "\u001b[0;31mNameError\u001b[0m                                 Traceback (most recent call last)",
            "\u001b[0;32m<ipython-input-20-a6bca828998e>\u001b[0m in \u001b[0;36m<module>\u001b[0;34m()\u001b[0m\n\u001b[0;32m----> 1\u001b[0;31m print(\"Precision Score : \",precision_score(y_test, y_pred, \n\u001b[0m\u001b[1;32m      2\u001b[0m                                            \u001b[0mpos_label\u001b[0m\u001b[0;34m=\u001b[0m\u001b[0;34m'positive'\u001b[0m\u001b[0;34m,\u001b[0m\u001b[0;34m\u001b[0m\u001b[0;34m\u001b[0m\u001b[0m\n\u001b[1;32m      3\u001b[0m                                            average='micro'))\n\u001b[1;32m      4\u001b[0m print(\"Recall Score : \",recall_score(y_test, y_pred, \n\u001b[1;32m      5\u001b[0m                                            \u001b[0mpos_label\u001b[0m\u001b[0;34m=\u001b[0m\u001b[0;34m'positive'\u001b[0m\u001b[0;34m,\u001b[0m\u001b[0;34m\u001b[0m\u001b[0;34m\u001b[0m\u001b[0m\n",
            "\u001b[0;31mNameError\u001b[0m: name 'y_pred' is not defined"
          ]
        }
      ]
    }
  ]
}