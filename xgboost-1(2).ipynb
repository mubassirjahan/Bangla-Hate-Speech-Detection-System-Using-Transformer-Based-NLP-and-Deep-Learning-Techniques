{
  "nbformat": 4,
  "nbformat_minor": 0,
  "metadata": {
    "colab": {
      "name": "xgboost",
      "provenance": [],
      "collapsed_sections": []
    },
    "kernelspec": {
      "name": "python3",
      "display_name": "Python 3"
    },
    "language_info": {
      "name": "python"
    }
  },
  "cells": [
    {
      "cell_type": "code",
      "execution_count": 2,
      "metadata": {
        "id": "bG4TRTO9D7NF"
      },
      "outputs": [],
      "source": [
        "import numpy as np # linear algebra\n",
        "import pandas as pd # data processing, CSV file I/O (e.g. pd.read_csv)\n",
        "import matplotlib.pyplot as plt\n",
        "import re\n",
        "import nltk\n",
        "from nltk.corpus import stopwords\n",
        "from sklearn.model_selection import train_test_split\n",
        "from sklearn.metrics import confusion_matrix\n",
        "from mlxtend.plotting import plot_confusion_matrix\n",
        "\n",
        "from sklearn import preprocessing\n",
        "\n",
        "import tensorflow as tf\n",
        "from tensorflow.keras.models import Sequential\n",
        "from tensorflow.keras.layers import LSTM, MaxPool1D, Dropout, Dense, GlobalMaxPooling1D, Embedding, Activation\n",
        "from tensorflow.keras.utils import to_categorical\n",
        "from keras.preprocessing.text import Tokenizer\n",
        "from keras.preprocessing.sequence import pad_sequences"
      ]
    },
    {
      "cell_type": "code",
      "source": [
        "train_data = pd.read_csv('/content/TargetData.csv')\n",
        "test_data = pd.read_csv('/content/TargetData.csv')"
      ],
      "metadata": {
        "id": "SJQxoVnREQAI"
      },
      "execution_count": 12,
      "outputs": []
    },
    {
      "cell_type": "code",
      "source": [
        "train_data.head()"
      ],
      "metadata": {
        "colab": {
          "base_uri": "https://localhost:8080/",
          "height": 206
        },
        "id": "lcCkb64nE0XY",
        "outputId": "d123e6fc-188d-4328-aa6d-ad0aaf695a5a"
      },
      "execution_count": 13,
      "outputs": [
        {
          "output_type": "execute_result",
          "data": {
            "text/plain": [
              "                                                text         label  target\n",
              "0  ইনিই হচ্ছেন ভারতের প্রতিরক্ষামন্ত্রী মনোহর পা...  Geopolitical       1\n",
              "1    রেন্ডিয়াকে পৃথীবির মানচিএ থেকে মুচে ফেলতে হবে    Geopolitical       1\n",
              "2  এই মালাউনরা বাংগালিদের সাফল্য দেখে হিংসা করে ব...     Religious       2\n",
              "3                         আমরা বলতে কারা ভারত তাইতো   Geopolitical       1\n",
              "4                                পাকিস্তান আমার বাল   Geopolitical       1"
            ],
            "text/html": [
              "\n",
              "  <div id=\"df-725bcc96-8737-4832-ac99-28e86d073790\">\n",
              "    <div class=\"colab-df-container\">\n",
              "      <div>\n",
              "<style scoped>\n",
              "    .dataframe tbody tr th:only-of-type {\n",
              "        vertical-align: middle;\n",
              "    }\n",
              "\n",
              "    .dataframe tbody tr th {\n",
              "        vertical-align: top;\n",
              "    }\n",
              "\n",
              "    .dataframe thead th {\n",
              "        text-align: right;\n",
              "    }\n",
              "</style>\n",
              "<table border=\"1\" class=\"dataframe\">\n",
              "  <thead>\n",
              "    <tr style=\"text-align: right;\">\n",
              "      <th></th>\n",
              "      <th>text</th>\n",
              "      <th>label</th>\n",
              "      <th>target</th>\n",
              "    </tr>\n",
              "  </thead>\n",
              "  <tbody>\n",
              "    <tr>\n",
              "      <th>0</th>\n",
              "      <td>ইনিই হচ্ছেন ভারতের প্রতিরক্ষামন্ত্রী মনোহর পা...</td>\n",
              "      <td>Geopolitical</td>\n",
              "      <td>1</td>\n",
              "    </tr>\n",
              "    <tr>\n",
              "      <th>1</th>\n",
              "      <td>রেন্ডিয়াকে পৃথীবির মানচিএ থেকে মুচে ফেলতে হবে</td>\n",
              "      <td>Geopolitical</td>\n",
              "      <td>1</td>\n",
              "    </tr>\n",
              "    <tr>\n",
              "      <th>2</th>\n",
              "      <td>এই মালাউনরা বাংগালিদের সাফল্য দেখে হিংসা করে ব...</td>\n",
              "      <td>Religious</td>\n",
              "      <td>2</td>\n",
              "    </tr>\n",
              "    <tr>\n",
              "      <th>3</th>\n",
              "      <td>আমরা বলতে কারা ভারত তাইতো</td>\n",
              "      <td>Geopolitical</td>\n",
              "      <td>1</td>\n",
              "    </tr>\n",
              "    <tr>\n",
              "      <th>4</th>\n",
              "      <td>পাকিস্তান আমার বাল</td>\n",
              "      <td>Geopolitical</td>\n",
              "      <td>1</td>\n",
              "    </tr>\n",
              "  </tbody>\n",
              "</table>\n",
              "</div>\n",
              "      <button class=\"colab-df-convert\" onclick=\"convertToInteractive('df-725bcc96-8737-4832-ac99-28e86d073790')\"\n",
              "              title=\"Convert this dataframe to an interactive table.\"\n",
              "              style=\"display:none;\">\n",
              "        \n",
              "  <svg xmlns=\"http://www.w3.org/2000/svg\" height=\"24px\"viewBox=\"0 0 24 24\"\n",
              "       width=\"24px\">\n",
              "    <path d=\"M0 0h24v24H0V0z\" fill=\"none\"/>\n",
              "    <path d=\"M18.56 5.44l.94 2.06.94-2.06 2.06-.94-2.06-.94-.94-2.06-.94 2.06-2.06.94zm-11 1L8.5 8.5l.94-2.06 2.06-.94-2.06-.94L8.5 2.5l-.94 2.06-2.06.94zm10 10l.94 2.06.94-2.06 2.06-.94-2.06-.94-.94-2.06-.94 2.06-2.06.94z\"/><path d=\"M17.41 7.96l-1.37-1.37c-.4-.4-.92-.59-1.43-.59-.52 0-1.04.2-1.43.59L10.3 9.45l-7.72 7.72c-.78.78-.78 2.05 0 2.83L4 21.41c.39.39.9.59 1.41.59.51 0 1.02-.2 1.41-.59l7.78-7.78 2.81-2.81c.8-.78.8-2.07 0-2.86zM5.41 20L4 18.59l7.72-7.72 1.47 1.35L5.41 20z\"/>\n",
              "  </svg>\n",
              "      </button>\n",
              "      \n",
              "  <style>\n",
              "    .colab-df-container {\n",
              "      display:flex;\n",
              "      flex-wrap:wrap;\n",
              "      gap: 12px;\n",
              "    }\n",
              "\n",
              "    .colab-df-convert {\n",
              "      background-color: #E8F0FE;\n",
              "      border: none;\n",
              "      border-radius: 50%;\n",
              "      cursor: pointer;\n",
              "      display: none;\n",
              "      fill: #1967D2;\n",
              "      height: 32px;\n",
              "      padding: 0 0 0 0;\n",
              "      width: 32px;\n",
              "    }\n",
              "\n",
              "    .colab-df-convert:hover {\n",
              "      background-color: #E2EBFA;\n",
              "      box-shadow: 0px 1px 2px rgba(60, 64, 67, 0.3), 0px 1px 3px 1px rgba(60, 64, 67, 0.15);\n",
              "      fill: #174EA6;\n",
              "    }\n",
              "\n",
              "    [theme=dark] .colab-df-convert {\n",
              "      background-color: #3B4455;\n",
              "      fill: #D2E3FC;\n",
              "    }\n",
              "\n",
              "    [theme=dark] .colab-df-convert:hover {\n",
              "      background-color: #434B5C;\n",
              "      box-shadow: 0px 1px 3px 1px rgba(0, 0, 0, 0.15);\n",
              "      filter: drop-shadow(0px 1px 2px rgba(0, 0, 0, 0.3));\n",
              "      fill: #FFFFFF;\n",
              "    }\n",
              "  </style>\n",
              "\n",
              "      <script>\n",
              "        const buttonEl =\n",
              "          document.querySelector('#df-725bcc96-8737-4832-ac99-28e86d073790 button.colab-df-convert');\n",
              "        buttonEl.style.display =\n",
              "          google.colab.kernel.accessAllowed ? 'block' : 'none';\n",
              "\n",
              "        async function convertToInteractive(key) {\n",
              "          const element = document.querySelector('#df-725bcc96-8737-4832-ac99-28e86d073790');\n",
              "          const dataTable =\n",
              "            await google.colab.kernel.invokeFunction('convertToInteractive',\n",
              "                                                     [key], {});\n",
              "          if (!dataTable) return;\n",
              "\n",
              "          const docLinkHtml = 'Like what you see? Visit the ' +\n",
              "            '<a target=\"_blank\" href=https://colab.research.google.com/notebooks/data_table.ipynb>data table notebook</a>'\n",
              "            + ' to learn more about interactive tables.';\n",
              "          element.innerHTML = '';\n",
              "          dataTable['output_type'] = 'display_data';\n",
              "          await google.colab.output.renderOutput(dataTable, element);\n",
              "          const docLink = document.createElement('div');\n",
              "          docLink.innerHTML = docLinkHtml;\n",
              "          element.appendChild(docLink);\n",
              "        }\n",
              "      </script>\n",
              "    </div>\n",
              "  </div>\n",
              "  "
            ]
          },
          "metadata": {},
          "execution_count": 13
        }
      ]
    },
    {
      "cell_type": "code",
      "source": [
        "def preprocess_text(sen):\n",
        "    # lower the character\n",
        "    sentence = sen.lower()\n",
        "    \n",
        "    # Remove punctuations and numbers\n",
        "    sentence = re.sub('[^a-zA-Z]', ' ', sen)\n",
        "\n",
        "    # Single character removal\n",
        "    sentence = re.sub(r\"\\s+[a-zA-Z]\\s+\", ' ', sentence)\n",
        "\n",
        "    # Removing multiple spaces\n",
        "    sentence = re.sub(r'\\s+', ' ', sentence)\n",
        "    \n",
        "    stops = stopwords.words('english')\n",
        "    \n",
        "    for word in sentence.split():\n",
        "        if word in stops:\n",
        "            sentence = sentence.replace(word, '')\n",
        "    return sentence"
      ],
      "metadata": {
        "id": "ov-8pzZZE5NA"
      },
      "execution_count": 14,
      "outputs": []
    },
    {
      "cell_type": "code",
      "source": [
        "import nltk\n",
        "nltk.download('stopwords')"
      ],
      "metadata": {
        "colab": {
          "base_uri": "https://localhost:8080/"
        },
        "id": "96BnZJ3rFWgP",
        "outputId": "dc1afc98-a164-400c-aa71-1be71834afc9"
      },
      "execution_count": 15,
      "outputs": [
        {
          "output_type": "stream",
          "name": "stderr",
          "text": [
            "[nltk_data] Downloading package stopwords to /root/nltk_data...\n",
            "[nltk_data]   Package stopwords is already up-to-date!\n"
          ]
        },
        {
          "output_type": "execute_result",
          "data": {
            "text/plain": [
              "True"
            ]
          },
          "metadata": {},
          "execution_count": 15
        }
      ]
    },
    {
      "cell_type": "code",
      "source": [
        "# preprocess data\n",
        "\n",
        "train_data['text'] = train_data['text'].apply(lambda x : preprocess_text(x))\n",
        "test_data['text'] = test_data['text'].apply(lambda x : preprocess_text(x))"
      ],
      "metadata": {
        "id": "2IPHECutFF1y"
      },
      "execution_count": 16,
      "outputs": []
    },
    {
      "cell_type": "code",
      "source": [
        "# tokenize the data\n",
        "\n",
        "token = Tokenizer(28164)\n",
        "token.fit_on_texts(train_data['text'])\n",
        "text = token.texts_to_sequences(train_data['text'])\n",
        "text = pad_sequences(text, maxlen=100)"
      ],
      "metadata": {
        "id": "ROHphrGMFbpB"
      },
      "execution_count": 17,
      "outputs": []
    },
    {
      "cell_type": "code",
      "source": [
        "y = train_data['target'].values"
      ],
      "metadata": {
        "id": "ocXWFh8WFlpH"
      },
      "execution_count": 19,
      "outputs": []
    },
    {
      "cell_type": "code",
      "source": [
        "# split the data into training and testing data\n",
        "\n",
        "X_train, X_test, y_train, y_test = train_test_split(text, y, test_size=0.2, random_state=1, stratify=y)"
      ],
      "metadata": {
        "id": "HHFVMQDwFzZ0"
      },
      "execution_count": 20,
      "outputs": []
    },
    {
      "cell_type": "code",
      "source": [
        "# build the model\n",
        "\n",
        "max_features = 28164\n",
        "embedding_dim = 32\n",
        "\n",
        "model = Sequential()\n",
        "model.add(Embedding(max_features, embedding_dim))\n",
        "model.add(Dropout(0.2))\n",
        "model.add(LSTM(32, return_sequences=True))\n",
        "model.add(Dropout(0.2))\n",
        "model.add(Dense(1))\n",
        "model.add(Activation('sigmoid'))\n",
        "model.summary()"
      ],
      "metadata": {
        "colab": {
          "base_uri": "https://localhost:8080/"
        },
        "id": "f_x6OQm5Gcmm",
        "outputId": "a3cca557-d1ff-4efa-8fd6-7a2de0d58bb2"
      },
      "execution_count": 21,
      "outputs": [
        {
          "output_type": "stream",
          "name": "stdout",
          "text": [
            "Model: \"sequential\"\n",
            "_________________________________________________________________\n",
            " Layer (type)                Output Shape              Param #   \n",
            "=================================================================\n",
            " embedding (Embedding)       (None, None, 32)          901248    \n",
            "                                                                 \n",
            " dropout (Dropout)           (None, None, 32)          0         \n",
            "                                                                 \n",
            " lstm (LSTM)                 (None, None, 32)          8320      \n",
            "                                                                 \n",
            " dropout_1 (Dropout)         (None, None, 32)          0         \n",
            "                                                                 \n",
            " dense (Dense)               (None, None, 1)           33        \n",
            "                                                                 \n",
            " activation (Activation)     (None, None, 1)           0         \n",
            "                                                                 \n",
            "=================================================================\n",
            "Total params: 909,601\n",
            "Trainable params: 909,601\n",
            "Non-trainable params: 0\n",
            "_________________________________________________________________\n"
          ]
        }
      ]
    },
    {
      "cell_type": "code",
      "source": [
        "# compile and train model\n",
        "\n",
        "model.compile(optimizer='adam',loss = tf.keras.losses.SparseCategoricalCrossentropy(from_logits=True), metrics=['accuracy'])"
      ],
      "metadata": {
        "id": "DgANMwV1GhDL"
      },
      "execution_count": 23,
      "outputs": []
    },
    {
      "cell_type": "code",
      "source": [
        "history = model.fit(X_train, y_train, batch_size=1024, validation_data=(X_test, y_test), epochs=5)"
      ],
      "metadata": {
        "colab": {
          "base_uri": "https://localhost:8080/",
          "height": 1000
        },
        "id": "l4jiCNSfHJ7L",
        "outputId": "6e658cb6-d12b-41f5-d3af-2761ce202381"
      },
      "execution_count": 24,
      "outputs": [
        {
          "output_type": "stream",
          "name": "stdout",
          "text": [
            "Epoch 1/5\n"
          ]
        },
        {
          "output_type": "stream",
          "name": "stderr",
          "text": [
            "/usr/local/lib/python3.7/dist-packages/tensorflow/python/util/dispatch.py:1082: UserWarning: \"`sparse_categorical_crossentropy` received `from_logits=True`, but the `output` argument was produced by a sigmoid or softmax activation and thus does not represent logits. Was this intended?\"\n",
            "  return dispatch_target(*args, **kwargs)\n"
          ]
        },
        {
          "output_type": "error",
          "ename": "InvalidArgumentError",
          "evalue": "ignored",
          "traceback": [
            "\u001b[0;31m---------------------------------------------------------------------------\u001b[0m",
            "\u001b[0;31mInvalidArgumentError\u001b[0m                      Traceback (most recent call last)",
            "\u001b[0;32m<ipython-input-24-de6c89b07de1>\u001b[0m in \u001b[0;36m<module>\u001b[0;34m()\u001b[0m\n\u001b[0;32m----> 1\u001b[0;31m \u001b[0mhistory\u001b[0m \u001b[0;34m=\u001b[0m \u001b[0mmodel\u001b[0m\u001b[0;34m.\u001b[0m\u001b[0mfit\u001b[0m\u001b[0;34m(\u001b[0m\u001b[0mX_train\u001b[0m\u001b[0;34m,\u001b[0m \u001b[0my_train\u001b[0m\u001b[0;34m,\u001b[0m \u001b[0mbatch_size\u001b[0m\u001b[0;34m=\u001b[0m\u001b[0;36m1024\u001b[0m\u001b[0;34m,\u001b[0m \u001b[0mvalidation_data\u001b[0m\u001b[0;34m=\u001b[0m\u001b[0;34m(\u001b[0m\u001b[0mX_test\u001b[0m\u001b[0;34m,\u001b[0m \u001b[0my_test\u001b[0m\u001b[0;34m)\u001b[0m\u001b[0;34m,\u001b[0m \u001b[0mepochs\u001b[0m\u001b[0;34m=\u001b[0m\u001b[0;36m5\u001b[0m\u001b[0;34m)\u001b[0m\u001b[0;34m\u001b[0m\u001b[0;34m\u001b[0m\u001b[0m\n\u001b[0m",
            "\u001b[0;32m/usr/local/lib/python3.7/dist-packages/keras/utils/traceback_utils.py\u001b[0m in \u001b[0;36merror_handler\u001b[0;34m(*args, **kwargs)\u001b[0m\n\u001b[1;32m     65\u001b[0m     \u001b[0;32mexcept\u001b[0m \u001b[0mException\u001b[0m \u001b[0;32mas\u001b[0m \u001b[0me\u001b[0m\u001b[0;34m:\u001b[0m  \u001b[0;31m# pylint: disable=broad-except\u001b[0m\u001b[0;34m\u001b[0m\u001b[0;34m\u001b[0m\u001b[0m\n\u001b[1;32m     66\u001b[0m       \u001b[0mfiltered_tb\u001b[0m \u001b[0;34m=\u001b[0m \u001b[0m_process_traceback_frames\u001b[0m\u001b[0;34m(\u001b[0m\u001b[0me\u001b[0m\u001b[0;34m.\u001b[0m\u001b[0m__traceback__\u001b[0m\u001b[0;34m)\u001b[0m\u001b[0;34m\u001b[0m\u001b[0;34m\u001b[0m\u001b[0m\n\u001b[0;32m---> 67\u001b[0;31m       \u001b[0;32mraise\u001b[0m \u001b[0me\u001b[0m\u001b[0;34m.\u001b[0m\u001b[0mwith_traceback\u001b[0m\u001b[0;34m(\u001b[0m\u001b[0mfiltered_tb\u001b[0m\u001b[0;34m)\u001b[0m \u001b[0;32mfrom\u001b[0m \u001b[0;32mNone\u001b[0m\u001b[0;34m\u001b[0m\u001b[0;34m\u001b[0m\u001b[0m\n\u001b[0m\u001b[1;32m     68\u001b[0m     \u001b[0;32mfinally\u001b[0m\u001b[0;34m:\u001b[0m\u001b[0;34m\u001b[0m\u001b[0;34m\u001b[0m\u001b[0m\n\u001b[1;32m     69\u001b[0m       \u001b[0;32mdel\u001b[0m \u001b[0mfiltered_tb\u001b[0m\u001b[0;34m\u001b[0m\u001b[0;34m\u001b[0m\u001b[0m\n",
            "\u001b[0;32m/usr/local/lib/python3.7/dist-packages/tensorflow/python/eager/execute.py\u001b[0m in \u001b[0;36mquick_execute\u001b[0;34m(op_name, num_outputs, inputs, attrs, ctx, name)\u001b[0m\n\u001b[1;32m     53\u001b[0m     \u001b[0mctx\u001b[0m\u001b[0;34m.\u001b[0m\u001b[0mensure_initialized\u001b[0m\u001b[0;34m(\u001b[0m\u001b[0;34m)\u001b[0m\u001b[0;34m\u001b[0m\u001b[0;34m\u001b[0m\u001b[0m\n\u001b[1;32m     54\u001b[0m     tensors = pywrap_tfe.TFE_Py_Execute(ctx._handle, device_name, op_name,\n\u001b[0;32m---> 55\u001b[0;31m                                         inputs, attrs, num_outputs)\n\u001b[0m\u001b[1;32m     56\u001b[0m   \u001b[0;32mexcept\u001b[0m \u001b[0mcore\u001b[0m\u001b[0;34m.\u001b[0m\u001b[0m_NotOkStatusException\u001b[0m \u001b[0;32mas\u001b[0m \u001b[0me\u001b[0m\u001b[0;34m:\u001b[0m\u001b[0;34m\u001b[0m\u001b[0;34m\u001b[0m\u001b[0m\n\u001b[1;32m     57\u001b[0m     \u001b[0;32mif\u001b[0m \u001b[0mname\u001b[0m \u001b[0;32mis\u001b[0m \u001b[0;32mnot\u001b[0m \u001b[0;32mNone\u001b[0m\u001b[0;34m:\u001b[0m\u001b[0;34m\u001b[0m\u001b[0;34m\u001b[0m\u001b[0m\n",
            "\u001b[0;31mInvalidArgumentError\u001b[0m: Graph execution error:\n\nDetected at node 'sparse_categorical_crossentropy/SparseSoftmaxCrossEntropyWithLogits/SparseSoftmaxCrossEntropyWithLogits' defined at (most recent call last):\n    File \"/usr/lib/python3.7/runpy.py\", line 193, in _run_module_as_main\n      \"__main__\", mod_spec)\n    File \"/usr/lib/python3.7/runpy.py\", line 85, in _run_code\n      exec(code, run_globals)\n    File \"/usr/local/lib/python3.7/dist-packages/ipykernel_launcher.py\", line 16, in <module>\n      app.launch_new_instance()\n    File \"/usr/local/lib/python3.7/dist-packages/traitlets/config/application.py\", line 846, in launch_instance\n      app.start()\n    File \"/usr/local/lib/python3.7/dist-packages/ipykernel/kernelapp.py\", line 499, in start\n      self.io_loop.start()\n    File \"/usr/local/lib/python3.7/dist-packages/tornado/platform/asyncio.py\", line 132, in start\n      self.asyncio_loop.run_forever()\n    File \"/usr/lib/python3.7/asyncio/base_events.py\", line 541, in run_forever\n      self._run_once()\n    File \"/usr/lib/python3.7/asyncio/base_events.py\", line 1786, in _run_once\n      handle._run()\n    File \"/usr/lib/python3.7/asyncio/events.py\", line 88, in _run\n      self._context.run(self._callback, *self._args)\n    File \"/usr/local/lib/python3.7/dist-packages/tornado/platform/asyncio.py\", line 122, in _handle_events\n      handler_func(fileobj, events)\n    File \"/usr/local/lib/python3.7/dist-packages/tornado/stack_context.py\", line 300, in null_wrapper\n      return fn(*args, **kwargs)\n    File \"/usr/local/lib/python3.7/dist-packages/zmq/eventloop/zmqstream.py\", line 577, in _handle_events\n      self._handle_recv()\n    File \"/usr/local/lib/python3.7/dist-packages/zmq/eventloop/zmqstream.py\", line 606, in _handle_recv\n      self._run_callback(callback, msg)\n    File \"/usr/local/lib/python3.7/dist-packages/zmq/eventloop/zmqstream.py\", line 556, in _run_callback\n      callback(*args, **kwargs)\n    File \"/usr/local/lib/python3.7/dist-packages/tornado/stack_context.py\", line 300, in null_wrapper\n      return fn(*args, **kwargs)\n    File \"/usr/local/lib/python3.7/dist-packages/ipykernel/kernelbase.py\", line 283, in dispatcher\n      return self.dispatch_shell(stream, msg)\n    File \"/usr/local/lib/python3.7/dist-packages/ipykernel/kernelbase.py\", line 233, in dispatch_shell\n      handler(stream, idents, msg)\n    File \"/usr/local/lib/python3.7/dist-packages/ipykernel/kernelbase.py\", line 399, in execute_request\n      user_expressions, allow_stdin)\n    File \"/usr/local/lib/python3.7/dist-packages/ipykernel/ipkernel.py\", line 208, in do_execute\n      res = shell.run_cell(code, store_history=store_history, silent=silent)\n    File \"/usr/local/lib/python3.7/dist-packages/ipykernel/zmqshell.py\", line 537, in run_cell\n      return super(ZMQInteractiveShell, self).run_cell(*args, **kwargs)\n    File \"/usr/local/lib/python3.7/dist-packages/IPython/core/interactiveshell.py\", line 2718, in run_cell\n      interactivity=interactivity, compiler=compiler, result=result)\n    File \"/usr/local/lib/python3.7/dist-packages/IPython/core/interactiveshell.py\", line 2822, in run_ast_nodes\n      if self.run_code(code, result):\n    File \"/usr/local/lib/python3.7/dist-packages/IPython/core/interactiveshell.py\", line 2882, in run_code\n      exec(code_obj, self.user_global_ns, self.user_ns)\n    File \"<ipython-input-24-de6c89b07de1>\", line 1, in <module>\n      history = model.fit(X_train, y_train, batch_size=1024, validation_data=(X_test, y_test), epochs=5)\n    File \"/usr/local/lib/python3.7/dist-packages/keras/utils/traceback_utils.py\", line 64, in error_handler\n      return fn(*args, **kwargs)\n    File \"/usr/local/lib/python3.7/dist-packages/keras/engine/training.py\", line 1384, in fit\n      tmp_logs = self.train_function(iterator)\n    File \"/usr/local/lib/python3.7/dist-packages/keras/engine/training.py\", line 1021, in train_function\n      return step_function(self, iterator)\n    File \"/usr/local/lib/python3.7/dist-packages/keras/engine/training.py\", line 1010, in step_function\n      outputs = model.distribute_strategy.run(run_step, args=(data,))\n    File \"/usr/local/lib/python3.7/dist-packages/keras/engine/training.py\", line 1000, in run_step\n      outputs = model.train_step(data)\n    File \"/usr/local/lib/python3.7/dist-packages/keras/engine/training.py\", line 860, in train_step\n      loss = self.compute_loss(x, y, y_pred, sample_weight)\n    File \"/usr/local/lib/python3.7/dist-packages/keras/engine/training.py\", line 919, in compute_loss\n      y, y_pred, sample_weight, regularization_losses=self.losses)\n    File \"/usr/local/lib/python3.7/dist-packages/keras/engine/compile_utils.py\", line 201, in __call__\n      loss_value = loss_obj(y_t, y_p, sample_weight=sw)\n    File \"/usr/local/lib/python3.7/dist-packages/keras/losses.py\", line 141, in __call__\n      losses = call_fn(y_true, y_pred)\n    File \"/usr/local/lib/python3.7/dist-packages/keras/losses.py\", line 245, in call\n      return ag_fn(y_true, y_pred, **self._fn_kwargs)\n    File \"/usr/local/lib/python3.7/dist-packages/keras/losses.py\", line 1863, in sparse_categorical_crossentropy\n      y_true, y_pred, from_logits=from_logits, axis=axis)\n    File \"/usr/local/lib/python3.7/dist-packages/keras/backend.py\", line 5203, in sparse_categorical_crossentropy\n      labels=target, logits=output)\nNode: 'sparse_categorical_crossentropy/SparseSoftmaxCrossEntropyWithLogits/SparseSoftmaxCrossEntropyWithLogits'\nlogits and labels must have the same first dimension, got logits shape [7900,1] and labels shape [79]\n\t [[{{node sparse_categorical_crossentropy/SparseSoftmaxCrossEntropyWithLogits/SparseSoftmaxCrossEntropyWithLogits}}]] [Op:__inference_train_function_3751]"
          ]
        }
      ]
    },
    {
      "cell_type": "code",
      "source": [
        "model.compile(optimizer=tf.keras.optimizers.Adam(learning_rate=1e-3),\n",
        "              loss=tf.keras.losses.BinaryCrossentropy(),\n",
        "              metrics=[tf.keras.metrics.BinaryAccuracy(),\n",
        "                       tf.keras.metrics.FalseNegatives()])"
      ],
      "metadata": {
        "id": "wO8Tz1AFHssa"
      },
      "execution_count": 25,
      "outputs": []
    },
    {
      "cell_type": "code",
      "source": [
        "model.fit(\n",
        "    x=None,\n",
        "    y=None,\n",
        "    batch_size=None,\n",
        "    epochs=1,\n",
        "    verbose=\"auto\",\n",
        "    callbacks=None,\n",
        "    validation_split=0.0,\n",
        "    validation_data=None,\n",
        "    shuffle=True,\n",
        "    class_weight=None,\n",
        "    sample_weight=None,\n",
        "    initial_epoch=0,\n",
        "    steps_per_epoch=None,\n",
        "    validation_steps=None,\n",
        "    validation_batch_size=None,\n",
        "    validation_freq=1,\n",
        "    max_queue_size=10,\n",
        "    workers=1,\n",
        "    use_multiprocessing=False,\n",
        ")"
      ],
      "metadata": {
        "colab": {
          "base_uri": "https://localhost:8080/",
          "height": 363
        },
        "id": "EgWS2jFWIBD8",
        "outputId": "e598d8ee-44ea-4cdc-d8b5-7f3c056e1876"
      },
      "execution_count": 27,
      "outputs": [
        {
          "output_type": "error",
          "ename": "ValueError",
          "evalue": "ignored",
          "traceback": [
            "\u001b[0;31m---------------------------------------------------------------------------\u001b[0m",
            "\u001b[0;31mValueError\u001b[0m                                Traceback (most recent call last)",
            "\u001b[0;32m<ipython-input-27-f7b0ee6474a0>\u001b[0m in \u001b[0;36m<module>\u001b[0;34m()\u001b[0m\n\u001b[1;32m     18\u001b[0m     \u001b[0mmax_queue_size\u001b[0m\u001b[0;34m=\u001b[0m\u001b[0;36m10\u001b[0m\u001b[0;34m,\u001b[0m\u001b[0;34m\u001b[0m\u001b[0;34m\u001b[0m\u001b[0m\n\u001b[1;32m     19\u001b[0m     \u001b[0mworkers\u001b[0m\u001b[0;34m=\u001b[0m\u001b[0;36m1\u001b[0m\u001b[0;34m,\u001b[0m\u001b[0;34m\u001b[0m\u001b[0;34m\u001b[0m\u001b[0m\n\u001b[0;32m---> 20\u001b[0;31m     \u001b[0muse_multiprocessing\u001b[0m\u001b[0;34m=\u001b[0m\u001b[0;32mFalse\u001b[0m\u001b[0;34m,\u001b[0m\u001b[0;34m\u001b[0m\u001b[0;34m\u001b[0m\u001b[0m\n\u001b[0m\u001b[1;32m     21\u001b[0m )\n",
            "\u001b[0;32m/usr/local/lib/python3.7/dist-packages/keras/utils/traceback_utils.py\u001b[0m in \u001b[0;36merror_handler\u001b[0;34m(*args, **kwargs)\u001b[0m\n\u001b[1;32m     65\u001b[0m     \u001b[0;32mexcept\u001b[0m \u001b[0mException\u001b[0m \u001b[0;32mas\u001b[0m \u001b[0me\u001b[0m\u001b[0;34m:\u001b[0m  \u001b[0;31m# pylint: disable=broad-except\u001b[0m\u001b[0;34m\u001b[0m\u001b[0;34m\u001b[0m\u001b[0m\n\u001b[1;32m     66\u001b[0m       \u001b[0mfiltered_tb\u001b[0m \u001b[0;34m=\u001b[0m \u001b[0m_process_traceback_frames\u001b[0m\u001b[0;34m(\u001b[0m\u001b[0me\u001b[0m\u001b[0;34m.\u001b[0m\u001b[0m__traceback__\u001b[0m\u001b[0;34m)\u001b[0m\u001b[0;34m\u001b[0m\u001b[0;34m\u001b[0m\u001b[0m\n\u001b[0;32m---> 67\u001b[0;31m       \u001b[0;32mraise\u001b[0m \u001b[0me\u001b[0m\u001b[0;34m.\u001b[0m\u001b[0mwith_traceback\u001b[0m\u001b[0;34m(\u001b[0m\u001b[0mfiltered_tb\u001b[0m\u001b[0;34m)\u001b[0m \u001b[0;32mfrom\u001b[0m \u001b[0;32mNone\u001b[0m\u001b[0;34m\u001b[0m\u001b[0;34m\u001b[0m\u001b[0m\n\u001b[0m\u001b[1;32m     68\u001b[0m     \u001b[0;32mfinally\u001b[0m\u001b[0;34m:\u001b[0m\u001b[0;34m\u001b[0m\u001b[0;34m\u001b[0m\u001b[0m\n\u001b[1;32m     69\u001b[0m       \u001b[0;32mdel\u001b[0m \u001b[0mfiltered_tb\u001b[0m\u001b[0;34m\u001b[0m\u001b[0;34m\u001b[0m\u001b[0m\n",
            "\u001b[0;32m/usr/local/lib/python3.7/dist-packages/keras/engine/data_adapter.py\u001b[0m in \u001b[0;36mselect_data_adapter\u001b[0;34m(x, y)\u001b[0m\n\u001b[1;32m    985\u001b[0m         \u001b[0;34m\"Failed to find data adapter that can handle \"\u001b[0m\u001b[0;34m\u001b[0m\u001b[0;34m\u001b[0m\u001b[0m\n\u001b[1;32m    986\u001b[0m         \"input: {}, {}\".format(\n\u001b[0;32m--> 987\u001b[0;31m             _type_name(x), _type_name(y)))\n\u001b[0m\u001b[1;32m    988\u001b[0m   \u001b[0;32melif\u001b[0m \u001b[0mlen\u001b[0m\u001b[0;34m(\u001b[0m\u001b[0madapter_cls\u001b[0m\u001b[0;34m)\u001b[0m \u001b[0;34m>\u001b[0m \u001b[0;36m1\u001b[0m\u001b[0;34m:\u001b[0m\u001b[0;34m\u001b[0m\u001b[0;34m\u001b[0m\u001b[0m\n\u001b[1;32m    989\u001b[0m     raise RuntimeError(\n",
            "\u001b[0;31mValueError\u001b[0m: Failed to find data adapter that can handle input: <class 'NoneType'>, <class 'NoneType'>"
          ]
        }
      ]
    },
    {
      "cell_type": "code",
      "source": [
        "df=pd.read_csv(\"/content/TargetData.csv\")"
      ],
      "metadata": {
        "id": "qXfQ3d0UIxWj"
      },
      "execution_count": 28,
      "outputs": []
    },
    {
      "cell_type": "code",
      "source": [
        "df.head()"
      ],
      "metadata": {
        "colab": {
          "base_uri": "https://localhost:8080/",
          "height": 206
        },
        "id": "lJBoVtLwI5xG",
        "outputId": "e969a374-73f2-413d-92b0-ee27b0b271a6"
      },
      "execution_count": 29,
      "outputs": [
        {
          "output_type": "execute_result",
          "data": {
            "text/plain": [
              "                                                text         label  target\n",
              "0  ইনিই হচ্ছেন ভারতের প্রতিরক্ষামন্ত্রী মনোহর পা...  Geopolitical       1\n",
              "1    রেন্ডিয়াকে পৃথীবির মানচিএ থেকে মুচে ফেলতে হবে    Geopolitical       1\n",
              "2  এই মালাউনরা বাংগালিদের সাফল্য দেখে হিংসা করে ব...     Religious       2\n",
              "3                         আমরা বলতে কারা ভারত তাইতো   Geopolitical       1\n",
              "4                                পাকিস্তান আমার বাল   Geopolitical       1"
            ],
            "text/html": [
              "\n",
              "  <div id=\"df-5540feca-16f8-43f3-bb1d-6c01d804adad\">\n",
              "    <div class=\"colab-df-container\">\n",
              "      <div>\n",
              "<style scoped>\n",
              "    .dataframe tbody tr th:only-of-type {\n",
              "        vertical-align: middle;\n",
              "    }\n",
              "\n",
              "    .dataframe tbody tr th {\n",
              "        vertical-align: top;\n",
              "    }\n",
              "\n",
              "    .dataframe thead th {\n",
              "        text-align: right;\n",
              "    }\n",
              "</style>\n",
              "<table border=\"1\" class=\"dataframe\">\n",
              "  <thead>\n",
              "    <tr style=\"text-align: right;\">\n",
              "      <th></th>\n",
              "      <th>text</th>\n",
              "      <th>label</th>\n",
              "      <th>target</th>\n",
              "    </tr>\n",
              "  </thead>\n",
              "  <tbody>\n",
              "    <tr>\n",
              "      <th>0</th>\n",
              "      <td>ইনিই হচ্ছেন ভারতের প্রতিরক্ষামন্ত্রী মনোহর পা...</td>\n",
              "      <td>Geopolitical</td>\n",
              "      <td>1</td>\n",
              "    </tr>\n",
              "    <tr>\n",
              "      <th>1</th>\n",
              "      <td>রেন্ডিয়াকে পৃথীবির মানচিএ থেকে মুচে ফেলতে হবে</td>\n",
              "      <td>Geopolitical</td>\n",
              "      <td>1</td>\n",
              "    </tr>\n",
              "    <tr>\n",
              "      <th>2</th>\n",
              "      <td>এই মালাউনরা বাংগালিদের সাফল্য দেখে হিংসা করে ব...</td>\n",
              "      <td>Religious</td>\n",
              "      <td>2</td>\n",
              "    </tr>\n",
              "    <tr>\n",
              "      <th>3</th>\n",
              "      <td>আমরা বলতে কারা ভারত তাইতো</td>\n",
              "      <td>Geopolitical</td>\n",
              "      <td>1</td>\n",
              "    </tr>\n",
              "    <tr>\n",
              "      <th>4</th>\n",
              "      <td>পাকিস্তান আমার বাল</td>\n",
              "      <td>Geopolitical</td>\n",
              "      <td>1</td>\n",
              "    </tr>\n",
              "  </tbody>\n",
              "</table>\n",
              "</div>\n",
              "      <button class=\"colab-df-convert\" onclick=\"convertToInteractive('df-5540feca-16f8-43f3-bb1d-6c01d804adad')\"\n",
              "              title=\"Convert this dataframe to an interactive table.\"\n",
              "              style=\"display:none;\">\n",
              "        \n",
              "  <svg xmlns=\"http://www.w3.org/2000/svg\" height=\"24px\"viewBox=\"0 0 24 24\"\n",
              "       width=\"24px\">\n",
              "    <path d=\"M0 0h24v24H0V0z\" fill=\"none\"/>\n",
              "    <path d=\"M18.56 5.44l.94 2.06.94-2.06 2.06-.94-2.06-.94-.94-2.06-.94 2.06-2.06.94zm-11 1L8.5 8.5l.94-2.06 2.06-.94-2.06-.94L8.5 2.5l-.94 2.06-2.06.94zm10 10l.94 2.06.94-2.06 2.06-.94-2.06-.94-.94-2.06-.94 2.06-2.06.94z\"/><path d=\"M17.41 7.96l-1.37-1.37c-.4-.4-.92-.59-1.43-.59-.52 0-1.04.2-1.43.59L10.3 9.45l-7.72 7.72c-.78.78-.78 2.05 0 2.83L4 21.41c.39.39.9.59 1.41.59.51 0 1.02-.2 1.41-.59l7.78-7.78 2.81-2.81c.8-.78.8-2.07 0-2.86zM5.41 20L4 18.59l7.72-7.72 1.47 1.35L5.41 20z\"/>\n",
              "  </svg>\n",
              "      </button>\n",
              "      \n",
              "  <style>\n",
              "    .colab-df-container {\n",
              "      display:flex;\n",
              "      flex-wrap:wrap;\n",
              "      gap: 12px;\n",
              "    }\n",
              "\n",
              "    .colab-df-convert {\n",
              "      background-color: #E8F0FE;\n",
              "      border: none;\n",
              "      border-radius: 50%;\n",
              "      cursor: pointer;\n",
              "      display: none;\n",
              "      fill: #1967D2;\n",
              "      height: 32px;\n",
              "      padding: 0 0 0 0;\n",
              "      width: 32px;\n",
              "    }\n",
              "\n",
              "    .colab-df-convert:hover {\n",
              "      background-color: #E2EBFA;\n",
              "      box-shadow: 0px 1px 2px rgba(60, 64, 67, 0.3), 0px 1px 3px 1px rgba(60, 64, 67, 0.15);\n",
              "      fill: #174EA6;\n",
              "    }\n",
              "\n",
              "    [theme=dark] .colab-df-convert {\n",
              "      background-color: #3B4455;\n",
              "      fill: #D2E3FC;\n",
              "    }\n",
              "\n",
              "    [theme=dark] .colab-df-convert:hover {\n",
              "      background-color: #434B5C;\n",
              "      box-shadow: 0px 1px 3px 1px rgba(0, 0, 0, 0.15);\n",
              "      filter: drop-shadow(0px 1px 2px rgba(0, 0, 0, 0.3));\n",
              "      fill: #FFFFFF;\n",
              "    }\n",
              "  </style>\n",
              "\n",
              "      <script>\n",
              "        const buttonEl =\n",
              "          document.querySelector('#df-5540feca-16f8-43f3-bb1d-6c01d804adad button.colab-df-convert');\n",
              "        buttonEl.style.display =\n",
              "          google.colab.kernel.accessAllowed ? 'block' : 'none';\n",
              "\n",
              "        async function convertToInteractive(key) {\n",
              "          const element = document.querySelector('#df-5540feca-16f8-43f3-bb1d-6c01d804adad');\n",
              "          const dataTable =\n",
              "            await google.colab.kernel.invokeFunction('convertToInteractive',\n",
              "                                                     [key], {});\n",
              "          if (!dataTable) return;\n",
              "\n",
              "          const docLinkHtml = 'Like what you see? Visit the ' +\n",
              "            '<a target=\"_blank\" href=https://colab.research.google.com/notebooks/data_table.ipynb>data table notebook</a>'\n",
              "            + ' to learn more about interactive tables.';\n",
              "          element.innerHTML = '';\n",
              "          dataTable['output_type'] = 'display_data';\n",
              "          await google.colab.output.renderOutput(dataTable, element);\n",
              "          const docLink = document.createElement('div');\n",
              "          docLink.innerHTML = docLinkHtml;\n",
              "          element.appendChild(docLink);\n",
              "        }\n",
              "      </script>\n",
              "    </div>\n",
              "  </div>\n",
              "  "
            ]
          },
          "metadata": {},
          "execution_count": 29
        }
      ]
    },
    {
      "cell_type": "code",
      "source": [
        "df.shape"
      ],
      "metadata": {
        "colab": {
          "base_uri": "https://localhost:8080/"
        },
        "id": "QxLhrxIvI_6y",
        "outputId": "a01a249e-5661-4fce-a50a-26ccb8d69bbb"
      },
      "execution_count": 30,
      "outputs": [
        {
          "output_type": "execute_result",
          "data": {
            "text/plain": [
              "(99, 3)"
            ]
          },
          "metadata": {},
          "execution_count": 30
        }
      ]
    },
    {
      "cell_type": "code",
      "source": [
        "df.isnull().sum()"
      ],
      "metadata": {
        "colab": {
          "base_uri": "https://localhost:8080/"
        },
        "id": "yzAyk4L5JF3Z",
        "outputId": "332c9761-855a-4bbc-dafc-4c02115c505e"
      },
      "execution_count": 31,
      "outputs": [
        {
          "output_type": "execute_result",
          "data": {
            "text/plain": [
              "text      0\n",
              "label     0\n",
              "target    0\n",
              "dtype: int64"
            ]
          },
          "metadata": {},
          "execution_count": 31
        }
      ]
    },
    {
      "cell_type": "code",
      "source": [
        "df=pd.read_csv(\"/content/TargetData (1).csv\")"
      ],
      "metadata": {
        "id": "pQjh0dSXJKHl"
      },
      "execution_count": 38,
      "outputs": []
    },
    {
      "cell_type": "code",
      "source": [
        "df.head()"
      ],
      "metadata": {
        "colab": {
          "base_uri": "https://localhost:8080/",
          "height": 206
        },
        "id": "0PceeqpUJv9t",
        "outputId": "2c59ab09-e344-453d-f49e-d0ef7f1aa740"
      },
      "execution_count": 39,
      "outputs": [
        {
          "output_type": "execute_result",
          "data": {
            "text/plain": [
              "                                                text         label  target\n",
              "0  ইনিই হচ্ছেন ভারতের প্রতিরক্ষামন্ত্রী মনোহর পা...  Geopolitical       1\n",
              "1    রেন্ডিয়াকে পৃথীবির মানচিএ থেকে মুচে ফেলতে হবে    Geopolitical       1\n",
              "2  এই মালাউনরা বাংগালিদের সাফল্য দেখে হিংসা করে ব...     Religious       2\n",
              "3                         আমরা বলতে কারা ভারত তাইতো   Geopolitical       1\n",
              "4                                পাকিস্তান আমার বাল   Geopolitical       1"
            ],
            "text/html": [
              "\n",
              "  <div id=\"df-f891824e-5490-4d61-afcf-4898c7feb2b1\">\n",
              "    <div class=\"colab-df-container\">\n",
              "      <div>\n",
              "<style scoped>\n",
              "    .dataframe tbody tr th:only-of-type {\n",
              "        vertical-align: middle;\n",
              "    }\n",
              "\n",
              "    .dataframe tbody tr th {\n",
              "        vertical-align: top;\n",
              "    }\n",
              "\n",
              "    .dataframe thead th {\n",
              "        text-align: right;\n",
              "    }\n",
              "</style>\n",
              "<table border=\"1\" class=\"dataframe\">\n",
              "  <thead>\n",
              "    <tr style=\"text-align: right;\">\n",
              "      <th></th>\n",
              "      <th>text</th>\n",
              "      <th>label</th>\n",
              "      <th>target</th>\n",
              "    </tr>\n",
              "  </thead>\n",
              "  <tbody>\n",
              "    <tr>\n",
              "      <th>0</th>\n",
              "      <td>ইনিই হচ্ছেন ভারতের প্রতিরক্ষামন্ত্রী মনোহর পা...</td>\n",
              "      <td>Geopolitical</td>\n",
              "      <td>1</td>\n",
              "    </tr>\n",
              "    <tr>\n",
              "      <th>1</th>\n",
              "      <td>রেন্ডিয়াকে পৃথীবির মানচিএ থেকে মুচে ফেলতে হবে</td>\n",
              "      <td>Geopolitical</td>\n",
              "      <td>1</td>\n",
              "    </tr>\n",
              "    <tr>\n",
              "      <th>2</th>\n",
              "      <td>এই মালাউনরা বাংগালিদের সাফল্য দেখে হিংসা করে ব...</td>\n",
              "      <td>Religious</td>\n",
              "      <td>2</td>\n",
              "    </tr>\n",
              "    <tr>\n",
              "      <th>3</th>\n",
              "      <td>আমরা বলতে কারা ভারত তাইতো</td>\n",
              "      <td>Geopolitical</td>\n",
              "      <td>1</td>\n",
              "    </tr>\n",
              "    <tr>\n",
              "      <th>4</th>\n",
              "      <td>পাকিস্তান আমার বাল</td>\n",
              "      <td>Geopolitical</td>\n",
              "      <td>1</td>\n",
              "    </tr>\n",
              "  </tbody>\n",
              "</table>\n",
              "</div>\n",
              "      <button class=\"colab-df-convert\" onclick=\"convertToInteractive('df-f891824e-5490-4d61-afcf-4898c7feb2b1')\"\n",
              "              title=\"Convert this dataframe to an interactive table.\"\n",
              "              style=\"display:none;\">\n",
              "        \n",
              "  <svg xmlns=\"http://www.w3.org/2000/svg\" height=\"24px\"viewBox=\"0 0 24 24\"\n",
              "       width=\"24px\">\n",
              "    <path d=\"M0 0h24v24H0V0z\" fill=\"none\"/>\n",
              "    <path d=\"M18.56 5.44l.94 2.06.94-2.06 2.06-.94-2.06-.94-.94-2.06-.94 2.06-2.06.94zm-11 1L8.5 8.5l.94-2.06 2.06-.94-2.06-.94L8.5 2.5l-.94 2.06-2.06.94zm10 10l.94 2.06.94-2.06 2.06-.94-2.06-.94-.94-2.06-.94 2.06-2.06.94z\"/><path d=\"M17.41 7.96l-1.37-1.37c-.4-.4-.92-.59-1.43-.59-.52 0-1.04.2-1.43.59L10.3 9.45l-7.72 7.72c-.78.78-.78 2.05 0 2.83L4 21.41c.39.39.9.59 1.41.59.51 0 1.02-.2 1.41-.59l7.78-7.78 2.81-2.81c.8-.78.8-2.07 0-2.86zM5.41 20L4 18.59l7.72-7.72 1.47 1.35L5.41 20z\"/>\n",
              "  </svg>\n",
              "      </button>\n",
              "      \n",
              "  <style>\n",
              "    .colab-df-container {\n",
              "      display:flex;\n",
              "      flex-wrap:wrap;\n",
              "      gap: 12px;\n",
              "    }\n",
              "\n",
              "    .colab-df-convert {\n",
              "      background-color: #E8F0FE;\n",
              "      border: none;\n",
              "      border-radius: 50%;\n",
              "      cursor: pointer;\n",
              "      display: none;\n",
              "      fill: #1967D2;\n",
              "      height: 32px;\n",
              "      padding: 0 0 0 0;\n",
              "      width: 32px;\n",
              "    }\n",
              "\n",
              "    .colab-df-convert:hover {\n",
              "      background-color: #E2EBFA;\n",
              "      box-shadow: 0px 1px 2px rgba(60, 64, 67, 0.3), 0px 1px 3px 1px rgba(60, 64, 67, 0.15);\n",
              "      fill: #174EA6;\n",
              "    }\n",
              "\n",
              "    [theme=dark] .colab-df-convert {\n",
              "      background-color: #3B4455;\n",
              "      fill: #D2E3FC;\n",
              "    }\n",
              "\n",
              "    [theme=dark] .colab-df-convert:hover {\n",
              "      background-color: #434B5C;\n",
              "      box-shadow: 0px 1px 3px 1px rgba(0, 0, 0, 0.15);\n",
              "      filter: drop-shadow(0px 1px 2px rgba(0, 0, 0, 0.3));\n",
              "      fill: #FFFFFF;\n",
              "    }\n",
              "  </style>\n",
              "\n",
              "      <script>\n",
              "        const buttonEl =\n",
              "          document.querySelector('#df-f891824e-5490-4d61-afcf-4898c7feb2b1 button.colab-df-convert');\n",
              "        buttonEl.style.display =\n",
              "          google.colab.kernel.accessAllowed ? 'block' : 'none';\n",
              "\n",
              "        async function convertToInteractive(key) {\n",
              "          const element = document.querySelector('#df-f891824e-5490-4d61-afcf-4898c7feb2b1');\n",
              "          const dataTable =\n",
              "            await google.colab.kernel.invokeFunction('convertToInteractive',\n",
              "                                                     [key], {});\n",
              "          if (!dataTable) return;\n",
              "\n",
              "          const docLinkHtml = 'Like what you see? Visit the ' +\n",
              "            '<a target=\"_blank\" href=https://colab.research.google.com/notebooks/data_table.ipynb>data table notebook</a>'\n",
              "            + ' to learn more about interactive tables.';\n",
              "          element.innerHTML = '';\n",
              "          dataTable['output_type'] = 'display_data';\n",
              "          await google.colab.output.renderOutput(dataTable, element);\n",
              "          const docLink = document.createElement('div');\n",
              "          docLink.innerHTML = docLinkHtml;\n",
              "          element.appendChild(docLink);\n",
              "        }\n",
              "      </script>\n",
              "    </div>\n",
              "  </div>\n",
              "  "
            ]
          },
          "metadata": {},
          "execution_count": 39
        }
      ]
    },
    {
      "cell_type": "code",
      "source": [
        "df.shape"
      ],
      "metadata": {
        "colab": {
          "base_uri": "https://localhost:8080/"
        },
        "id": "pZhp6VkTKW6k",
        "outputId": "737b72d3-66b5-4fdd-b2ce-c3161bcf9a5e"
      },
      "execution_count": 40,
      "outputs": [
        {
          "output_type": "execute_result",
          "data": {
            "text/plain": [
              "(99, 3)"
            ]
          },
          "metadata": {},
          "execution_count": 40
        }
      ]
    },
    {
      "cell_type": "code",
      "source": [
        "df.isnull().sum()"
      ],
      "metadata": {
        "colab": {
          "base_uri": "https://localhost:8080/"
        },
        "id": "pvoYhhZgKctG",
        "outputId": "1dbb4b36-bbfc-4cf9-e823-c2f078e15338"
      },
      "execution_count": 41,
      "outputs": [
        {
          "output_type": "execute_result",
          "data": {
            "text/plain": [
              "text      0\n",
              "label     0\n",
              "target    0\n",
              "dtype: int64"
            ]
          },
          "metadata": {},
          "execution_count": 41
        }
      ]
    },
    {
      "cell_type": "code",
      "source": [
        "df.head(10)"
      ],
      "metadata": {
        "colab": {
          "base_uri": "https://localhost:8080/",
          "height": 363
        },
        "id": "Oq8xIMwfKhMD",
        "outputId": "fe154ba3-6e96-4bde-e67e-4a8098bd305d"
      },
      "execution_count": 42,
      "outputs": [
        {
          "output_type": "execute_result",
          "data": {
            "text/plain": [
              "                                                text           label  target\n",
              "0  ইনিই হচ্ছেন ভারতের প্রতিরক্ষামন্ত্রী মনোহর পা...    Geopolitical       1\n",
              "1    রেন্ডিয়াকে পৃথীবির মানচিএ থেকে মুচে ফেলতে হবে      Geopolitical       1\n",
              "2  এই মালাউনরা বাংগালিদের সাফল্য দেখে হিংসা করে ব...       Religious       2\n",
              "3                         আমরা বলতে কারা ভারত তাইতো     Geopolitical       1\n",
              "4                                পাকিস্তান আমার বাল     Geopolitical       1\n",
              "5  তোদের মতো কুত্তার বাচ্চারা সোনিকার মতো মেয়েরা ...        Personal       3\n",
              "6  খানকির পোলা রোহিঙ্গারা বাংলাদেশে ঢুকলে কি তোর ...  Gender abusive       4\n",
              "7  ভারত মোদের বাঁশভাই দাদারা আসারদরকার নাই ও আশাম...    Geopolitical       1\n",
              "8                   এদের কে চোদ্দ বছরে ফাসি দেয়া হোক        Personal       3\n",
              "9  এজন্য ভারত বাংলাদেশে এসে হোয়াইট ওয়াস হয়েগেছে ম...    Geopolitical       1"
            ],
            "text/html": [
              "\n",
              "  <div id=\"df-cbe03eea-f02e-4a29-9fe7-94fafd44a3b3\">\n",
              "    <div class=\"colab-df-container\">\n",
              "      <div>\n",
              "<style scoped>\n",
              "    .dataframe tbody tr th:only-of-type {\n",
              "        vertical-align: middle;\n",
              "    }\n",
              "\n",
              "    .dataframe tbody tr th {\n",
              "        vertical-align: top;\n",
              "    }\n",
              "\n",
              "    .dataframe thead th {\n",
              "        text-align: right;\n",
              "    }\n",
              "</style>\n",
              "<table border=\"1\" class=\"dataframe\">\n",
              "  <thead>\n",
              "    <tr style=\"text-align: right;\">\n",
              "      <th></th>\n",
              "      <th>text</th>\n",
              "      <th>label</th>\n",
              "      <th>target</th>\n",
              "    </tr>\n",
              "  </thead>\n",
              "  <tbody>\n",
              "    <tr>\n",
              "      <th>0</th>\n",
              "      <td>ইনিই হচ্ছেন ভারতের প্রতিরক্ষামন্ত্রী মনোহর পা...</td>\n",
              "      <td>Geopolitical</td>\n",
              "      <td>1</td>\n",
              "    </tr>\n",
              "    <tr>\n",
              "      <th>1</th>\n",
              "      <td>রেন্ডিয়াকে পৃথীবির মানচিএ থেকে মুচে ফেলতে হবে</td>\n",
              "      <td>Geopolitical</td>\n",
              "      <td>1</td>\n",
              "    </tr>\n",
              "    <tr>\n",
              "      <th>2</th>\n",
              "      <td>এই মালাউনরা বাংগালিদের সাফল্য দেখে হিংসা করে ব...</td>\n",
              "      <td>Religious</td>\n",
              "      <td>2</td>\n",
              "    </tr>\n",
              "    <tr>\n",
              "      <th>3</th>\n",
              "      <td>আমরা বলতে কারা ভারত তাইতো</td>\n",
              "      <td>Geopolitical</td>\n",
              "      <td>1</td>\n",
              "    </tr>\n",
              "    <tr>\n",
              "      <th>4</th>\n",
              "      <td>পাকিস্তান আমার বাল</td>\n",
              "      <td>Geopolitical</td>\n",
              "      <td>1</td>\n",
              "    </tr>\n",
              "    <tr>\n",
              "      <th>5</th>\n",
              "      <td>তোদের মতো কুত্তার বাচ্চারা সোনিকার মতো মেয়েরা ...</td>\n",
              "      <td>Personal</td>\n",
              "      <td>3</td>\n",
              "    </tr>\n",
              "    <tr>\n",
              "      <th>6</th>\n",
              "      <td>খানকির পোলা রোহিঙ্গারা বাংলাদেশে ঢুকলে কি তোর ...</td>\n",
              "      <td>Gender abusive</td>\n",
              "      <td>4</td>\n",
              "    </tr>\n",
              "    <tr>\n",
              "      <th>7</th>\n",
              "      <td>ভারত মোদের বাঁশভাই দাদারা আসারদরকার নাই ও আশাম...</td>\n",
              "      <td>Geopolitical</td>\n",
              "      <td>1</td>\n",
              "    </tr>\n",
              "    <tr>\n",
              "      <th>8</th>\n",
              "      <td>এদের কে চোদ্দ বছরে ফাসি দেয়া হোক</td>\n",
              "      <td>Personal</td>\n",
              "      <td>3</td>\n",
              "    </tr>\n",
              "    <tr>\n",
              "      <th>9</th>\n",
              "      <td>এজন্য ভারত বাংলাদেশে এসে হোয়াইট ওয়াস হয়েগেছে ম...</td>\n",
              "      <td>Geopolitical</td>\n",
              "      <td>1</td>\n",
              "    </tr>\n",
              "  </tbody>\n",
              "</table>\n",
              "</div>\n",
              "      <button class=\"colab-df-convert\" onclick=\"convertToInteractive('df-cbe03eea-f02e-4a29-9fe7-94fafd44a3b3')\"\n",
              "              title=\"Convert this dataframe to an interactive table.\"\n",
              "              style=\"display:none;\">\n",
              "        \n",
              "  <svg xmlns=\"http://www.w3.org/2000/svg\" height=\"24px\"viewBox=\"0 0 24 24\"\n",
              "       width=\"24px\">\n",
              "    <path d=\"M0 0h24v24H0V0z\" fill=\"none\"/>\n",
              "    <path d=\"M18.56 5.44l.94 2.06.94-2.06 2.06-.94-2.06-.94-.94-2.06-.94 2.06-2.06.94zm-11 1L8.5 8.5l.94-2.06 2.06-.94-2.06-.94L8.5 2.5l-.94 2.06-2.06.94zm10 10l.94 2.06.94-2.06 2.06-.94-2.06-.94-.94-2.06-.94 2.06-2.06.94z\"/><path d=\"M17.41 7.96l-1.37-1.37c-.4-.4-.92-.59-1.43-.59-.52 0-1.04.2-1.43.59L10.3 9.45l-7.72 7.72c-.78.78-.78 2.05 0 2.83L4 21.41c.39.39.9.59 1.41.59.51 0 1.02-.2 1.41-.59l7.78-7.78 2.81-2.81c.8-.78.8-2.07 0-2.86zM5.41 20L4 18.59l7.72-7.72 1.47 1.35L5.41 20z\"/>\n",
              "  </svg>\n",
              "      </button>\n",
              "      \n",
              "  <style>\n",
              "    .colab-df-container {\n",
              "      display:flex;\n",
              "      flex-wrap:wrap;\n",
              "      gap: 12px;\n",
              "    }\n",
              "\n",
              "    .colab-df-convert {\n",
              "      background-color: #E8F0FE;\n",
              "      border: none;\n",
              "      border-radius: 50%;\n",
              "      cursor: pointer;\n",
              "      display: none;\n",
              "      fill: #1967D2;\n",
              "      height: 32px;\n",
              "      padding: 0 0 0 0;\n",
              "      width: 32px;\n",
              "    }\n",
              "\n",
              "    .colab-df-convert:hover {\n",
              "      background-color: #E2EBFA;\n",
              "      box-shadow: 0px 1px 2px rgba(60, 64, 67, 0.3), 0px 1px 3px 1px rgba(60, 64, 67, 0.15);\n",
              "      fill: #174EA6;\n",
              "    }\n",
              "\n",
              "    [theme=dark] .colab-df-convert {\n",
              "      background-color: #3B4455;\n",
              "      fill: #D2E3FC;\n",
              "    }\n",
              "\n",
              "    [theme=dark] .colab-df-convert:hover {\n",
              "      background-color: #434B5C;\n",
              "      box-shadow: 0px 1px 3px 1px rgba(0, 0, 0, 0.15);\n",
              "      filter: drop-shadow(0px 1px 2px rgba(0, 0, 0, 0.3));\n",
              "      fill: #FFFFFF;\n",
              "    }\n",
              "  </style>\n",
              "\n",
              "      <script>\n",
              "        const buttonEl =\n",
              "          document.querySelector('#df-cbe03eea-f02e-4a29-9fe7-94fafd44a3b3 button.colab-df-convert');\n",
              "        buttonEl.style.display =\n",
              "          google.colab.kernel.accessAllowed ? 'block' : 'none';\n",
              "\n",
              "        async function convertToInteractive(key) {\n",
              "          const element = document.querySelector('#df-cbe03eea-f02e-4a29-9fe7-94fafd44a3b3');\n",
              "          const dataTable =\n",
              "            await google.colab.kernel.invokeFunction('convertToInteractive',\n",
              "                                                     [key], {});\n",
              "          if (!dataTable) return;\n",
              "\n",
              "          const docLinkHtml = 'Like what you see? Visit the ' +\n",
              "            '<a target=\"_blank\" href=https://colab.research.google.com/notebooks/data_table.ipynb>data table notebook</a>'\n",
              "            + ' to learn more about interactive tables.';\n",
              "          element.innerHTML = '';\n",
              "          dataTable['output_type'] = 'display_data';\n",
              "          await google.colab.output.renderOutput(dataTable, element);\n",
              "          const docLink = document.createElement('div');\n",
              "          docLink.innerHTML = docLinkHtml;\n",
              "          element.appendChild(docLink);\n",
              "        }\n",
              "      </script>\n",
              "    </div>\n",
              "  </div>\n",
              "  "
            ]
          },
          "metadata": {},
          "execution_count": 42
        }
      ]
    },
    {
      "cell_type": "code",
      "source": [
        "df['target'].unique()\n"
      ],
      "metadata": {
        "colab": {
          "base_uri": "https://localhost:8080/"
        },
        "id": "-8VCZ8MmKpsM",
        "outputId": "d8afa3d2-eefd-43f8-ae95-4dfbd5f7aa5b"
      },
      "execution_count": 44,
      "outputs": [
        {
          "output_type": "execute_result",
          "data": {
            "text/plain": [
              "array([1, 2, 3, 4])"
            ]
          },
          "metadata": {},
          "execution_count": 44
        }
      ]
    },
    {
      "cell_type": "code",
      "source": [
        "import seaborn as sns"
      ],
      "metadata": {
        "id": "i0ldHfyKLK3_"
      },
      "execution_count": 46,
      "outputs": []
    },
    {
      "cell_type": "code",
      "source": [
        "sns.countplot('target',data=df)"
      ],
      "metadata": {
        "colab": {
          "base_uri": "https://localhost:8080/",
          "height": 351
        },
        "id": "APBklxZPKzTX",
        "outputId": "519b6e4b-9310-41c7-c180-f30a7a4fb27a"
      },
      "execution_count": 47,
      "outputs": [
        {
          "output_type": "stream",
          "name": "stderr",
          "text": [
            "/usr/local/lib/python3.7/dist-packages/seaborn/_decorators.py:43: FutureWarning: Pass the following variable as a keyword arg: x. From version 0.12, the only valid positional argument will be `data`, and passing other arguments without an explicit keyword will result in an error or misinterpretation.\n",
            "  FutureWarning\n"
          ]
        },
        {
          "output_type": "execute_result",
          "data": {
            "text/plain": [
              "<matplotlib.axes._subplots.AxesSubplot at 0x7f6ab8fc3c50>"
            ]
          },
          "metadata": {},
          "execution_count": 47
        },
        {
          "output_type": "display_data",
          "data": {
            "text/plain": [
              "<Figure size 432x288 with 1 Axes>"
            ],
            "image/png": "[encoded data removed]"
          },
          "metadata": {
            "needs_background": "light"
          }
        }
      ]
    },
    {
      "cell_type": "code",
      "source": [
        "df[df['target']==1]['target']=2"
      ],
      "metadata": {
        "colab": {
          "base_uri": "https://localhost:8080/"
        },
        "id": "zu1v_NsdLTQO",
        "outputId": "abca220e-fe21-4ae6-deb6-0b13c2f0c63a"
      },
      "execution_count": 51,
      "outputs": [
        {
          "output_type": "stream",
          "name": "stderr",
          "text": [
            "/usr/local/lib/python3.7/dist-packages/ipykernel_launcher.py:1: SettingWithCopyWarning: \n",
            "A value is trying to be set on a copy of a slice from a DataFrame.\n",
            "Try using .loc[row_indexer,col_indexer] = value instead\n",
            "\n",
            "See the caveats in the documentation: https://pandas.pydata.org/pandas-docs/stable/user_guide/indexing.html#returning-a-view-versus-a-copy\n",
            "  \"\"\"Entry point for launching an IPython kernel.\n"
          ]
        }
      ]
    },
    {
      "cell_type": "code",
      "source": [
        "df.head(5)"
      ],
      "metadata": {
        "colab": {
          "base_uri": "https://localhost:8080/",
          "height": 206
        },
        "id": "KsXVwJWQMhNN",
        "outputId": "7459a6c1-ead4-4442-dbdc-d28eb95b7224"
      },
      "execution_count": 52,
      "outputs": [
        {
          "output_type": "execute_result",
          "data": {
            "text/plain": [
              "                                                text         label  target\n",
              "0  ইনিই হচ্ছেন ভারতের প্রতিরক্ষামন্ত্রী মনোহর পা...  Geopolitical       1\n",
              "1    রেন্ডিয়াকে পৃথীবির মানচিএ থেকে মুচে ফেলতে হবে    Geopolitical       1\n",
              "2  এই মালাউনরা বাংগালিদের সাফল্য দেখে হিংসা করে ব...     Religious       2\n",
              "3                         আমরা বলতে কারা ভারত তাইতো   Geopolitical       1\n",
              "4                                পাকিস্তান আমার বাল   Geopolitical       1"
            ],
            "text/html": [
              "\n",
              "  <div id=\"df-97f94158-93f9-4220-babd-a59d631aa74d\">\n",
              "    <div class=\"colab-df-container\">\n",
              "      <div>\n",
              "<style scoped>\n",
              "    .dataframe tbody tr th:only-of-type {\n",
              "        vertical-align: middle;\n",
              "    }\n",
              "\n",
              "    .dataframe tbody tr th {\n",
              "        vertical-align: top;\n",
              "    }\n",
              "\n",
              "    .dataframe thead th {\n",
              "        text-align: right;\n",
              "    }\n",
              "</style>\n",
              "<table border=\"1\" class=\"dataframe\">\n",
              "  <thead>\n",
              "    <tr style=\"text-align: right;\">\n",
              "      <th></th>\n",
              "      <th>text</th>\n",
              "      <th>label</th>\n",
              "      <th>target</th>\n",
              "    </tr>\n",
              "  </thead>\n",
              "  <tbody>\n",
              "    <tr>\n",
              "      <th>0</th>\n",
              "      <td>ইনিই হচ্ছেন ভারতের প্রতিরক্ষামন্ত্রী মনোহর পা...</td>\n",
              "      <td>Geopolitical</td>\n",
              "      <td>1</td>\n",
              "    </tr>\n",
              "    <tr>\n",
              "      <th>1</th>\n",
              "      <td>রেন্ডিয়াকে পৃথীবির মানচিএ থেকে মুচে ফেলতে হবে</td>\n",
              "      <td>Geopolitical</td>\n",
              "      <td>1</td>\n",
              "    </tr>\n",
              "    <tr>\n",
              "      <th>2</th>\n",
              "      <td>এই মালাউনরা বাংগালিদের সাফল্য দেখে হিংসা করে ব...</td>\n",
              "      <td>Religious</td>\n",
              "      <td>2</td>\n",
              "    </tr>\n",
              "    <tr>\n",
              "      <th>3</th>\n",
              "      <td>আমরা বলতে কারা ভারত তাইতো</td>\n",
              "      <td>Geopolitical</td>\n",
              "      <td>1</td>\n",
              "    </tr>\n",
              "    <tr>\n",
              "      <th>4</th>\n",
              "      <td>পাকিস্তান আমার বাল</td>\n",
              "      <td>Geopolitical</td>\n",
              "      <td>1</td>\n",
              "    </tr>\n",
              "  </tbody>\n",
              "</table>\n",
              "</div>\n",
              "      <button class=\"colab-df-convert\" onclick=\"convertToInteractive('df-97f94158-93f9-4220-babd-a59d631aa74d')\"\n",
              "              title=\"Convert this dataframe to an interactive table.\"\n",
              "              style=\"display:none;\">\n",
              "        \n",
              "  <svg xmlns=\"http://www.w3.org/2000/svg\" height=\"24px\"viewBox=\"0 0 24 24\"\n",
              "       width=\"24px\">\n",
              "    <path d=\"M0 0h24v24H0V0z\" fill=\"none\"/>\n",
              "    <path d=\"M18.56 5.44l.94 2.06.94-2.06 2.06-.94-2.06-.94-.94-2.06-.94 2.06-2.06.94zm-11 1L8.5 8.5l.94-2.06 2.06-.94-2.06-.94L8.5 2.5l-.94 2.06-2.06.94zm10 10l.94 2.06.94-2.06 2.06-.94-2.06-.94-.94-2.06-.94 2.06-2.06.94z\"/><path d=\"M17.41 7.96l-1.37-1.37c-.4-.4-.92-.59-1.43-.59-.52 0-1.04.2-1.43.59L10.3 9.45l-7.72 7.72c-.78.78-.78 2.05 0 2.83L4 21.41c.39.39.9.59 1.41.59.51 0 1.02-.2 1.41-.59l7.78-7.78 2.81-2.81c.8-.78.8-2.07 0-2.86zM5.41 20L4 18.59l7.72-7.72 1.47 1.35L5.41 20z\"/>\n",
              "  </svg>\n",
              "      </button>\n",
              "      \n",
              "  <style>\n",
              "    .colab-df-container {\n",
              "      display:flex;\n",
              "      flex-wrap:wrap;\n",
              "      gap: 12px;\n",
              "    }\n",
              "\n",
              "    .colab-df-convert {\n",
              "      background-color: #E8F0FE;\n",
              "      border: none;\n",
              "      border-radius: 50%;\n",
              "      cursor: pointer;\n",
              "      display: none;\n",
              "      fill: #1967D2;\n",
              "      height: 32px;\n",
              "      padding: 0 0 0 0;\n",
              "      width: 32px;\n",
              "    }\n",
              "\n",
              "    .colab-df-convert:hover {\n",
              "      background-color: #E2EBFA;\n",
              "      box-shadow: 0px 1px 2px rgba(60, 64, 67, 0.3), 0px 1px 3px 1px rgba(60, 64, 67, 0.15);\n",
              "      fill: #174EA6;\n",
              "    }\n",
              "\n",
              "    [theme=dark] .colab-df-convert {\n",
              "      background-color: #3B4455;\n",
              "      fill: #D2E3FC;\n",
              "    }\n",
              "\n",
              "    [theme=dark] .colab-df-convert:hover {\n",
              "      background-color: #434B5C;\n",
              "      box-shadow: 0px 1px 3px 1px rgba(0, 0, 0, 0.15);\n",
              "      filter: drop-shadow(0px 1px 2px rgba(0, 0, 0, 0.3));\n",
              "      fill: #FFFFFF;\n",
              "    }\n",
              "  </style>\n",
              "\n",
              "      <script>\n",
              "        const buttonEl =\n",
              "          document.querySelector('#df-97f94158-93f9-4220-babd-a59d631aa74d button.colab-df-convert');\n",
              "        buttonEl.style.display =\n",
              "          google.colab.kernel.accessAllowed ? 'block' : 'none';\n",
              "\n",
              "        async function convertToInteractive(key) {\n",
              "          const element = document.querySelector('#df-97f94158-93f9-4220-babd-a59d631aa74d');\n",
              "          const dataTable =\n",
              "            await google.colab.kernel.invokeFunction('convertToInteractive',\n",
              "                                                     [key], {});\n",
              "          if (!dataTable) return;\n",
              "\n",
              "          const docLinkHtml = 'Like what you see? Visit the ' +\n",
              "            '<a target=\"_blank\" href=https://colab.research.google.com/notebooks/data_table.ipynb>data table notebook</a>'\n",
              "            + ' to learn more about interactive tables.';\n",
              "          element.innerHTML = '';\n",
              "          dataTable['output_type'] = 'display_data';\n",
              "          await google.colab.output.renderOutput(dataTable, element);\n",
              "          const docLink = document.createElement('div');\n",
              "          docLink.innerHTML = docLinkHtml;\n",
              "          element.appendChild(docLink);\n",
              "        }\n",
              "      </script>\n",
              "    </div>\n",
              "  </div>\n",
              "  "
            ]
          },
          "metadata": {},
          "execution_count": 52
        }
      ]
    },
    {
      "cell_type": "code",
      "source": [
        "df['target'].unique()"
      ],
      "metadata": {
        "colab": {
          "base_uri": "https://localhost:8080/"
        },
        "id": "9i-NOUH-Mnod",
        "outputId": "cccbffd9-2287-4d25-b1cf-22f8eb4f65de"
      },
      "execution_count": 53,
      "outputs": [
        {
          "output_type": "execute_result",
          "data": {
            "text/plain": [
              "array([1, 2, 3, 4])"
            ]
          },
          "metadata": {},
          "execution_count": 53
        }
      ]
    },
    {
      "cell_type": "code",
      "source": [
        "df[df['target']==1]"
      ],
      "metadata": {
        "colab": {
          "base_uri": "https://localhost:8080/",
          "height": 424
        },
        "id": "ITnpxF84Mycn",
        "outputId": "d1afe0ca-64aa-4d95-e0ca-d2dc8ba72b99"
      },
      "execution_count": 56,
      "outputs": [
        {
          "output_type": "execute_result",
          "data": {
            "text/plain": [
              "                                                 text         label  target\n",
              "0   ইনিই হচ্ছেন ভারতের প্রতিরক্ষামন্ত্রী মনোহর পা...  Geopolitical       1\n",
              "1     রেন্ডিয়াকে পৃথীবির মানচিএ থেকে মুচে ফেলতে হবে    Geopolitical       1\n",
              "3                          আমরা বলতে কারা ভারত তাইতো   Geopolitical       1\n",
              "4                                 পাকিস্তান আমার বাল   Geopolitical       1\n",
              "7   ভারত মোদের বাঁশভাই দাদারা আসারদরকার নাই ও আশাম...  Geopolitical       1\n",
              "..                                                ...           ...     ...\n",
              "92                    মাহী সে মানুষ টা বেশী ভাল না     Geopolitical       1\n",
              "93  ভারতকে যারা পছন্দ করেননা ভাল কথা কিন্ত পাকিরাও...  Geopolitical       1\n",
              "94  ভারতীয় নিয়ে এসে অবৈধ আব্বার পশ্চাৎদেশ শিশ্ন ...  Geopolitical       1\n",
              "97  আন্দালিব ভাই   এই মাগীর পুতেরা কিসু জানে না   ...  Geopolitical       1\n",
              "98  রেন্ডিয়ার মতো বেস্যা কান্ট্রি  বাশ্বের আর কোথা...  Geopolitical       1\n",
              "\n",
              "[64 rows x 3 columns]"
            ],
            "text/html": [
              "\n",
              "  <div id=\"df-3459734a-23a7-41ae-86a6-8731dd491953\">\n",
              "    <div class=\"colab-df-container\">\n",
              "      <div>\n",
              "<style scoped>\n",
              "    .dataframe tbody tr th:only-of-type {\n",
              "        vertical-align: middle;\n",
              "    }\n",
              "\n",
              "    .dataframe tbody tr th {\n",
              "        vertical-align: top;\n",
              "    }\n",
              "\n",
              "    .dataframe thead th {\n",
              "        text-align: right;\n",
              "    }\n",
              "</style>\n",
              "<table border=\"1\" class=\"dataframe\">\n",
              "  <thead>\n",
              "    <tr style=\"text-align: right;\">\n",
              "      <th></th>\n",
              "      <th>text</th>\n",
              "      <th>label</th>\n",
              "      <th>target</th>\n",
              "    </tr>\n",
              "  </thead>\n",
              "  <tbody>\n",
              "    <tr>\n",
              "      <th>0</th>\n",
              "      <td>ইনিই হচ্ছেন ভারতের প্রতিরক্ষামন্ত্রী মনোহর পা...</td>\n",
              "      <td>Geopolitical</td>\n",
              "      <td>1</td>\n",
              "    </tr>\n",
              "    <tr>\n",
              "      <th>1</th>\n",
              "      <td>রেন্ডিয়াকে পৃথীবির মানচিএ থেকে মুচে ফেলতে হবে</td>\n",
              "      <td>Geopolitical</td>\n",
              "      <td>1</td>\n",
              "    </tr>\n",
              "    <tr>\n",
              "      <th>3</th>\n",
              "      <td>আমরা বলতে কারা ভারত তাইতো</td>\n",
              "      <td>Geopolitical</td>\n",
              "      <td>1</td>\n",
              "    </tr>\n",
              "    <tr>\n",
              "      <th>4</th>\n",
              "      <td>পাকিস্তান আমার বাল</td>\n",
              "      <td>Geopolitical</td>\n",
              "      <td>1</td>\n",
              "    </tr>\n",
              "    <tr>\n",
              "      <th>7</th>\n",
              "      <td>ভারত মোদের বাঁশভাই দাদারা আসারদরকার নাই ও আশাম...</td>\n",
              "      <td>Geopolitical</td>\n",
              "      <td>1</td>\n",
              "    </tr>\n",
              "    <tr>\n",
              "      <th>...</th>\n",
              "      <td>...</td>\n",
              "      <td>...</td>\n",
              "      <td>...</td>\n",
              "    </tr>\n",
              "    <tr>\n",
              "      <th>92</th>\n",
              "      <td>মাহী সে মানুষ টা বেশী ভাল না</td>\n",
              "      <td>Geopolitical</td>\n",
              "      <td>1</td>\n",
              "    </tr>\n",
              "    <tr>\n",
              "      <th>93</th>\n",
              "      <td>ভারতকে যারা পছন্দ করেননা ভাল কথা কিন্ত পাকিরাও...</td>\n",
              "      <td>Geopolitical</td>\n",
              "      <td>1</td>\n",
              "    </tr>\n",
              "    <tr>\n",
              "      <th>94</th>\n",
              "      <td>ভারতীয় নিয়ে এসে অবৈধ আব্বার পশ্চাৎদেশ শিশ্ন ...</td>\n",
              "      <td>Geopolitical</td>\n",
              "      <td>1</td>\n",
              "    </tr>\n",
              "    <tr>\n",
              "      <th>97</th>\n",
              "      <td>আন্দালিব ভাই   এই মাগীর পুতেরা কিসু জানে না   ...</td>\n",
              "      <td>Geopolitical</td>\n",
              "      <td>1</td>\n",
              "    </tr>\n",
              "    <tr>\n",
              "      <th>98</th>\n",
              "      <td>রেন্ডিয়ার মতো বেস্যা কান্ট্রি  বাশ্বের আর কোথা...</td>\n",
              "      <td>Geopolitical</td>\n",
              "      <td>1</td>\n",
              "    </tr>\n",
              "  </tbody>\n",
              "</table>\n",
              "<p>64 rows × 3 columns</p>\n",
              "</div>\n",
              "      <button class=\"colab-df-convert\" onclick=\"convertToInteractive('df-3459734a-23a7-41ae-86a6-8731dd491953')\"\n",
              "              title=\"Convert this dataframe to an interactive table.\"\n",
              "              style=\"display:none;\">\n",
              "        \n",
              "  <svg xmlns=\"http://www.w3.org/2000/svg\" height=\"24px\"viewBox=\"0 0 24 24\"\n",
              "       width=\"24px\">\n",
              "    <path d=\"M0 0h24v24H0V0z\" fill=\"none\"/>\n",
              "    <path d=\"M18.56 5.44l.94 2.06.94-2.06 2.06-.94-2.06-.94-.94-2.06-.94 2.06-2.06.94zm-11 1L8.5 8.5l.94-2.06 2.06-.94-2.06-.94L8.5 2.5l-.94 2.06-2.06.94zm10 10l.94 2.06.94-2.06 2.06-.94-2.06-.94-.94-2.06-.94 2.06-2.06.94z\"/><path d=\"M17.41 7.96l-1.37-1.37c-.4-.4-.92-.59-1.43-.59-.52 0-1.04.2-1.43.59L10.3 9.45l-7.72 7.72c-.78.78-.78 2.05 0 2.83L4 21.41c.39.39.9.59 1.41.59.51 0 1.02-.2 1.41-.59l7.78-7.78 2.81-2.81c.8-.78.8-2.07 0-2.86zM5.41 20L4 18.59l7.72-7.72 1.47 1.35L5.41 20z\"/>\n",
              "  </svg>\n",
              "      </button>\n",
              "      \n",
              "  <style>\n",
              "    .colab-df-container {\n",
              "      display:flex;\n",
              "      flex-wrap:wrap;\n",
              "      gap: 12px;\n",
              "    }\n",
              "\n",
              "    .colab-df-convert {\n",
              "      background-color: #E8F0FE;\n",
              "      border: none;\n",
              "      border-radius: 50%;\n",
              "      cursor: pointer;\n",
              "      display: none;\n",
              "      fill: #1967D2;\n",
              "      height: 32px;\n",
              "      padding: 0 0 0 0;\n",
              "      width: 32px;\n",
              "    }\n",
              "\n",
              "    .colab-df-convert:hover {\n",
              "      background-color: #E2EBFA;\n",
              "      box-shadow: 0px 1px 2px rgba(60, 64, 67, 0.3), 0px 1px 3px 1px rgba(60, 64, 67, 0.15);\n",
              "      fill: #174EA6;\n",
              "    }\n",
              "\n",
              "    [theme=dark] .colab-df-convert {\n",
              "      background-color: #3B4455;\n",
              "      fill: #D2E3FC;\n",
              "    }\n",
              "\n",
              "    [theme=dark] .colab-df-convert:hover {\n",
              "      background-color: #434B5C;\n",
              "      box-shadow: 0px 1px 3px 1px rgba(0, 0, 0, 0.15);\n",
              "      filter: drop-shadow(0px 1px 2px rgba(0, 0, 0, 0.3));\n",
              "      fill: #FFFFFF;\n",
              "    }\n",
              "  </style>\n",
              "\n",
              "      <script>\n",
              "        const buttonEl =\n",
              "          document.querySelector('#df-3459734a-23a7-41ae-86a6-8731dd491953 button.colab-df-convert');\n",
              "        buttonEl.style.display =\n",
              "          google.colab.kernel.accessAllowed ? 'block' : 'none';\n",
              "\n",
              "        async function convertToInteractive(key) {\n",
              "          const element = document.querySelector('#df-3459734a-23a7-41ae-86a6-8731dd491953');\n",
              "          const dataTable =\n",
              "            await google.colab.kernel.invokeFunction('convertToInteractive',\n",
              "                                                     [key], {});\n",
              "          if (!dataTable) return;\n",
              "\n",
              "          const docLinkHtml = 'Like what you see? Visit the ' +\n",
              "            '<a target=\"_blank\" href=https://colab.research.google.com/notebooks/data_table.ipynb>data table notebook</a>'\n",
              "            + ' to learn more about interactive tables.';\n",
              "          element.innerHTML = '';\n",
              "          dataTable['output_type'] = 'display_data';\n",
              "          await google.colab.output.renderOutput(dataTable, element);\n",
              "          const docLink = document.createElement('div');\n",
              "          docLink.innerHTML = docLinkHtml;\n",
              "          element.appendChild(docLink);\n",
              "        }\n",
              "      </script>\n",
              "    </div>\n",
              "  </div>\n",
              "  "
            ]
          },
          "metadata": {},
          "execution_count": 56
        }
      ]
    },
    {
      "cell_type": "code",
      "source": [
        "df[\"target\"].replace({0: 1}, inplace=True)"
      ],
      "metadata": {
        "id": "Th26E_x5NBTO"
      },
      "execution_count": 57,
      "outputs": []
    },
    {
      "cell_type": "code",
      "source": [
        "df['target'].unique()"
      ],
      "metadata": {
        "colab": {
          "base_uri": "https://localhost:8080/"
        },
        "id": "hndlhudPM8C6",
        "outputId": "7c456ef9-9e67-48eb-e642-e5b89df735d7"
      },
      "execution_count": 58,
      "outputs": [
        {
          "output_type": "execute_result",
          "data": {
            "text/plain": [
              "array([1, 2, 3, 4])"
            ]
          },
          "metadata": {},
          "execution_count": 58
        }
      ]
    },
    {
      "cell_type": "code",
      "source": [
        "sns.countplot('target',data=df)"
      ],
      "metadata": {
        "colab": {
          "base_uri": "https://localhost:8080/",
          "height": 351
        },
        "id": "v_OqE3kwNVQQ",
        "outputId": "287086f5-0ac5-4d00-fd63-9554e6452f5a"
      },
      "execution_count": 59,
      "outputs": [
        {
          "output_type": "stream",
          "name": "stderr",
          "text": [
            "/usr/local/lib/python3.7/dist-packages/seaborn/_decorators.py:43: FutureWarning: Pass the following variable as a keyword arg: x. From version 0.12, the only valid positional argument will be `data`, and passing other arguments without an explicit keyword will result in an error or misinterpretation.\n",
            "  FutureWarning\n"
          ]
        },
        {
          "output_type": "execute_result",
          "data": {
            "text/plain": [
              "<matplotlib.axes._subplots.AxesSubplot at 0x7f6ab8c2fb90>"
            ]
          },
          "metadata": {},
          "execution_count": 59
        },
        {
          "output_type": "display_data",
          "data": {
            "text/plain": [
              "<Figure size 432x288 with 1 Axes>"
            ],
            "image/png": "[encoded data removed]"
          },
          "metadata": {
            "needs_background": "light"
          }
        }
      ]
    },
    {
      "cell_type": "code",
      "source": [
        "df[df['target']==0]"
      ],
      "metadata": {
        "colab": {
          "base_uri": "https://localhost:8080/",
          "height": 49
        },
        "id": "3b2pWtUyNZvz",
        "outputId": "8bc53d96-bda1-4650-d23a-58af0265bca2"
      },
      "execution_count": 60,
      "outputs": [
        {
          "output_type": "execute_result",
          "data": {
            "text/plain": [
              "Empty DataFrame\n",
              "Columns: [text, label, target]\n",
              "Index: []"
            ],
            "text/html": [
              "\n",
              "  <div id=\"df-b64e3a51-7228-43b6-b02b-7aaf578afc29\">\n",
              "    <div class=\"colab-df-container\">\n",
              "      <div>\n",
              "<style scoped>\n",
              "    .dataframe tbody tr th:only-of-type {\n",
              "        vertical-align: middle;\n",
              "    }\n",
              "\n",
              "    .dataframe tbody tr th {\n",
              "        vertical-align: top;\n",
              "    }\n",
              "\n",
              "    .dataframe thead th {\n",
              "        text-align: right;\n",
              "    }\n",
              "</style>\n",
              "<table border=\"1\" class=\"dataframe\">\n",
              "  <thead>\n",
              "    <tr style=\"text-align: right;\">\n",
              "      <th></th>\n",
              "      <th>text</th>\n",
              "      <th>label</th>\n",
              "      <th>target</th>\n",
              "    </tr>\n",
              "  </thead>\n",
              "  <tbody>\n",
              "  </tbody>\n",
              "</table>\n",
              "</div>\n",
              "      <button class=\"colab-df-convert\" onclick=\"convertToInteractive('df-b64e3a51-7228-43b6-b02b-7aaf578afc29')\"\n",
              "              title=\"Convert this dataframe to an interactive table.\"\n",
              "              style=\"display:none;\">\n",
              "        \n",
              "  <svg xmlns=\"http://www.w3.org/2000/svg\" height=\"24px\"viewBox=\"0 0 24 24\"\n",
              "       width=\"24px\">\n",
              "    <path d=\"M0 0h24v24H0V0z\" fill=\"none\"/>\n",
              "    <path d=\"M18.56 5.44l.94 2.06.94-2.06 2.06-.94-2.06-.94-.94-2.06-.94 2.06-2.06.94zm-11 1L8.5 8.5l.94-2.06 2.06-.94-2.06-.94L8.5 2.5l-.94 2.06-2.06.94zm10 10l.94 2.06.94-2.06 2.06-.94-2.06-.94-.94-2.06-.94 2.06-2.06.94z\"/><path d=\"M17.41 7.96l-1.37-1.37c-.4-.4-.92-.59-1.43-.59-.52 0-1.04.2-1.43.59L10.3 9.45l-7.72 7.72c-.78.78-.78 2.05 0 2.83L4 21.41c.39.39.9.59 1.41.59.51 0 1.02-.2 1.41-.59l7.78-7.78 2.81-2.81c.8-.78.8-2.07 0-2.86zM5.41 20L4 18.59l7.72-7.72 1.47 1.35L5.41 20z\"/>\n",
              "  </svg>\n",
              "      </button>\n",
              "      \n",
              "  <style>\n",
              "    .colab-df-container {\n",
              "      display:flex;\n",
              "      flex-wrap:wrap;\n",
              "      gap: 12px;\n",
              "    }\n",
              "\n",
              "    .colab-df-convert {\n",
              "      background-color: #E8F0FE;\n",
              "      border: none;\n",
              "      border-radius: 50%;\n",
              "      cursor: pointer;\n",
              "      display: none;\n",
              "      fill: #1967D2;\n",
              "      height: 32px;\n",
              "      padding: 0 0 0 0;\n",
              "      width: 32px;\n",
              "    }\n",
              "\n",
              "    .colab-df-convert:hover {\n",
              "      background-color: #E2EBFA;\n",
              "      box-shadow: 0px 1px 2px rgba(60, 64, 67, 0.3), 0px 1px 3px 1px rgba(60, 64, 67, 0.15);\n",
              "      fill: #174EA6;\n",
              "    }\n",
              "\n",
              "    [theme=dark] .colab-df-convert {\n",
              "      background-color: #3B4455;\n",
              "      fill: #D2E3FC;\n",
              "    }\n",
              "\n",
              "    [theme=dark] .colab-df-convert:hover {\n",
              "      background-color: #434B5C;\n",
              "      box-shadow: 0px 1px 3px 1px rgba(0, 0, 0, 0.15);\n",
              "      filter: drop-shadow(0px 1px 2px rgba(0, 0, 0, 0.3));\n",
              "      fill: #FFFFFF;\n",
              "    }\n",
              "  </style>\n",
              "\n",
              "      <script>\n",
              "        const buttonEl =\n",
              "          document.querySelector('#df-b64e3a51-7228-43b6-b02b-7aaf578afc29 button.colab-df-convert');\n",
              "        buttonEl.style.display =\n",
              "          google.colab.kernel.accessAllowed ? 'block' : 'none';\n",
              "\n",
              "        async function convertToInteractive(key) {\n",
              "          const element = document.querySelector('#df-b64e3a51-7228-43b6-b02b-7aaf578afc29');\n",
              "          const dataTable =\n",
              "            await google.colab.kernel.invokeFunction('convertToInteractive',\n",
              "                                                     [key], {});\n",
              "          if (!dataTable) return;\n",
              "\n",
              "          const docLinkHtml = 'Like what you see? Visit the ' +\n",
              "            '<a target=\"_blank\" href=https://colab.research.google.com/notebooks/data_table.ipynb>data table notebook</a>'\n",
              "            + ' to learn more about interactive tables.';\n",
              "          element.innerHTML = '';\n",
              "          dataTable['output_type'] = 'display_data';\n",
              "          await google.colab.output.renderOutput(dataTable, element);\n",
              "          const docLink = document.createElement('div');\n",
              "          docLink.innerHTML = docLinkHtml;\n",
              "          element.appendChild(docLink);\n",
              "        }\n",
              "      </script>\n",
              "    </div>\n",
              "  </div>\n",
              "  "
            ]
          },
          "metadata": {},
          "execution_count": 60
        }
      ]
    },
    {
      "cell_type": "code",
      "source": [
        "df[\"target\"].replace({2: 0}, inplace=True)"
      ],
      "metadata": {
        "id": "iiGT114UNoYY"
      },
      "execution_count": 61,
      "outputs": []
    },
    {
      "cell_type": "code",
      "source": [
        "sns.countplot('target',data=df)"
      ],
      "metadata": {
        "colab": {
          "base_uri": "https://localhost:8080/",
          "height": 351
        },
        "id": "ohbK8mHMNwob",
        "outputId": "b202d655-b3e0-41ad-dcdf-133a053f6db7"
      },
      "execution_count": 62,
      "outputs": [
        {
          "output_type": "stream",
          "name": "stderr",
          "text": [
            "/usr/local/lib/python3.7/dist-packages/seaborn/_decorators.py:43: FutureWarning: Pass the following variable as a keyword arg: x. From version 0.12, the only valid positional argument will be `data`, and passing other arguments without an explicit keyword will result in an error or misinterpretation.\n",
            "  FutureWarning\n"
          ]
        },
        {
          "output_type": "execute_result",
          "data": {
            "text/plain": [
              "<matplotlib.axes._subplots.AxesSubplot at 0x7f6ab8d80e50>"
            ]
          },
          "metadata": {},
          "execution_count": 62
        },
        {
          "output_type": "display_data",
          "data": {
            "text/plain": [
              "<Figure size 432x288 with 1 Axes>"
            ],
            "image/png": "[encoded data removed]"
          },
          "metadata": {
            "needs_background": "light"
          }
        }
      ]
    },
    {
      "cell_type": "code",
      "source": [
        "df.head()"
      ],
      "metadata": {
        "colab": {
          "base_uri": "https://localhost:8080/",
          "height": 206
        },
        "id": "h-BfmodgN36m",
        "outputId": "7a8a1eff-588e-4b42-b1ef-37d7f19269dc"
      },
      "execution_count": 63,
      "outputs": [
        {
          "output_type": "execute_result",
          "data": {
            "text/plain": [
              "                                                text         label  target\n",
              "0  ইনিই হচ্ছেন ভারতের প্রতিরক্ষামন্ত্রী মনোহর পা...  Geopolitical       1\n",
              "1    রেন্ডিয়াকে পৃথীবির মানচিএ থেকে মুচে ফেলতে হবে    Geopolitical       1\n",
              "2  এই মালাউনরা বাংগালিদের সাফল্য দেখে হিংসা করে ব...     Religious       0\n",
              "3                         আমরা বলতে কারা ভারত তাইতো   Geopolitical       1\n",
              "4                                পাকিস্তান আমার বাল   Geopolitical       1"
            ],
            "text/html": [
              "\n",
              "  <div id=\"df-c4362ec0-658d-4c22-93f3-392f022ebcf9\">\n",
              "    <div class=\"colab-df-container\">\n",
              "      <div>\n",
              "<style scoped>\n",
              "    .dataframe tbody tr th:only-of-type {\n",
              "        vertical-align: middle;\n",
              "    }\n",
              "\n",
              "    .dataframe tbody tr th {\n",
              "        vertical-align: top;\n",
              "    }\n",
              "\n",
              "    .dataframe thead th {\n",
              "        text-align: right;\n",
              "    }\n",
              "</style>\n",
              "<table border=\"1\" class=\"dataframe\">\n",
              "  <thead>\n",
              "    <tr style=\"text-align: right;\">\n",
              "      <th></th>\n",
              "      <th>text</th>\n",
              "      <th>label</th>\n",
              "      <th>target</th>\n",
              "    </tr>\n",
              "  </thead>\n",
              "  <tbody>\n",
              "    <tr>\n",
              "      <th>0</th>\n",
              "      <td>ইনিই হচ্ছেন ভারতের প্রতিরক্ষামন্ত্রী মনোহর পা...</td>\n",
              "      <td>Geopolitical</td>\n",
              "      <td>1</td>\n",
              "    </tr>\n",
              "    <tr>\n",
              "      <th>1</th>\n",
              "      <td>রেন্ডিয়াকে পৃথীবির মানচিএ থেকে মুচে ফেলতে হবে</td>\n",
              "      <td>Geopolitical</td>\n",
              "      <td>1</td>\n",
              "    </tr>\n",
              "    <tr>\n",
              "      <th>2</th>\n",
              "      <td>এই মালাউনরা বাংগালিদের সাফল্য দেখে হিংসা করে ব...</td>\n",
              "      <td>Religious</td>\n",
              "      <td>0</td>\n",
              "    </tr>\n",
              "    <tr>\n",
              "      <th>3</th>\n",
              "      <td>আমরা বলতে কারা ভারত তাইতো</td>\n",
              "      <td>Geopolitical</td>\n",
              "      <td>1</td>\n",
              "    </tr>\n",
              "    <tr>\n",
              "      <th>4</th>\n",
              "      <td>পাকিস্তান আমার বাল</td>\n",
              "      <td>Geopolitical</td>\n",
              "      <td>1</td>\n",
              "    </tr>\n",
              "  </tbody>\n",
              "</table>\n",
              "</div>\n",
              "      <button class=\"colab-df-convert\" onclick=\"convertToInteractive('df-c4362ec0-658d-4c22-93f3-392f022ebcf9')\"\n",
              "              title=\"Convert this dataframe to an interactive table.\"\n",
              "              style=\"display:none;\">\n",
              "        \n",
              "  <svg xmlns=\"http://www.w3.org/2000/svg\" height=\"24px\"viewBox=\"0 0 24 24\"\n",
              "       width=\"24px\">\n",
              "    <path d=\"M0 0h24v24H0V0z\" fill=\"none\"/>\n",
              "    <path d=\"M18.56 5.44l.94 2.06.94-2.06 2.06-.94-2.06-.94-.94-2.06-.94 2.06-2.06.94zm-11 1L8.5 8.5l.94-2.06 2.06-.94-2.06-.94L8.5 2.5l-.94 2.06-2.06.94zm10 10l.94 2.06.94-2.06 2.06-.94-2.06-.94-.94-2.06-.94 2.06-2.06.94z\"/><path d=\"M17.41 7.96l-1.37-1.37c-.4-.4-.92-.59-1.43-.59-.52 0-1.04.2-1.43.59L10.3 9.45l-7.72 7.72c-.78.78-.78 2.05 0 2.83L4 21.41c.39.39.9.59 1.41.59.51 0 1.02-.2 1.41-.59l7.78-7.78 2.81-2.81c.8-.78.8-2.07 0-2.86zM5.41 20L4 18.59l7.72-7.72 1.47 1.35L5.41 20z\"/>\n",
              "  </svg>\n",
              "      </button>\n",
              "      \n",
              "  <style>\n",
              "    .colab-df-container {\n",
              "      display:flex;\n",
              "      flex-wrap:wrap;\n",
              "      gap: 12px;\n",
              "    }\n",
              "\n",
              "    .colab-df-convert {\n",
              "      background-color: #E8F0FE;\n",
              "      border: none;\n",
              "      border-radius: 50%;\n",
              "      cursor: pointer;\n",
              "      display: none;\n",
              "      fill: #1967D2;\n",
              "      height: 32px;\n",
              "      padding: 0 0 0 0;\n",
              "      width: 32px;\n",
              "    }\n",
              "\n",
              "    .colab-df-convert:hover {\n",
              "      background-color: #E2EBFA;\n",
              "      box-shadow: 0px 1px 2px rgba(60, 64, 67, 0.3), 0px 1px 3px 1px rgba(60, 64, 67, 0.15);\n",
              "      fill: #174EA6;\n",
              "    }\n",
              "\n",
              "    [theme=dark] .colab-df-convert {\n",
              "      background-color: #3B4455;\n",
              "      fill: #D2E3FC;\n",
              "    }\n",
              "\n",
              "    [theme=dark] .colab-df-convert:hover {\n",
              "      background-color: #434B5C;\n",
              "      box-shadow: 0px 1px 3px 1px rgba(0, 0, 0, 0.15);\n",
              "      filter: drop-shadow(0px 1px 2px rgba(0, 0, 0, 0.3));\n",
              "      fill: #FFFFFF;\n",
              "    }\n",
              "  </style>\n",
              "\n",
              "      <script>\n",
              "        const buttonEl =\n",
              "          document.querySelector('#df-c4362ec0-658d-4c22-93f3-392f022ebcf9 button.colab-df-convert');\n",
              "        buttonEl.style.display =\n",
              "          google.colab.kernel.accessAllowed ? 'block' : 'none';\n",
              "\n",
              "        async function convertToInteractive(key) {\n",
              "          const element = document.querySelector('#df-c4362ec0-658d-4c22-93f3-392f022ebcf9');\n",
              "          const dataTable =\n",
              "            await google.colab.kernel.invokeFunction('convertToInteractive',\n",
              "                                                     [key], {});\n",
              "          if (!dataTable) return;\n",
              "\n",
              "          const docLinkHtml = 'Like what you see? Visit the ' +\n",
              "            '<a target=\"_blank\" href=https://colab.research.google.com/notebooks/data_table.ipynb>data table notebook</a>'\n",
              "            + ' to learn more about interactive tables.';\n",
              "          element.innerHTML = '';\n",
              "          dataTable['output_type'] = 'display_data';\n",
              "          await google.colab.output.renderOutput(dataTable, element);\n",
              "          const docLink = document.createElement('div');\n",
              "          docLink.innerHTML = docLinkHtml;\n",
              "          element.appendChild(docLink);\n",
              "        }\n",
              "      </script>\n",
              "    </div>\n",
              "  </div>\n",
              "  "
            ]
          },
          "metadata": {},
          "execution_count": 63
        }
      ]
    },
    {
      "cell_type": "code",
      "source": [
        "df.iloc[0]['text']"
      ],
      "metadata": {
        "colab": {
          "base_uri": "https://localhost:8080/",
          "height": 52
        },
        "id": "Fhyc5MxwN-G9",
        "outputId": "e3f13d6e-b82a-46fb-ee78-539a21384282"
      },
      "execution_count": 64,
      "outputs": [
        {
          "output_type": "execute_result",
          "data": {
            "text/plain": [
              "'ইনিই হচ্ছেন ভারতের প্রতিরক্ষামন্ত্রী মনোহর পারিকর  এই কদিন আগেই যিনি ঘোষনা দেন বাংলাদেশ দখল করে মহাভারত গঠন করবেন আশ্চর্য তিনিই কিনা আমাদের বরেন্য রাষ্ট্রীয় অতিথি'"
            ],
            "application/vnd.google.colaboratory.intrinsic+json": {
              "type": "string"
            }
          },
          "metadata": {},
          "execution_count": 64
        }
      ]
    },
    {
      "cell_type": "code",
      "source": [
        "df.iloc[5]['text']"
      ],
      "metadata": {
        "colab": {
          "base_uri": "https://localhost:8080/",
          "height": 35
        },
        "id": "IyuSAbYDOFKN",
        "outputId": "e5c95d4c-7560-4308-8d5c-428399b9d6ab"
      },
      "execution_count": 65,
      "outputs": [
        {
          "output_type": "execute_result",
          "data": {
            "text/plain": [
              "'তোদের মতো কুত্তার বাচ্চারা সোনিকার মতো মেয়েরা পাইলে শিওর গ্যাংব্যাং দিবি'"
            ],
            "application/vnd.google.colaboratory.intrinsic+json": {
              "type": "string"
            }
          },
          "metadata": {},
          "execution_count": 65
        }
      ]
    },
    {
      "cell_type": "code",
      "source": [
        "frame=[df,df]\n",
        "df = pd.concat(frame)"
      ],
      "metadata": {
        "id": "r41w3sx4OUj0"
      },
      "execution_count": 66,
      "outputs": []
    },
    {
      "cell_type": "code",
      "source": [
        "df.head()"
      ],
      "metadata": {
        "colab": {
          "base_uri": "https://localhost:8080/",
          "height": 206
        },
        "id": "gabTE_2pOcd9",
        "outputId": "91dc41c0-78e5-4c1f-a0a1-d773618580b3"
      },
      "execution_count": 67,
      "outputs": [
        {
          "output_type": "execute_result",
          "data": {
            "text/plain": [
              "                                                text         label  target\n",
              "0  ইনিই হচ্ছেন ভারতের প্রতিরক্ষামন্ত্রী মনোহর পা...  Geopolitical       1\n",
              "1    রেন্ডিয়াকে পৃথীবির মানচিএ থেকে মুচে ফেলতে হবে    Geopolitical       1\n",
              "2  এই মালাউনরা বাংগালিদের সাফল্য দেখে হিংসা করে ব...     Religious       0\n",
              "3                         আমরা বলতে কারা ভারত তাইতো   Geopolitical       1\n",
              "4                                পাকিস্তান আমার বাল   Geopolitical       1"
            ],
            "text/html": [
              "\n",
              "  <div id=\"df-77c78855-399f-45a7-924e-69ce111b0c76\">\n",
              "    <div class=\"colab-df-container\">\n",
              "      <div>\n",
              "<style scoped>\n",
              "    .dataframe tbody tr th:only-of-type {\n",
              "        vertical-align: middle;\n",
              "    }\n",
              "\n",
              "    .dataframe tbody tr th {\n",
              "        vertical-align: top;\n",
              "    }\n",
              "\n",
              "    .dataframe thead th {\n",
              "        text-align: right;\n",
              "    }\n",
              "</style>\n",
              "<table border=\"1\" class=\"dataframe\">\n",
              "  <thead>\n",
              "    <tr style=\"text-align: right;\">\n",
              "      <th></th>\n",
              "      <th>text</th>\n",
              "      <th>label</th>\n",
              "      <th>target</th>\n",
              "    </tr>\n",
              "  </thead>\n",
              "  <tbody>\n",
              "    <tr>\n",
              "      <th>0</th>\n",
              "      <td>ইনিই হচ্ছেন ভারতের প্রতিরক্ষামন্ত্রী মনোহর পা...</td>\n",
              "      <td>Geopolitical</td>\n",
              "      <td>1</td>\n",
              "    </tr>\n",
              "    <tr>\n",
              "      <th>1</th>\n",
              "      <td>রেন্ডিয়াকে পৃথীবির মানচিএ থেকে মুচে ফেলতে হবে</td>\n",
              "      <td>Geopolitical</td>\n",
              "      <td>1</td>\n",
              "    </tr>\n",
              "    <tr>\n",
              "      <th>2</th>\n",
              "      <td>এই মালাউনরা বাংগালিদের সাফল্য দেখে হিংসা করে ব...</td>\n",
              "      <td>Religious</td>\n",
              "      <td>0</td>\n",
              "    </tr>\n",
              "    <tr>\n",
              "      <th>3</th>\n",
              "      <td>আমরা বলতে কারা ভারত তাইতো</td>\n",
              "      <td>Geopolitical</td>\n",
              "      <td>1</td>\n",
              "    </tr>\n",
              "    <tr>\n",
              "      <th>4</th>\n",
              "      <td>পাকিস্তান আমার বাল</td>\n",
              "      <td>Geopolitical</td>\n",
              "      <td>1</td>\n",
              "    </tr>\n",
              "  </tbody>\n",
              "</table>\n",
              "</div>\n",
              "      <button class=\"colab-df-convert\" onclick=\"convertToInteractive('df-77c78855-399f-45a7-924e-69ce111b0c76')\"\n",
              "              title=\"Convert this dataframe to an interactive table.\"\n",
              "              style=\"display:none;\">\n",
              "        \n",
              "  <svg xmlns=\"http://www.w3.org/2000/svg\" height=\"24px\"viewBox=\"0 0 24 24\"\n",
              "       width=\"24px\">\n",
              "    <path d=\"M0 0h24v24H0V0z\" fill=\"none\"/>\n",
              "    <path d=\"M18.56 5.44l.94 2.06.94-2.06 2.06-.94-2.06-.94-.94-2.06-.94 2.06-2.06.94zm-11 1L8.5 8.5l.94-2.06 2.06-.94-2.06-.94L8.5 2.5l-.94 2.06-2.06.94zm10 10l.94 2.06.94-2.06 2.06-.94-2.06-.94-.94-2.06-.94 2.06-2.06.94z\"/><path d=\"M17.41 7.96l-1.37-1.37c-.4-.4-.92-.59-1.43-.59-.52 0-1.04.2-1.43.59L10.3 9.45l-7.72 7.72c-.78.78-.78 2.05 0 2.83L4 21.41c.39.39.9.59 1.41.59.51 0 1.02-.2 1.41-.59l7.78-7.78 2.81-2.81c.8-.78.8-2.07 0-2.86zM5.41 20L4 18.59l7.72-7.72 1.47 1.35L5.41 20z\"/>\n",
              "  </svg>\n",
              "      </button>\n",
              "      \n",
              "  <style>\n",
              "    .colab-df-container {\n",
              "      display:flex;\n",
              "      flex-wrap:wrap;\n",
              "      gap: 12px;\n",
              "    }\n",
              "\n",
              "    .colab-df-convert {\n",
              "      background-color: #E8F0FE;\n",
              "      border: none;\n",
              "      border-radius: 50%;\n",
              "      cursor: pointer;\n",
              "      display: none;\n",
              "      fill: #1967D2;\n",
              "      height: 32px;\n",
              "      padding: 0 0 0 0;\n",
              "      width: 32px;\n",
              "    }\n",
              "\n",
              "    .colab-df-convert:hover {\n",
              "      background-color: #E2EBFA;\n",
              "      box-shadow: 0px 1px 2px rgba(60, 64, 67, 0.3), 0px 1px 3px 1px rgba(60, 64, 67, 0.15);\n",
              "      fill: #174EA6;\n",
              "    }\n",
              "\n",
              "    [theme=dark] .colab-df-convert {\n",
              "      background-color: #3B4455;\n",
              "      fill: #D2E3FC;\n",
              "    }\n",
              "\n",
              "    [theme=dark] .colab-df-convert:hover {\n",
              "      background-color: #434B5C;\n",
              "      box-shadow: 0px 1px 3px 1px rgba(0, 0, 0, 0.15);\n",
              "      filter: drop-shadow(0px 1px 2px rgba(0, 0, 0, 0.3));\n",
              "      fill: #FFFFFF;\n",
              "    }\n",
              "  </style>\n",
              "\n",
              "      <script>\n",
              "        const buttonEl =\n",
              "          document.querySelector('#df-77c78855-399f-45a7-924e-69ce111b0c76 button.colab-df-convert');\n",
              "        buttonEl.style.display =\n",
              "          google.colab.kernel.accessAllowed ? 'block' : 'none';\n",
              "\n",
              "        async function convertToInteractive(key) {\n",
              "          const element = document.querySelector('#df-77c78855-399f-45a7-924e-69ce111b0c76');\n",
              "          const dataTable =\n",
              "            await google.colab.kernel.invokeFunction('convertToInteractive',\n",
              "                                                     [key], {});\n",
              "          if (!dataTable) return;\n",
              "\n",
              "          const docLinkHtml = 'Like what you see? Visit the ' +\n",
              "            '<a target=\"_blank\" href=https://colab.research.google.com/notebooks/data_table.ipynb>data table notebook</a>'\n",
              "            + ' to learn more about interactive tables.';\n",
              "          element.innerHTML = '';\n",
              "          dataTable['output_type'] = 'display_data';\n",
              "          await google.colab.output.renderOutput(dataTable, element);\n",
              "          const docLink = document.createElement('div');\n",
              "          docLink.innerHTML = docLinkHtml;\n",
              "          element.appendChild(docLink);\n",
              "        }\n",
              "      </script>\n",
              "    </div>\n",
              "  </div>\n",
              "  "
            ]
          },
          "metadata": {},
          "execution_count": 67
        }
      ]
    },
    {
      "cell_type": "code",
      "source": [
        "sns.countplot('label',data=df)"
      ],
      "metadata": {
        "colab": {
          "base_uri": "https://localhost:8080/",
          "height": 351
        },
        "id": "i3wgTKmlOpo1",
        "outputId": "f49f0f4d-5d06-4151-a71d-258d30e052fc"
      },
      "execution_count": 68,
      "outputs": [
        {
          "output_type": "stream",
          "name": "stderr",
          "text": [
            "/usr/local/lib/python3.7/dist-packages/seaborn/_decorators.py:43: FutureWarning: Pass the following variable as a keyword arg: x. From version 0.12, the only valid positional argument will be `data`, and passing other arguments without an explicit keyword will result in an error or misinterpretation.\n",
            "  FutureWarning\n"
          ]
        },
        {
          "output_type": "execute_result",
          "data": {
            "text/plain": [
              "<matplotlib.axes._subplots.AxesSubplot at 0x7f6ab8cc6110>"
            ]
          },
          "metadata": {},
          "execution_count": 68
        },
        {
          "output_type": "display_data",
          "data": {
            "text/plain": [
              "<Figure size 432x288 with 1 Axes>"
            ],
            "image/png": "[encoded data removed]"
          },
          "metadata": {
            "needs_background": "light"
          }
        }
      ]
    },
    {
      "cell_type": "code",
      "source": [
        "df.shape"
      ],
      "metadata": {
        "colab": {
          "base_uri": "https://localhost:8080/"
        },
        "id": "tNijXZwkOsPX",
        "outputId": "02562812-8920-41f1-d5b6-0ea5f969b401"
      },
      "execution_count": 69,
      "outputs": [
        {
          "output_type": "execute_result",
          "data": {
            "text/plain": [
              "(198, 3)"
            ]
          },
          "metadata": {},
          "execution_count": 69
        }
      ]
    },
    {
      "cell_type": "code",
      "source": [
        "import re\n",
        "import nltk\n",
        "stemmer = nltk.SnowballStemmer(\"english\")\n",
        "from nltk.corpus import stopwords\n",
        "import string\n",
        "stopword=set(stopwords.words('english'))"
      ],
      "metadata": {
        "id": "LCnyPaDfOxhf"
      },
      "execution_count": 70,
      "outputs": []
    },
    {
      "cell_type": "code",
      "source": [
        "def clean_text(text):\n",
        "    text = str(text).lower()\n",
        "    text = re.sub('\\[.*?\\]', '', text)\n",
        "    text = re.sub('https?://\\S+|www\\.\\S+', '', text)\n",
        "    text = re.sub('<.*?>+', '', text)\n",
        "    text = re.sub('[%s]' % re.escape(string.punctuation), '', text)\n",
        "    text = re.sub('\\n', '', text)\n",
        "    text = re.sub('\\w*\\d\\w*', '', text)\n",
        "    text = [word for word in text.split(' ') if word not in stopword]\n",
        "    text=\" \".join(text)\n",
        "    text = [stemmer.stem(word) for word in text.split(' ')]\n",
        "    text=\" \".join(text)\n",
        "    return text"
      ],
      "metadata": {
        "id": "O_YJzVNiO4Il"
      },
      "execution_count": 71,
      "outputs": []
    },
    {
      "cell_type": "code",
      "source": [
        "df['text']=df['text'].apply(clean_text)"
      ],
      "metadata": {
        "id": "k-rWLQJTPBNU"
      },
      "execution_count": 72,
      "outputs": []
    },
    {
      "cell_type": "code",
      "source": [
        "df.head()"
      ],
      "metadata": {
        "colab": {
          "base_uri": "https://localhost:8080/",
          "height": 206
        },
        "id": "1p-k-frTPFBo",
        "outputId": "b87720e3-0205-4f27-8b41-64a659781334"
      },
      "execution_count": 73,
      "outputs": [
        {
          "output_type": "execute_result",
          "data": {
            "text/plain": [
              "                                                text         label  target\n",
              "0  ইনিই হচ্ছেন ভারতের প্রতিরক্ষামন্ত্রী মনোহর পা...  Geopolitical       1\n",
              "1    রেন্ডিয়াকে পৃথীবির মানচিএ থেকে মুচে ফেলতে হবে    Geopolitical       1\n",
              "2  এই মালাউনরা বাংগালিদের সাফল্য দেখে হিংসা করে ব...     Religious       0\n",
              "3                         আমরা বলতে কারা ভারত তাইতো   Geopolitical       1\n",
              "4                                পাকিস্তান আমার বাল   Geopolitical       1"
            ],
            "text/html": [
              "\n",
              "  <div id=\"df-3aeaa58a-7942-40e3-9bcc-43d16b0c74f2\">\n",
              "    <div class=\"colab-df-container\">\n",
              "      <div>\n",
              "<style scoped>\n",
              "    .dataframe tbody tr th:only-of-type {\n",
              "        vertical-align: middle;\n",
              "    }\n",
              "\n",
              "    .dataframe tbody tr th {\n",
              "        vertical-align: top;\n",
              "    }\n",
              "\n",
              "    .dataframe thead th {\n",
              "        text-align: right;\n",
              "    }\n",
              "</style>\n",
              "<table border=\"1\" class=\"dataframe\">\n",
              "  <thead>\n",
              "    <tr style=\"text-align: right;\">\n",
              "      <th></th>\n",
              "      <th>text</th>\n",
              "      <th>label</th>\n",
              "      <th>target</th>\n",
              "    </tr>\n",
              "  </thead>\n",
              "  <tbody>\n",
              "    <tr>\n",
              "      <th>0</th>\n",
              "      <td>ইনিই হচ্ছেন ভারতের প্রতিরক্ষামন্ত্রী মনোহর পা...</td>\n",
              "      <td>Geopolitical</td>\n",
              "      <td>1</td>\n",
              "    </tr>\n",
              "    <tr>\n",
              "      <th>1</th>\n",
              "      <td>রেন্ডিয়াকে পৃথীবির মানচিএ থেকে মুচে ফেলতে হবে</td>\n",
              "      <td>Geopolitical</td>\n",
              "      <td>1</td>\n",
              "    </tr>\n",
              "    <tr>\n",
              "      <th>2</th>\n",
              "      <td>এই মালাউনরা বাংগালিদের সাফল্য দেখে হিংসা করে ব...</td>\n",
              "      <td>Religious</td>\n",
              "      <td>0</td>\n",
              "    </tr>\n",
              "    <tr>\n",
              "      <th>3</th>\n",
              "      <td>আমরা বলতে কারা ভারত তাইতো</td>\n",
              "      <td>Geopolitical</td>\n",
              "      <td>1</td>\n",
              "    </tr>\n",
              "    <tr>\n",
              "      <th>4</th>\n",
              "      <td>পাকিস্তান আমার বাল</td>\n",
              "      <td>Geopolitical</td>\n",
              "      <td>1</td>\n",
              "    </tr>\n",
              "  </tbody>\n",
              "</table>\n",
              "</div>\n",
              "      <button class=\"colab-df-convert\" onclick=\"convertToInteractive('df-3aeaa58a-7942-40e3-9bcc-43d16b0c74f2')\"\n",
              "              title=\"Convert this dataframe to an interactive table.\"\n",
              "              style=\"display:none;\">\n",
              "        \n",
              "  <svg xmlns=\"http://www.w3.org/2000/svg\" height=\"24px\"viewBox=\"0 0 24 24\"\n",
              "       width=\"24px\">\n",
              "    <path d=\"M0 0h24v24H0V0z\" fill=\"none\"/>\n",
              "    <path d=\"M18.56 5.44l.94 2.06.94-2.06 2.06-.94-2.06-.94-.94-2.06-.94 2.06-2.06.94zm-11 1L8.5 8.5l.94-2.06 2.06-.94-2.06-.94L8.5 2.5l-.94 2.06-2.06.94zm10 10l.94 2.06.94-2.06 2.06-.94-2.06-.94-.94-2.06-.94 2.06-2.06.94z\"/><path d=\"M17.41 7.96l-1.37-1.37c-.4-.4-.92-.59-1.43-.59-.52 0-1.04.2-1.43.59L10.3 9.45l-7.72 7.72c-.78.78-.78 2.05 0 2.83L4 21.41c.39.39.9.59 1.41.59.51 0 1.02-.2 1.41-.59l7.78-7.78 2.81-2.81c.8-.78.8-2.07 0-2.86zM5.41 20L4 18.59l7.72-7.72 1.47 1.35L5.41 20z\"/>\n",
              "  </svg>\n",
              "      </button>\n",
              "      \n",
              "  <style>\n",
              "    .colab-df-container {\n",
              "      display:flex;\n",
              "      flex-wrap:wrap;\n",
              "      gap: 12px;\n",
              "    }\n",
              "\n",
              "    .colab-df-convert {\n",
              "      background-color: #E8F0FE;\n",
              "      border: none;\n",
              "      border-radius: 50%;\n",
              "      cursor: pointer;\n",
              "      display: none;\n",
              "      fill: #1967D2;\n",
              "      height: 32px;\n",
              "      padding: 0 0 0 0;\n",
              "      width: 32px;\n",
              "    }\n",
              "\n",
              "    .colab-df-convert:hover {\n",
              "      background-color: #E2EBFA;\n",
              "      box-shadow: 0px 1px 2px rgba(60, 64, 67, 0.3), 0px 1px 3px 1px rgba(60, 64, 67, 0.15);\n",
              "      fill: #174EA6;\n",
              "    }\n",
              "\n",
              "    [theme=dark] .colab-df-convert {\n",
              "      background-color: #3B4455;\n",
              "      fill: #D2E3FC;\n",
              "    }\n",
              "\n",
              "    [theme=dark] .colab-df-convert:hover {\n",
              "      background-color: #434B5C;\n",
              "      box-shadow: 0px 1px 3px 1px rgba(0, 0, 0, 0.15);\n",
              "      filter: drop-shadow(0px 1px 2px rgba(0, 0, 0, 0.3));\n",
              "      fill: #FFFFFF;\n",
              "    }\n",
              "  </style>\n",
              "\n",
              "      <script>\n",
              "        const buttonEl =\n",
              "          document.querySelector('#df-3aeaa58a-7942-40e3-9bcc-43d16b0c74f2 button.colab-df-convert');\n",
              "        buttonEl.style.display =\n",
              "          google.colab.kernel.accessAllowed ? 'block' : 'none';\n",
              "\n",
              "        async function convertToInteractive(key) {\n",
              "          const element = document.querySelector('#df-3aeaa58a-7942-40e3-9bcc-43d16b0c74f2');\n",
              "          const dataTable =\n",
              "            await google.colab.kernel.invokeFunction('convertToInteractive',\n",
              "                                                     [key], {});\n",
              "          if (!dataTable) return;\n",
              "\n",
              "          const docLinkHtml = 'Like what you see? Visit the ' +\n",
              "            '<a target=\"_blank\" href=https://colab.research.google.com/notebooks/data_table.ipynb>data table notebook</a>'\n",
              "            + ' to learn more about interactive tables.';\n",
              "          element.innerHTML = '';\n",
              "          dataTable['output_type'] = 'display_data';\n",
              "          await google.colab.output.renderOutput(dataTable, element);\n",
              "          const docLink = document.createElement('div');\n",
              "          docLink.innerHTML = docLinkHtml;\n",
              "          element.appendChild(docLink);\n",
              "        }\n",
              "      </script>\n",
              "    </div>\n",
              "  </div>\n",
              "  "
            ]
          },
          "metadata": {},
          "execution_count": 73
        }
      ]
    },
    {
      "cell_type": "code",
      "source": [
        "from wordcloud import WordCloud, STOPWORDS\n",
        "import matplotlib.pyplot as plt\n",
        "import pandas as pd\n",
        "  "
      ],
      "metadata": {
        "id": "83mttEIQPMHP"
      },
      "execution_count": 74,
      "outputs": []
    },
    {
      "cell_type": "code",
      "source": [
        "def make_wordcloud(df):\n",
        "    comment_words=\"\"\n",
        "    for val in df.text: \n",
        "        val = str(val).lower()\n",
        "\n",
        "      \n",
        "        comment_words += \" \".join(val)+\" \"\n",
        "    print(comment_words[0:100])\n",
        "    wordcloud = WordCloud(width = 800, height = 800,\n",
        "                background_color ='white',\n",
        "                stopwords = stopwords,min_font_size = 10).generate(comment_words)\n",
        "  \n",
        "    plt.figure(figsize = (8, 8), facecolor = None)\n",
        "    plt.imshow(wordcloud)\n",
        "    plt.axis(\"off\")\n",
        "    plt.tight_layout(pad = 0)\n",
        "\n",
        "    plt.show()\n"
      ],
      "metadata": {
        "id": "AfMTMDYmPNjc"
      },
      "execution_count": 75,
      "outputs": []
    },
    {
      "cell_type": "code",
      "source": [
        "x=df['text']\n",
        "y=df['target']"
      ],
      "metadata": {
        "id": "aJYWNParPeYi"
      },
      "execution_count": 77,
      "outputs": []
    },
    {
      "cell_type": "code",
      "source": [
        "from sklearn.model_selection import train_test_split\n",
        "\n",
        "x_train, x_test, y_train, y_test = train_test_split(x, y, random_state=42)\n",
        "print(len(x_train), len(y_train))\n",
        "print(len(x_test), len(y_test))"
      ],
      "metadata": {
        "colab": {
          "base_uri": "https://localhost:8080/"
        },
        "id": "GSa5UGoMPkfK",
        "outputId": "7cfd218f-72f9-47e9-cfdc-0a6d501367be"
      },
      "execution_count": 78,
      "outputs": [
        {
          "output_type": "stream",
          "name": "stdout",
          "text": [
            "148 148\n",
            "50 50\n"
          ]
        }
      ]
    },
    {
      "cell_type": "code",
      "source": [
        "from sklearn.feature_extraction.text import CountVectorizer\n",
        "\n",
        "count = CountVectorizer(stop_words='english', ngram_range=(1,5))\n",
        "x_train_vectorizer=count.fit_transform(x_train)"
      ],
      "metadata": {
        "id": "d-R9kFWEP0z4"
      },
      "execution_count": 79,
      "outputs": []
    },
    {
      "cell_type": "code",
      "source": [
        "x_test_vectorizer=count.transform(x_test)\n",
        "x_train_vectorizer.toarray()"
      ],
      "metadata": {
        "colab": {
          "base_uri": "https://localhost:8080/"
        },
        "id": "3qnRqgw3P4_p",
        "outputId": "6da65761-cca0-4fee-8bcd-31a08ca7aca0"
      },
      "execution_count": 80,
      "outputs": [
        {
          "output_type": "execute_result",
          "data": {
            "text/plain": [
              "array([[0, 0, 0, ..., 0, 0, 0],\n",
              "       [0, 0, 0, ..., 0, 0, 0],\n",
              "       [0, 0, 0, ..., 0, 0, 0],\n",
              "       ...,\n",
              "       [0, 0, 0, ..., 0, 0, 0],\n",
              "       [0, 0, 0, ..., 0, 0, 0],\n",
              "       [0, 0, 0, ..., 0, 0, 0]])"
            ]
          },
          "metadata": {},
          "execution_count": 80
        }
      ]
    },
    {
      "cell_type": "code",
      "source": [
        "count.vocabulary_"
      ],
      "metadata": {
        "colab": {
          "base_uri": "https://localhost:8080/"
        },
        "id": "cts0bonyP-Iv",
        "outputId": "0822939d-b8f5-4ec9-8d5f-60310129e68e"
      },
      "execution_count": 81,
      "outputs": [
        {
          "output_type": "execute_result",
          "data": {
            "text/plain": [
              "{'আম': 377,\n",
              " 'এখন': 1081,\n",
              " 'ইনশ': 714,\n",
              " 'আল': 569,\n",
              " 'আরব': 564,\n",
              " 'আছ': 218,\n",
              " 'হল': 3855,\n",
              " 'রজ': 3000,\n",
              " 'সন': 3571,\n",
              " 'আম এখন': 408,\n",
              " 'এখন ইনশ': 1082,\n",
              " 'ইনশ আল': 715,\n",
              " 'আল আরব': 570,\n",
              " 'আরব আছ': 565,\n",
              " 'আছ হল': 244,\n",
              " 'হল রজ': 3880,\n",
              " 'রজ সন': 3005,\n",
              " 'আম এখন ইনশ': 409,\n",
              " 'এখন ইনশ আল': 1083,\n",
              " 'ইনশ আল আরব': 716,\n",
              " 'আল আরব আছ': 571,\n",
              " 'আরব আছ হল': 566,\n",
              " 'আছ হল রজ': 245,\n",
              " 'হল রজ সন': 3881,\n",
              " 'আম এখন ইনশ আল': 410,\n",
              " 'এখন ইনশ আল আরব': 1084,\n",
              " 'ইনশ আল আরব আছ': 717,\n",
              " 'আল আরব আছ হল': 572,\n",
              " 'আরব আছ হল রজ': 567,\n",
              " 'আছ হল রজ সন': 246,\n",
              " 'আম এখন ইনশ আল আরব': 411,\n",
              " 'এখন ইনশ আল আরব আছ': 1085,\n",
              " 'ইনশ আল আরব আছ হল': 718,\n",
              " 'আল আরব আছ হল রজ': 573,\n",
              " 'আরব আছ হল রজ সন': 568,\n",
              " 'নন': 2311,\n",
              " 'রধ': 3278,\n",
              " 'মন': 2769,\n",
              " 'আপন': 309,\n",
              " 'বলছ': 2607,\n",
              " 'বরন': 2559,\n",
              " 'কর': 1529,\n",
              " 'এর': 1220,\n",
              " 'কথ': 1461,\n",
              " 'জনগণ': 1976,\n",
              " 'একট': 1017,\n",
              " 'পর': 2416,\n",
              " 'অসহ': 151,\n",
              " 'ধর': 2222,\n",
              " 'রত': 3010,\n",
              " 'তক': 2056,\n",
              " 'উন': 840,\n",
              " 'মক': 2716,\n",
              " 'আশ': 587,\n",
              " 'রয়': 3380,\n",
              " 'অন': 30,\n",
              " 'আব': 342,\n",
              " 'আর': 468,\n",
              " 'এই': 920,\n",
              " 'এমন': 1212,\n",
              " 'ওয়': 1393,\n",
              " 'বন': 2496,\n",
              " 'আস': 610,\n",
              " 'এস': 1273,\n",
              " 'রতক': 3224,\n",
              " 'আজও': 268,\n",
              " 'সম': 3623,\n",
              " 'আসন': 640,\n",
              " 'হয়': 3906,\n",
              " 'নন রধ': 2319,\n",
              " 'রধ মন': 3283,\n",
              " 'মন আপন': 2770,\n",
              " 'আপন বলছ': 325,\n",
              " 'বলছ বরন': 2612,\n",
              " 'বরন কর': 2564,\n",
              " 'কর এর': 1561,\n",
              " 'এর কথ': 1241,\n",
              " 'কথ আম': 1462,\n",
              " 'আম জনগণ': 418,\n",
              " 'জনগণ এর': 1981,\n",
              " 'এর একট': 1233,\n",
              " 'একট পর': 1049,\n",
              " 'পর কর': 2432,\n",
              " 'কর আম': 1534,\n",
              " 'আম অসহ': 378,\n",
              " 'অসহ জনগণ': 157,\n",
              " 'জনগণ ধর': 1985,\n",
              " 'ধর রত': 2227,\n",
              " 'রত তক': 3119,\n",
              " 'তক উন': 2057,\n",
              " 'উন মক': 849,\n",
              " 'মক কর': 2717,\n",
              " 'কর বরন': 1598,\n",
              " 'বরন আশ': 2560,\n",
              " 'আশ রয়': 606,\n",
              " 'রয় পর': 3385,\n",
              " 'পর অন': 2417,\n",
              " 'অন আশ': 38,\n",
              " 'আশ জনগণ': 592,\n",
              " 'জনগণ আব': 1977,\n",
              " 'আব আর': 343,\n",
              " 'আর আম': 474,\n",
              " 'আম এই': 400,\n",
              " 'এই এমন': 940,\n",
              " 'এমন একট': 1213,\n",
              " 'একট ওয়': 1037,\n",
              " 'ওয় বন': 1412,\n",
              " 'বন আস': 2505,\n",
              " 'আস মন': 622,\n",
              " 'মন এস': 2781,\n",
              " 'এস আর': 1278,\n",
              " 'আর কথ': 507,\n",
              " 'কথ বরন': 1473,\n",
              " 'কর রতক': 1618,\n",
              " 'রতক আজও': 3225,\n",
              " 'আজও সম': 269,\n",
              " 'সম আসন': 3624,\n",
              " 'আসন উন': 641,\n",
              " 'কর ওয়': 1569,\n",
              " 'ওয় হয়': 1418,\n",
              " 'হয় আম': 3915,\n",
              " 'নন রধ মন': 2320,\n",
              " 'রধ মন আপন': 3284,\n",
              " 'মন আপন বলছ': 2771,\n",
              " 'আপন বলছ বরন': 326,\n",
              " 'বলছ বরন কর': 2613,\n",
              " 'বরন কর এর': 2565,\n",
              " 'কর এর কথ': 1562,\n",
              " 'এর কথ আম': 1242,\n",
              " 'কথ আম জনগণ': 1463,\n",
              " 'আম জনগণ এর': 419,\n",
              " 'জনগণ এর একট': 1982,\n",
              " 'এর একট পর': 1234,\n",
              " 'একট পর কর': 1050,\n",
              " 'পর কর আম': 2433,\n",
              " 'কর আম অসহ': 1535,\n",
              " 'আম অসহ জনগণ': 379,\n",
              " 'অসহ জনগণ ধর': 158,\n",
              " 'জনগণ ধর রত': 1986,\n",
              " 'ধর রত তক': 2228,\n",
              " 'রত তক উন': 3120,\n",
              " 'তক উন মক': 2058,\n",
              " 'উন মক কর': 850,\n",
              " 'মক কর বরন': 2721,\n",
              " 'কর বরন আশ': 1599,\n",
              " 'বরন আশ রয়': 2561,\n",
              " 'আশ রয় পর': 607,\n",
              " 'রয় পর অন': 3386,\n",
              " 'পর অন আশ': 2418,\n",
              " 'অন আশ জনগণ': 39,\n",
              " 'আশ জনগণ আব': 593,\n",
              " 'জনগণ আব আর': 1978,\n",
              " 'আব আর আম': 344,\n",
              " 'আর আম এই': 475,\n",
              " 'আম এই এমন': 401,\n",
              " 'এই এমন একট': 941,\n",
              " 'এমন একট ওয়': 1217,\n",
              " 'একট ওয় বন': 1038,\n",
              " 'ওয় বন আস': 1413,\n",
              " 'বন আস মন': 2506,\n",
              " 'আস মন এস': 623,\n",
              " 'মন এস আর': 2782,\n",
              " 'এস আর কথ': 1279,\n",
              " 'আর কথ বরন': 508,\n",
              " 'কথ বরন কর': 1474,\n",
              " 'বরন কর রতক': 2568,\n",
              " 'কর রতক আজও': 1619,\n",
              " 'রতক আজও সম': 3226,\n",
              " 'আজও সম আসন': 270,\n",
              " 'সম আসন উন': 3625,\n",
              " 'আসন উন মক': 642,\n",
              " 'মক কর ওয়': 2718,\n",
              " 'কর ওয় হয়': 1573,\n",
              " 'ওয় হয় আম': 1419,\n",
              " 'নন রধ মন আপন': 2321,\n",
              " 'রধ মন আপন বলছ': 3285,\n",
              " 'মন আপন বলছ বরন': 2772,\n",
              " 'আপন বলছ বরন কর': 327,\n",
              " 'বলছ বরন কর এর': 2614,\n",
              " 'বরন কর এর কথ': 2566,\n",
              " 'কর এর কথ আম': 1563,\n",
              " 'এর কথ আম জনগণ': 1243,\n",
              " 'কথ আম জনগণ এর': 1464,\n",
              " 'আম জনগণ এর একট': 420,\n",
              " 'জনগণ এর একট পর': 1983,\n",
              " 'এর একট পর কর': 1235,\n",
              " 'একট পর কর আম': 1051,\n",
              " 'পর কর আম অসহ': 2434,\n",
              " 'কর আম অসহ জনগণ': 1536,\n",
              " 'আম অসহ জনগণ ধর': 380,\n",
              " 'অসহ জনগণ ধর রত': 159,\n",
              " 'জনগণ ধর রত তক': 1987,\n",
              " 'ধর রত তক উন': 2229,\n",
              " 'রত তক উন মক': 3121,\n",
              " 'তক উন মক কর': 2059,\n",
              " 'উন মক কর বরন': 853,\n",
              " 'মক কর বরন আশ': 2722,\n",
              " 'কর বরন আশ রয়': 1600,\n",
              " 'বরন আশ রয় পর': 2562,\n",
              " 'আশ রয় পর অন': 608,\n",
              " 'রয় পর অন আশ': 3387,\n",
              " 'পর অন আশ জনগণ': 2419,\n",
              " 'অন আশ জনগণ আব': 40,\n",
              " 'আশ জনগণ আব আর': 594,\n",
              " 'জনগণ আব আর আম': 1979,\n",
              " 'আব আর আম এই': 345,\n",
              " 'আর আম এই এমন': 476,\n",
              " 'আম এই এমন একট': 402,\n",
              " 'এই এমন একট ওয়': 942,\n",
              " 'এমন একট ওয় বন': 1218,\n",
              " 'একট ওয় বন আস': 1039,\n",
              " 'ওয় বন আস মন': 1414,\n",
              " 'বন আস মন এস': 2507,\n",
              " 'আস মন এস আর': 624,\n",
              " 'মন এস আর কথ': 2783,\n",
              " 'এস আর কথ বরন': 1280,\n",
              " 'আর কথ বরন কর': 509,\n",
              " 'কথ বরন কর রতক': 1475,\n",
              " 'বরন কর রতক আজও': 2569,\n",
              " 'কর রতক আজও সম': 1620,\n",
              " 'রতক আজও সম আসন': 3227,\n",
              " 'আজও সম আসন উন': 271,\n",
              " 'সম আসন উন মক': 3626,\n",
              " 'আসন উন মক কর': 643,\n",
              " 'উন মক কর ওয়': 851,\n",
              " 'মক কর ওয় হয়': 2719,\n",
              " 'কর ওয় হয় আম': 1574,\n",
              " 'নন রধ মন আপন বলছ': 2322,\n",
              " 'রধ মন আপন বলছ বরন': 3286,\n",
              " 'মন আপন বলছ বরন কর': 2773,\n",
              " 'আপন বলছ বরন কর এর': 328,\n",
              " 'বলছ বরন কর এর কথ': 2615,\n",
              " 'বরন কর এর কথ আম': 2567,\n",
              " 'কর এর কথ আম জনগণ': 1564,\n",
              " 'এর কথ আম জনগণ এর': 1244,\n",
              " 'কথ আম জনগণ এর একট': 1465,\n",
              " 'আম জনগণ এর একট পর': 421,\n",
              " 'জনগণ এর একট পর কর': 1984,\n",
              " 'এর একট পর কর আম': 1236,\n",
              " 'একট পর কর আম অসহ': 1052,\n",
              " 'পর কর আম অসহ জনগণ': 2435,\n",
              " 'কর আম অসহ জনগণ ধর': 1537,\n",
              " 'আম অসহ জনগণ ধর রত': 381,\n",
              " 'অসহ জনগণ ধর রত তক': 160,\n",
              " 'জনগণ ধর রত তক উন': 1988,\n",
              " 'ধর রত তক উন মক': 2230,\n",
              " 'রত তক উন মক কর': 3122,\n",
              " 'তক উন মক কর বরন': 2060,\n",
              " 'উন মক কর বরন আশ': 854,\n",
              " 'মক কর বরন আশ রয়': 2723,\n",
              " 'কর বরন আশ রয় পর': 1601,\n",
              " 'বরন আশ রয় পর অন': 2563,\n",
              " 'আশ রয় পর অন আশ': 609,\n",
              " 'রয় পর অন আশ জনগণ': 3388,\n",
              " 'পর অন আশ জনগণ আব': 2420,\n",
              " 'অন আশ জনগণ আব আর': 41,\n",
              " 'আশ জনগণ আব আর আম': 595,\n",
              " 'জনগণ আব আর আম এই': 1980,\n",
              " 'আব আর আম এই এমন': 346,\n",
              " 'আর আম এই এমন একট': 477,\n",
              " 'আম এই এমন একট ওয়': 403,\n",
              " 'এই এমন একট ওয় বন': 943,\n",
              " 'এমন একট ওয় বন আস': 1219,\n",
              " 'একট ওয় বন আস মন': 1040,\n",
              " 'ওয় বন আস মন এস': 1415,\n",
              " 'বন আস মন এস আর': 2508,\n",
              " 'আস মন এস আর কথ': 625,\n",
              " 'মন এস আর কথ বরন': 2784,\n",
              " 'এস আর কথ বরন কর': 1281,\n",
              " 'আর কথ বরন কর রতক': 510,\n",
              " 'কথ বরন কর রতক আজও': 1476,\n",
              " 'বরন কর রতক আজও সম': 2570,\n",
              " 'কর রতক আজও সম আসন': 1621,\n",
              " 'রতক আজও সম আসন উন': 3228,\n",
              " 'আজও সম আসন উন মক': 272,\n",
              " 'সম আসন উন মক কর': 3627,\n",
              " 'আসন উন মক কর ওয়': 644,\n",
              " 'উন মক কর ওয় হয়': 852,\n",
              " 'মক কর ওয় হয় আম': 2720,\n",
              " 'বড়': 2648,\n",
              " 'গল': 1816,\n",
              " 'করছ': 1657,\n",
              " 'কন': 1496,\n",
              " 'লজ': 3407,\n",
              " 'বলত': 2620,\n",
              " 'বড় গল': 2657,\n",
              " 'গল উন': 1828,\n",
              " 'উন রত': 858,\n",
              " 'রত করছ': 3089,\n",
              " 'করছ আব': 1658,\n",
              " 'আব কন': 359,\n",
              " 'কন লজ': 1499,\n",
              " 'লজ বলত': 3412,\n",
              " 'বলত আছ': 2621,\n",
              " 'বড় গল উন': 2658,\n",
              " 'গল উন রত': 1829,\n",
              " 'উন রত করছ': 859,\n",
              " 'রত করছ আব': 3090,\n",
              " 'করছ আব কন': 1659,\n",
              " 'আব কন লজ': 360,\n",
              " 'কন লজ বলত': 1500,\n",
              " 'লজ বলত আছ': 3413,\n",
              " 'বড় গল উন রত': 2659,\n",
              " 'গল উন রত করছ': 1830,\n",
              " 'উন রত করছ আব': 860,\n",
              " 'রত করছ আব কন': 3091,\n",
              " 'করছ আব কন লজ': 1660,\n",
              " 'আব কন লজ বলত': 361,\n",
              " 'কন লজ বলত আছ': 1501,\n",
              " 'বড় গল উন রত করছ': 2660,\n",
              " 'গল উন রত করছ আব': 1831,\n",
              " 'উন রত করছ আব কন': 861,\n",
              " 'রত করছ আব কন লজ': 3092,\n",
              " 'করছ আব কন লজ বলত': 1661,\n",
              " 'আব কন লজ বলত আছ': 362,\n",
              " 'অব': 82,\n",
              " 'পশ': 2466,\n",
              " 'ৎদ': 3966,\n",
              " 'এব': 1181,\n",
              " 'হন': 3809,\n",
              " 'তজ': 2078,\n",
              " 'ঞত': 2028,\n",
              " 'দন': 2177,\n",
              " 'ওট': 1346,\n",
              " 'ওদ': 1360,\n",
              " 'নক': 2240,\n",
              " 'ওয': 1370,\n",
              " 'নত': 2288,\n",
              " 'ভক': 2679,\n",
              " 'ষণ': 3504,\n",
              " 'রত এস': 3075,\n",
              " 'এস অব': 1274,\n",
              " 'অব আব': 83,\n",
              " 'আব পশ': 363,\n",
              " 'পশ ৎদ': 2471,\n",
              " 'ৎদ এব': 3967,\n",
              " 'এব হন': 1207,\n",
              " 'হন কর': 3810,\n",
              " 'আম তজ': 422,\n",
              " 'তজ ঞত': 2079,\n",
              " 'ঞত দন': 2029,\n",
              " 'দন রধ': 2182,\n",
              " 'রধ ধর': 3279,\n",
              " 'ধর ওট': 2223,\n",
              " 'ওট ওদ': 1347,\n",
              " 'ওদ এব': 1361,\n",
              " 'এব নক': 1197,\n",
              " 'নক আম': 2241,\n",
              " 'আম দন': 426,\n",
              " 'দন ওয': 2178,\n",
              " 'ওয নত': 1375,\n",
              " 'নত এব': 2289,\n",
              " 'এব ভক': 1201,\n",
              " 'ভক ষণ': 2680,\n",
              " 'ষণ নত': 3505,\n",
              " 'রত এস অব': 3076,\n",
              " 'এস অব আব': 1275,\n",
              " 'অব আব পশ': 84,\n",
              " 'আব পশ ৎদ': 364,\n",
              " 'পশ ৎদ এব': 2472,\n",
              " 'ৎদ এব হন': 3968,\n",
              " 'এব হন কর': 1208,\n",
              " 'হন কর আম': 3811,\n",
              " 'কর আম তজ': 1538,\n",
              " 'আম তজ ঞত': 423,\n",
              " 'তজ ঞত দন': 2080,\n",
              " 'ঞত দন রধ': 2030,\n",
              " 'দন রধ ধর': 2183,\n",
              " 'রধ ধর ওট': 3280,\n",
              " 'ধর ওট ওদ': 2224,\n",
              " 'ওট ওদ এব': 1348,\n",
              " 'ওদ এব নক': 1362,\n",
              " 'এব নক আম': 1198,\n",
              " 'নক আম দন': 2242,\n",
              " 'আম দন ওয': 427,\n",
              " 'দন ওয নত': 2179,\n",
              " 'ওয নত এব': 1376,\n",
              " 'নত এব ভক': 2290,\n",
              " 'এব ভক ষণ': 1202,\n",
              " 'ভক ষণ নত': 2681,\n",
              " 'রত এস অব আব': 3077,\n",
              " 'এস অব আব পশ': 1276,\n",
              " 'অব আব পশ ৎদ': 85,\n",
              " 'আব পশ ৎদ এব': 365,\n",
              " 'পশ ৎদ এব হন': 2473,\n",
              " 'ৎদ এব হন কর': 3969,\n",
              " 'এব হন কর আম': 1209,\n",
              " 'হন কর আম তজ': 3812,\n",
              " 'কর আম তজ ঞত': 1539,\n",
              " 'আম তজ ঞত দন': 424,\n",
              " 'তজ ঞত দন রধ': 2081,\n",
              " 'ঞত দন রধ ধর': 2031,\n",
              " 'দন রধ ধর ওট': 2184,\n",
              " 'রধ ধর ওট ওদ': 3281,\n",
              " 'ধর ওট ওদ এব': 2225,\n",
              " 'ওট ওদ এব নক': 1349,\n",
              " 'ওদ এব নক আম': 1363,\n",
              " 'এব নক আম দন': 1199,\n",
              " 'নক আম দন ওয': 2243,\n",
              " 'আম দন ওয নত': 428,\n",
              " 'দন ওয নত এব': 2180,\n",
              " 'ওয নত এব ভক': 1377,\n",
              " 'নত এব ভক ষণ': 2291,\n",
              " 'এব ভক ষণ নত': 1203,\n",
              " 'রত এস অব আব পশ': 3078,\n",
              " 'এস অব আব পশ ৎদ': 1277,\n",
              " 'অব আব পশ ৎদ এব': 86,\n",
              " 'আব পশ ৎদ এব হন': 366,\n",
              " 'পশ ৎদ এব হন কর': 2474,\n",
              " 'ৎদ এব হন কর আম': 3970,\n",
              " 'এব হন কর আম তজ': 1210,\n",
              " 'হন কর আম তজ ঞত': 3813,\n",
              " 'কর আম তজ ঞত দন': 1540,\n",
              " 'আম তজ ঞত দন রধ': 425,\n",
              " 'তজ ঞত দন রধ ধর': 2082,\n",
              " 'ঞত দন রধ ধর ওট': 2032,\n",
              " 'দন রধ ধর ওট ওদ': 2185,\n",
              " 'রধ ধর ওট ওদ এব': 3282,\n",
              " 'ধর ওট ওদ এব নক': 2226,\n",
              " 'ওট ওদ এব নক আম': 1350,\n",
              " 'ওদ এব নক আম দন': 1364,\n",
              " 'এব নক আম দন ওয': 1200,\n",
              " 'নক আম দন ওয নত': 2244,\n",
              " 'আম দন ওয নত এব': 429,\n",
              " 'দন ওয নত এব ভক': 2181,\n",
              " 'ওয নত এব ভক ষণ': 1378,\n",
              " 'নত এব ভক ষণ নত': 2292,\n",
              " 'যদ': 2894,\n",
              " 'ইচ': 667,\n",
              " 'মত': 2728,\n",
              " 'করত': 1663,\n",
              " 'আগ': 181,\n",
              " 'ঘর': 1879,\n",
              " 'থর': 2157,\n",
              " 'আটক': 276,\n",
              " 'উচ': 775,\n",
              " 'এত': 1136,\n",
              " 'জন': 1920,\n",
              " 'যদ ইচ': 2895,\n",
              " 'ইচ মত': 672,\n",
              " 'মত করত': 2745,\n",
              " 'করত রত': 1675,\n",
              " 'রত একট': 3055,\n",
              " 'একট আগ': 1018,\n",
              " 'আগ ঘর': 202,\n",
              " 'ঘর বন': 1880,\n",
              " 'বন আর': 2497,\n",
              " 'আর এখন': 490,\n",
              " 'এখন থর': 1094,\n",
              " 'থর বন': 2158,\n",
              " 'বন কর': 2509,\n",
              " 'ওয় আটক': 1394,\n",
              " 'আটক উচ': 277,\n",
              " 'উচ এত': 780,\n",
              " 'এত অসহ': 1137,\n",
              " 'অসহ জন': 156,\n",
              " 'যদ ইচ মত': 2896,\n",
              " 'ইচ মত করত': 673,\n",
              " 'মত করত রত': 2746,\n",
              " 'করত রত একট': 1676,\n",
              " 'রত একট আগ': 3056,\n",
              " 'একট আগ ঘর': 1019,\n",
              " 'আগ ঘর বন': 203,\n",
              " 'ঘর বন আর': 1881,\n",
              " 'বন আর এখন': 2498,\n",
              " 'আর এখন থর': 494,\n",
              " 'এখন থর বন': 1095,\n",
              " 'থর বন কর': 2159,\n",
              " 'বন কর ওয়': 2510,\n",
              " 'কর ওয় আটক': 1570,\n",
              " 'ওয় আটক উচ': 1395,\n",
              " 'আটক উচ এত': 278,\n",
              " 'উচ এত অসহ': 781,\n",
              " 'এত অসহ জন': 1138,\n",
              " 'যদ ইচ মত করত': 2897,\n",
              " 'ইচ মত করত রত': 674,\n",
              " 'মত করত রত একট': 2747,\n",
              " 'করত রত একট আগ': 1677,\n",
              " 'রত একট আগ ঘর': 3057,\n",
              " 'একট আগ ঘর বন': 1020,\n",
              " 'আগ ঘর বন আর': 204,\n",
              " 'ঘর বন আর এখন': 1882,\n",
              " 'বন আর এখন থর': 2499,\n",
              " 'আর এখন থর বন': 495,\n",
              " 'এখন থর বন কর': 1096,\n",
              " 'থর বন কর ওয়': 2160,\n",
              " 'বন কর ওয় আটক': 2511,\n",
              " 'কর ওয় আটক উচ': 1571,\n",
              " 'ওয় আটক উচ এত': 1396,\n",
              " 'আটক উচ এত অসহ': 279,\n",
              " 'উচ এত অসহ জন': 782,\n",
              " 'যদ ইচ মত করত রত': 2898,\n",
              " 'ইচ মত করত রত একট': 675,\n",
              " 'মত করত রত একট আগ': 2748,\n",
              " 'করত রত একট আগ ঘর': 1678,\n",
              " 'রত একট আগ ঘর বন': 3058,\n",
              " 'একট আগ ঘর বন আর': 1021,\n",
              " 'আগ ঘর বন আর এখন': 205,\n",
              " 'ঘর বন আর এখন থর': 1883,\n",
              " 'বন আর এখন থর বন': 2500,\n",
              " 'আর এখন থর বন কর': 496,\n",
              " 'এখন থর বন কর ওয়': 1097,\n",
              " 'থর বন কর ওয় আটক': 2161,\n",
              " 'বন কর ওয় আটক উচ': 2512,\n",
              " 'কর ওয় আটক উচ এত': 1572,\n",
              " 'ওয় আটক উচ এত অসহ': 1397,\n",
              " 'আটক উচ এত অসহ জন': 280,\n",
              " 'সট': 3540,\n",
              " 'এই নক': 956,\n",
              " 'নক একট': 2249,\n",
              " 'একট সট': 1060,\n",
              " 'এই নক একট': 957,\n",
              " 'নক একট সট': 2250,\n",
              " 'এই নক একট সট': 958,\n",
              " 'ধব': 2216,\n",
              " 'তর': 2123,\n",
              " 'ঐক': 1308,\n",
              " 'বল': 2571,\n",
              " 'তর লজ': 2141,\n",
              " 'লজ ঐক': 3408,\n",
              " 'ঐক একট': 1309,\n",
              " 'একট কথ': 1041,\n",
              " 'কথ বল': 1477,\n",
              " 'তর লজ ঐক': 2142,\n",
              " 'লজ ঐক একট': 3409,\n",
              " 'ঐক একট কথ': 1310,\n",
              " 'একট কথ বল': 1042,\n",
              " 'তর লজ ঐক একট': 2143,\n",
              " 'লজ ঐক একট কথ': 3410,\n",
              " 'ঐক একট কথ বল': 1311,\n",
              " 'তর লজ ঐক একট কথ': 2144,\n",
              " 'লজ ঐক একট কথ বল': 3411,\n",
              " 'সব': 3585,\n",
              " 'সরক': 3678,\n",
              " 'হত': 3787,\n",
              " 'য়দ': 3980,\n",
              " 'অর': 132,\n",
              " 'যর': 2946,\n",
              " 'আনব': 291,\n",
              " 'রব': 3300,\n",
              " 'লত': 3416,\n",
              " 'যম': 2937,\n",
              " 'উৎত': 917,\n",
              " 'হওয়': 3753,\n",
              " 'সরক হত': 3691,\n",
              " 'হত রত': 3794,\n",
              " 'রত য়দ': 3220,\n",
              " 'য়দ অর': 3981,\n",
              " 'অর কথ': 133,\n",
              " 'কথ রত': 1487,\n",
              " 'রত যর': 3166,\n",
              " 'যর সম': 2947,\n",
              " 'সম পর': 3631,\n",
              " 'কর সরক': 1634,\n",
              " 'সরক আনব': 3683,\n",
              " 'আনব আনব': 292,\n",
              " 'আনব পর': 296,\n",
              " 'পর রব': 2454,\n",
              " 'রব সরক': 3318,\n",
              " 'সরক লত': 3687,\n",
              " 'লত এর': 3421,\n",
              " 'এর যম': 1252,\n",
              " 'যম রত': 2938,\n",
              " 'রত পর': 3139,\n",
              " 'পর উৎত': 2421,\n",
              " 'উৎত হওয়': 918,\n",
              " 'হওয় করছ': 3754,\n",
              " 'সরক হত রত': 3692,\n",
              " 'হত রত য়দ': 3798,\n",
              " 'রত য়দ অর': 3221,\n",
              " 'য়দ অর কথ': 3982,\n",
              " 'অর কথ রত': 134,\n",
              " 'কথ রত যর': 1488,\n",
              " 'রত যর সম': 3167,\n",
              " 'যর সম পর': 2948,\n",
              " 'সম পর কর': 3635,\n",
              " 'পর কর সরক': 2436,\n",
              " 'কর সরক আনব': 1635,\n",
              " 'সরক আনব আনব': 3684,\n",
              " 'আনব আনব পর': 293,\n",
              " 'আনব পর রব': 297,\n",
              " 'পর রব সরক': 2455,\n",
              " 'রব সরক লত': 3319,\n",
              " 'সরক লত এর': 3688,\n",
              " 'লত এর যম': 3422,\n",
              " 'এর যম রত': 1253,\n",
              " 'যম রত পর': 2939,\n",
              " 'রত পর উৎত': 3140,\n",
              " 'পর উৎত হওয়': 2422,\n",
              " 'উৎত হওয় করছ': 919,\n",
              " 'সরক হত রত য়দ': 3693,\n",
              " 'হত রত য়দ অর': 3799,\n",
              " 'রত য়দ অর কথ': 3222,\n",
              " 'য়দ অর কথ রত': 3983,\n",
              " 'অর কথ রত যর': 135,\n",
              " 'কথ রত যর সম': 1489,\n",
              " 'রত যর সম পর': 3168,\n",
              " 'যর সম পর কর': 2949,\n",
              " 'সম পর কর সরক': 3636,\n",
              " 'পর কর সরক আনব': 2437,\n",
              " 'কর সরক আনব আনব': 1636,\n",
              " 'সরক আনব আনব পর': 3685,\n",
              " 'আনব আনব পর রব': 294,\n",
              " 'আনব পর রব সরক': 298,\n",
              " 'পর রব সরক লত': 2456,\n",
              " 'রব সরক লত এর': 3320,\n",
              " 'সরক লত এর যম': 3689,\n",
              " 'লত এর যম রত': 3423,\n",
              " 'এর যম রত পর': 1254,\n",
              " 'যম রত পর উৎত': 2940,\n",
              " 'রত পর উৎত হওয়': 3141,\n",
              " 'পর উৎত হওয় করছ': 2423,\n",
              " 'সরক হত রত য়দ অর': 3694,\n",
              " 'হত রত য়দ অর কথ': 3800,\n",
              " 'রত য়দ অর কথ রত': 3223,\n",
              " 'য়দ অর কথ রত যর': 3984,\n",
              " 'অর কথ রত যর সম': 136,\n",
              " 'কথ রত যর সম পর': 1490,\n",
              " 'রত যর সম পর কর': 3169,\n",
              " 'যর সম পর কর সরক': 2950,\n",
              " 'সম পর কর সরক আনব': 3637,\n",
              " 'পর কর সরক আনব আনব': 2438,\n",
              " 'কর সরক আনব আনব পর': 1637,\n",
              " 'সরক আনব আনব পর রব': 3686,\n",
              " 'আনব আনব পর রব সরক': 295,\n",
              " 'আনব পর রব সরক লত': 299,\n",
              " 'পর রব সরক লত এর': 2457,\n",
              " 'রব সরক লত এর যম': 3321,\n",
              " 'সরক লত এর যম রত': 3690,\n",
              " 'লত এর যম রত পর': 3424,\n",
              " 'এর যম রত পর উৎত': 1255,\n",
              " 'যম রত পর উৎত হওয়': 2941,\n",
              " 'রত পর উৎত হওয় করছ': 3142,\n",
              " 'উপর': 895,\n",
              " 'সহ': 3738,\n",
              " 'সত': 3541,\n",
              " 'ঘট': 1855,\n",
              " 'উদ': 826,\n",
              " 'নয়': 2352,\n",
              " 'নব': 2323,\n",
              " 'সলম': 3724,\n",
              " 'অত': 5,\n",
              " 'তখন': 2065,\n",
              " 'য়ন': 3985,\n",
              " 'খত': 1735,\n",
              " 'যদ উপর': 2903,\n",
              " 'উপর সহ': 904,\n",
              " 'সহ সত': 3739,\n",
              " 'সত ঘট': 3546,\n",
              " 'ঘট হল': 1856,\n",
              " 'হল রত': 3882,\n",
              " 'রত উদ': 3043,\n",
              " 'উদ রত': 831,\n",
              " 'রত নয়': 3135,\n",
              " 'নয় অন': 2353,\n",
              " 'অন নব': 50,\n",
              " 'নব কর': 2324,\n",
              " 'কর এব': 1555,\n",
              " 'এব জন': 1190,\n",
              " 'জন রত': 1960,\n",
              " 'রত এব': 3070,\n",
              " 'এব অন': 1182,\n",
              " 'অন যদ': 58,\n",
              " 'যদ সলম': 2923,\n",
              " 'সলম উপর': 3725,\n",
              " 'উপর অত': 896,\n",
              " 'অত কর': 6,\n",
              " 'কর হয়': 1650,\n",
              " 'হয় তখন': 3924,\n",
              " 'তখন নব': 2074,\n",
              " 'জন ওয়': 1930,\n",
              " 'ওয় য়ন': 1421,\n",
              " 'য়ন তখন': 3990,\n",
              " 'তখন খত': 2070,\n",
              " 'খত য়ন': 1742,\n",
              " 'য়ন নত': 3994,\n",
              " 'নত য়ন': 2305,\n",
              " 'যদ উপর সহ': 2904,\n",
              " 'উপর সহ সত': 905,\n",
              " 'সহ সত ঘট': 3740,\n",
              " 'সত ঘট হল': 3547,\n",
              " 'ঘট হল রত': 1857,\n",
              " 'হল রত উদ': 3883,\n",
              " 'রত উদ রত': 3044,\n",
              " 'উদ রত নয়': 832,\n",
              " 'রত নয় অন': 3136,\n",
              " 'নয় অন নব': 2354,\n",
              " 'অন নব কর': 51,\n",
              " 'নব কর এব': 2325,\n",
              " 'কর এব জন': 1556,\n",
              " 'এব জন রত': 1194,\n",
              " 'জন রত এব': 1961,\n",
              " 'রত এব অন': 3071,\n",
              " 'এব অন যদ': 1183,\n",
              " 'অন যদ সলম': 62,\n",
              " 'যদ সলম উপর': 2924,\n",
              " 'সলম উপর অত': 3726,\n",
              " 'উপর অত কর': 897,\n",
              " 'অত কর হয়': 7,\n",
              " 'কর হয় তখন': 1654,\n",
              " 'হয় তখন নব': 3925,\n",
              " 'তখন নব কর': 2075,\n",
              " 'এব জন ওয়': 1191,\n",
              " 'জন ওয় য়ন': 1931,\n",
              " 'ওয় য়ন তখন': 1422,\n",
              " 'য়ন তখন খত': 3991,\n",
              " 'তখন খত য়ন': 2071,\n",
              " 'খত য়ন নত': 1743,\n",
              " 'য়ন নত য়ন': 3995,\n",
              " 'যদ উপর সহ সত': 2905,\n",
              " 'উপর সহ সত ঘট': 906,\n",
              " 'সহ সত ঘট হল': 3741,\n",
              " 'সত ঘট হল রত': 3548,\n",
              " 'ঘট হল রত উদ': 1858,\n",
              " 'হল রত উদ রত': 3884,\n",
              " 'রত উদ রত নয়': 3045,\n",
              " 'উদ রত নয় অন': 833,\n",
              " 'রত নয় অন নব': 3137,\n",
              " 'নয় অন নব কর': 2355,\n",
              " 'অন নব কর এব': 52,\n",
              " 'নব কর এব জন': 2326,\n",
              " 'কর এব জন রত': 1559,\n",
              " 'এব জন রত এব': 1195,\n",
              " 'জন রত এব অন': 1962,\n",
              " 'রত এব অন যদ': 3072,\n",
              " 'এব অন যদ সলম': 1184,\n",
              " 'অন যদ সলম উপর': 63,\n",
              " 'যদ সলম উপর অত': 2925,\n",
              " 'সলম উপর অত কর': 3727,\n",
              " 'উপর অত কর হয়': 898,\n",
              " 'অত কর হয় তখন': 8,\n",
              " 'কর হয় তখন নব': 1655,\n",
              " 'হয় তখন নব কর': 3926,\n",
              " 'তখন নব কর এব': 2076,\n",
              " 'কর এব জন ওয়': 1557,\n",
              " 'এব জন ওয় য়ন': 1192,\n",
              " 'জন ওয় য়ন তখন': 1932,\n",
              " 'ওয় য়ন তখন খত': 1423,\n",
              " 'য়ন তখন খত য়ন': 3992,\n",
              " 'তখন খত য়ন নত': 2072,\n",
              " 'খত য়ন নত য়ন': 1744,\n",
              " 'যদ উপর সহ সত ঘট': 2906,\n",
              " 'উপর সহ সত ঘট হল': 907,\n",
              " 'সহ সত ঘট হল রত': 3742,\n",
              " 'সত ঘট হল রত উদ': 3549,\n",
              " 'ঘট হল রত উদ রত': 1859,\n",
              " 'হল রত উদ রত নয়': 3885,\n",
              " 'রত উদ রত নয় অন': 3046,\n",
              " 'উদ রত নয় অন নব': 834,\n",
              " 'রত নয় অন নব কর': 3138,\n",
              " 'নয় অন নব কর এব': 2356,\n",
              " 'অন নব কর এব জন': 53,\n",
              " 'নব কর এব জন রত': 2328,\n",
              " 'কর এব জন রত এব': 1560,\n",
              " 'এব জন রত এব অন': 1196,\n",
              " 'জন রত এব অন যদ': 1963,\n",
              " 'রত এব অন যদ সলম': 3073,\n",
              " 'এব অন যদ সলম উপর': 1185,\n",
              " 'অন যদ সলম উপর অত': 64,\n",
              " 'যদ সলম উপর অত কর': 2926,\n",
              " 'সলম উপর অত কর হয়': 3728,\n",
              " 'উপর অত কর হয় তখন': 899,\n",
              " 'অত কর হয় তখন নব': 9,\n",
              " 'কর হয় তখন নব কর': 1656,\n",
              " 'হয় তখন নব কর এব': 3927,\n",
              " 'তখন নব কর এব জন': 2077,\n",
              " 'নব কর এব জন ওয়': 2327,\n",
              " 'কর এব জন ওয় য়ন': 1558,\n",
              " 'এব জন ওয় য়ন তখন': 1193,\n",
              " 'জন ওয় য়ন তখন খত': 1933,\n",
              " 'ওয় য়ন তখন খত য়ন': 1424,\n",
              " 'য়ন তখন খত য়ন নত': 3993,\n",
              " 'তখন খত য়ন নত য়ন': 2073,\n",
              " 'রট': 3006,\n",
              " 'ওক': 1345,\n",
              " 'রট মন': 3007,\n",
              " 'মন ওক': 2785,\n",
              " 'রট মন ওক': 3008,\n",
              " 'সবচ': 3612,\n",
              " 'অভদ': 127,\n",
              " 'শই': 3443,\n",
              " 'এক': 977,\n",
              " 'কম': 1511,\n",
              " 'এইহল': 972,\n",
              " 'তব': 2096,\n",
              " 'নগ': 2271,\n",
              " 'চল': 1905,\n",
              " 'আমর': 453,\n",
              " 'জয়': 2014,\n",
              " 'হস': 3897,\n",
              " 'ঔষদ': 1425,\n",
              " 'সবচ অভদ': 3613,\n",
              " 'অভদ আর': 128,\n",
              " 'আর নয়': 519,\n",
              " 'নয় বলত': 2381,\n",
              " 'বলত একট': 2622,\n",
              " 'একট শই': 1056,\n",
              " 'শই রয়': 3444,\n",
              " 'রয় আর': 3381,\n",
              " 'আর এক': 486,\n",
              " 'এক নয়': 999,\n",
              " 'নয় কম': 2365,\n",
              " 'কম রত': 1520,\n",
              " 'রত এইহল': 3051,\n",
              " 'এইহল আম': 973,\n",
              " 'আম আর': 388,\n",
              " 'আর তব': 515,\n",
              " 'তব আম': 2101,\n",
              " 'আম মত': 443,\n",
              " 'মত নগ': 2749,\n",
              " 'নগ চল': 2272,\n",
              " 'চল ওয়': 1906,\n",
              " 'ওয় উচ': 1402,\n",
              " 'উচ আমর': 776,\n",
              " 'আমর রজ': 461,\n",
              " 'রজ রত': 3001,\n",
              " 'রত জয়': 3111,\n",
              " 'জয় হয়': 2018,\n",
              " 'হয় আছ': 3907,\n",
              " 'আছ হস': 247,\n",
              " 'হস ওয়': 3898,\n",
              " 'ওয় করত': 1406,\n",
              " 'করত আর': 1664,\n",
              " 'আর ঔষদ': 501,\n",
              " 'ঔষদ হয়': 1426,\n",
              " 'সবচ অভদ আর': 3614,\n",
              " 'অভদ আর নয়': 129,\n",
              " 'আর নয় বলত': 520,\n",
              " 'নয় বলত একট': 2382,\n",
              " 'বলত একট শই': 2623,\n",
              " 'একট শই রয়': 1057,\n",
              " 'শই রয় আর': 3445,\n",
              " 'রয় আর এক': 3382,\n",
              " 'আর এক নয়': 487,\n",
              " 'এক নয় কম': 1000,\n",
              " 'নয় কম রত': 2366,\n",
              " 'কম রত এইহল': 1521,\n",
              " 'রত এইহল আম': 3052,\n",
              " 'এইহল আম আর': 974,\n",
              " 'আম আর তব': 389,\n",
              " 'আর তব আম': 516,\n",
              " 'তব আম মত': 2102,\n",
              " 'আম মত নগ': 444,\n",
              " 'মত নগ চল': 2750,\n",
              " 'নগ চল ওয়': 2273,\n",
              " 'চল ওয় উচ': 1907,\n",
              " 'ওয় উচ আমর': 1403,\n",
              " 'উচ আমর রজ': 777,\n",
              " 'আমর রজ রত': 462,\n",
              " 'রজ রত জয়': 3002,\n",
              " 'রত জয় হয়': 3112,\n",
              " 'জয় হয় আছ': 2019,\n",
              " 'হয় আছ হস': 3908,\n",
              " 'আছ হস ওয়': 248,\n",
              " 'হস ওয় করত': 3899,\n",
              " 'ওয় করত আর': 1407,\n",
              " 'করত আর ঔষদ': 1665,\n",
              " 'আর ঔষদ হয়': 502,\n",
              " 'সবচ অভদ আর নয়': 3615,\n",
              " 'অভদ আর নয় বলত': 130,\n",
              " 'আর নয় বলত একট': 521,\n",
              " 'নয় বলত একট শই': 2383,\n",
              " 'বলত একট শই রয়': 2624,\n",
              " 'একট শই রয় আর': 1058,\n",
              " 'শই রয় আর এক': 3446,\n",
              " 'রয় আর এক নয়': 3383,\n",
              " 'আর এক নয় কম': 488,\n",
              " 'এক নয় কম রত': 1001,\n",
              " 'নয় কম রত এইহল': 2367,\n",
              " 'কম রত এইহল আম': 1522,\n",
              " 'রত এইহল আম আর': 3053,\n",
              " 'এইহল আম আর তব': 975,\n",
              " 'আম আর তব আম': 390,\n",
              " 'আর তব আম মত': 517,\n",
              " 'তব আম মত নগ': 2103,\n",
              " 'আম মত নগ চল': 445,\n",
              " 'মত নগ চল ওয়': 2751,\n",
              " 'নগ চল ওয় উচ': 2274,\n",
              " 'চল ওয় উচ আমর': 1908,\n",
              " 'ওয় উচ আমর রজ': 1404,\n",
              " 'উচ আমর রজ রত': 778,\n",
              " 'আমর রজ রত জয়': 463,\n",
              " 'রজ রত জয় হয়': 3003,\n",
              " 'রত জয় হয় আছ': 3113,\n",
              " 'জয় হয় আছ হস': 2020,\n",
              " 'হয় আছ হস ওয়': 3909,\n",
              " 'আছ হস ওয় করত': 249,\n",
              " 'হস ওয় করত আর': 3900,\n",
              " 'ওয় করত আর ঔষদ': 1408,\n",
              " 'করত আর ঔষদ হয়': 1666,\n",
              " 'সবচ অভদ আর নয় বলত': 3616,\n",
              " 'অভদ আর নয় বলত একট': 131,\n",
              " 'আর নয় বলত একট শই': 522,\n",
              " 'নয় বলত একট শই রয়': 2384,\n",
              " 'বলত একট শই রয় আর': 2625,\n",
              " 'একট শই রয় আর এক': 1059,\n",
              " 'শই রয় আর এক নয়': 3447,\n",
              " 'রয় আর এক নয় কম': 3384,\n",
              " 'আর এক নয় কম রত': 489,\n",
              " 'এক নয় কম রত এইহল': 1002,\n",
              " 'নয় কম রত এইহল আম': 2368,\n",
              " 'কম রত এইহল আম আর': 1523,\n",
              " 'রত এইহল আম আর তব': 3054,\n",
              " 'এইহল আম আর তব আম': 976,\n",
              " 'আম আর তব আম মত': 391,\n",
              " 'আর তব আম মত নগ': 518,\n",
              " 'তব আম মত নগ চল': 2104,\n",
              " 'আম মত নগ চল ওয়': 446,\n",
              " 'মত নগ চল ওয় উচ': 2752,\n",
              " 'নগ চল ওয় উচ আমর': 2275,\n",
              " 'চল ওয় উচ আমর রজ': 1909,\n",
              " 'ওয় উচ আমর রজ রত': 1405,\n",
              " 'উচ আমর রজ রত জয়': 779,\n",
              " 'আমর রজ রত জয় হয়': 464,\n",
              " 'রজ রত জয় হয় আছ': 3004,\n",
              " 'রত জয় হয় আছ হস': 3114,\n",
              " 'জয় হয় আছ হস ওয়': 2021,\n",
              " 'হয় আছ হস ওয় করত': 3910,\n",
              " 'আছ হস ওয় করত আর': 250,\n",
              " 'হস ওয় করত আর ঔষদ': 3901,\n",
              " 'ওয় করত আর ঔষদ হয়': 1409,\n",
              " 'ইন': 699,\n",
              " 'আফ': 337,\n",
              " 'অস': 142,\n",
              " 'অবশ': 91,\n",
              " 'এট': 1119,\n",
              " 'হব': 3814,\n",
              " 'আম মন': 447,\n",
              " 'মন হয়': 2806,\n",
              " 'হয় আপন': 3911,\n",
              " 'আপন ইন': 318,\n",
              " 'ইন আছ': 700,\n",
              " 'আছ বল': 236,\n",
              " 'বল আপন': 2577,\n",
              " 'আপন আর': 314,\n",
              " 'আর উপর': 482,\n",
              " 'উপর আফ': 900,\n",
              " 'আফ অন': 338,\n",
              " 'অন অস': 31,\n",
              " 'অস অবশ': 143,\n",
              " 'অবশ এট': 92,\n",
              " 'এট নত': 1132,\n",
              " 'নত হব': 2301,\n",
              " 'হব রত': 3827,\n",
              " 'রত আম': 3022,\n",
              " 'আম বন': 433,\n",
              " 'আম মন হয়': 448,\n",
              " 'মন হয় আপন': 2807,\n",
              " 'হয় আপন ইন': 3912,\n",
              " 'আপন ইন আছ': 319,\n",
              " 'ইন আছ বল': 701,\n",
              " 'আছ বল আপন': 237,\n",
              " 'বল আপন আর': 2578,\n",
              " 'আপন আর উপর': 315,\n",
              " 'আর উপর আফ': 483,\n",
              " 'উপর আফ অন': 901,\n",
              " 'আফ অন অস': 339,\n",
              " 'অন অস অবশ': 32,\n",
              " 'অস অবশ এট': 144,\n",
              " 'অবশ এট নত': 93,\n",
              " 'এট নত হব': 1133,\n",
              " 'নত হব রত': 2302,\n",
              " 'হব রত আম': 3828,\n",
              " 'রত আম বন': 3023,\n",
              " 'আম মন হয় আপন': 449,\n",
              " 'মন হয় আপন ইন': 2808,\n",
              " 'হয় আপন ইন আছ': 3913,\n",
              " 'আপন ইন আছ বল': 320,\n",
              " 'ইন আছ বল আপন': 702,\n",
              " 'আছ বল আপন আর': 238,\n",
              " 'বল আপন আর উপর': 2579,\n",
              " 'আপন আর উপর আফ': 316,\n",
              " 'আর উপর আফ অন': 484,\n",
              " 'উপর আফ অন অস': 902,\n",
              " 'আফ অন অস অবশ': 340,\n",
              " 'অন অস অবশ এট': 33,\n",
              " 'অস অবশ এট নত': 145,\n",
              " 'অবশ এট নত হব': 94,\n",
              " 'এট নত হব রত': 1134,\n",
              " 'নত হব রত আম': 2303,\n",
              " 'হব রত আম বন': 3829,\n",
              " 'আম মন হয় আপন ইন': 450,\n",
              " 'মন হয় আপন ইন আছ': 2809,\n",
              " 'হয় আপন ইন আছ বল': 3914,\n",
              " 'আপন ইন আছ বল আপন': 321,\n",
              " 'ইন আছ বল আপন আর': 703,\n",
              " 'আছ বল আপন আর উপর': 239,\n",
              " 'বল আপন আর উপর আফ': 2580,\n",
              " 'আপন আর উপর আফ অন': 317,\n",
              " 'আর উপর আফ অন অস': 485,\n",
              " 'উপর আফ অন অস অবশ': 903,\n",
              " 'আফ অন অস অবশ এট': 341,\n",
              " 'অন অস অবশ এট নত': 34,\n",
              " 'অস অবশ এট নত হব': 146,\n",
              " 'অবশ এট নত হব রত': 95,\n",
              " 'এট নত হব রত আম': 1135,\n",
              " 'নত হব রত আম বন': 2304,\n",
              " 'আন': 283,\n",
              " 'আন এই': 284,\n",
              " 'ওন': 1365,\n",
              " ...}"
            ]
          },
          "metadata": {},
          "execution_count": 81
        }
      ]
    },
    {
      "cell_type": "code",
      "source": [
        "from sklearn.feature_extraction.text import TfidfTransformer\n",
        "tfidf = TfidfTransformer()\n",
        "\n",
        "x_train_tfidf = tfidf.fit_transform(x_train_vectorizer)\n",
        "\n",
        "x_train_tfidf.toarray()\n",
        "x_test_tfidf = tfidf.transform(x_test_vectorizer)"
      ],
      "metadata": {
        "id": "-0HdCWMmQFjj"
      },
      "execution_count": 82,
      "outputs": []
    },
    {
      "cell_type": "code",
      "source": [
        "from sklearn.naive_bayes import MultinomialNB\n",
        "from sklearn.metrics import classification_report\n",
        "from sklearn.metrics import confusion_matrix"
      ],
      "metadata": {
        "id": "54GNl55lQTCw"
      },
      "execution_count": 83,
      "outputs": []
    },
    {
      "cell_type": "code",
      "source": [
        "model_vectorizer= MultinomialNB().fit(x_train_vectorizer, y_train)\n",
        "prediction_vectorizer=model_vectorizer.predict(x_test_vectorizer)\n",
        "print(confusion_matrix(y_test,prediction_vectorizer))\n",
        "print (classification_report(y_test, prediction_vectorizer))"
      ],
      "metadata": {
        "colab": {
          "base_uri": "https://localhost:8080/"
        },
        "id": "-QXMCNLRQWYW",
        "outputId": "c5c3858b-94d8-4b36-d852-feaee0ff7e3a"
      },
      "execution_count": 84,
      "outputs": [
        {
          "output_type": "stream",
          "name": "stdout",
          "text": [
            "[[ 5  0  0  0]\n",
            " [ 0 28  1  1]\n",
            " [ 0  2  9  0]\n",
            " [ 0  1  0  3]]\n",
            "              precision    recall  f1-score   support\n",
            "\n",
            "           0       1.00      1.00      1.00         5\n",
            "           1       0.90      0.93      0.92        30\n",
            "           3       0.90      0.82      0.86        11\n",
            "           4       0.75      0.75      0.75         4\n",
            "\n",
            "    accuracy                           0.90        50\n",
            "   macro avg       0.89      0.88      0.88        50\n",
            "weighted avg       0.90      0.90      0.90        50\n",
            "\n"
          ]
        }
      ]
    },
    {
      "cell_type": "code",
      "source": [
        "model_tfidf= MultinomialNB().fit(x_train_tfidf, y_train)\n",
        "prediction_tfidf=model_tfidf.predict(x_test_tfidf)\n",
        "print (classification_report(y_test, prediction_tfidf))\n",
        "print(confusion_matrix(y_test,prediction_tfidf))"
      ],
      "metadata": {
        "colab": {
          "base_uri": "https://localhost:8080/"
        },
        "id": "sNiP_mRuQdq_",
        "outputId": "a708243e-c155-445d-a5a4-c479e805204b"
      },
      "execution_count": 85,
      "outputs": [
        {
          "output_type": "stream",
          "name": "stdout",
          "text": [
            "              precision    recall  f1-score   support\n",
            "\n",
            "           0       0.00      0.00      0.00         5\n",
            "           1       0.60      1.00      0.75        30\n",
            "           3       0.00      0.00      0.00        11\n",
            "           4       0.00      0.00      0.00         4\n",
            "\n",
            "    accuracy                           0.60        50\n",
            "   macro avg       0.15      0.25      0.19        50\n",
            "weighted avg       0.36      0.60      0.45        50\n",
            "\n",
            "[[ 0  5  0  0]\n",
            " [ 0 30  0  0]\n",
            " [ 0 11  0  0]\n",
            " [ 0  4  0  0]]\n"
          ]
        },
        {
          "output_type": "stream",
          "name": "stderr",
          "text": [
            "/usr/local/lib/python3.7/dist-packages/sklearn/metrics/_classification.py:1318: UndefinedMetricWarning: Precision and F-score are ill-defined and being set to 0.0 in labels with no predicted samples. Use `zero_division` parameter to control this behavior.\n",
            "  _warn_prf(average, modifier, msg_start, len(result))\n",
            "/usr/local/lib/python3.7/dist-packages/sklearn/metrics/_classification.py:1318: UndefinedMetricWarning: Precision and F-score are ill-defined and being set to 0.0 in labels with no predicted samples. Use `zero_division` parameter to control this behavior.\n",
            "  _warn_prf(average, modifier, msg_start, len(result))\n",
            "/usr/local/lib/python3.7/dist-packages/sklearn/metrics/_classification.py:1318: UndefinedMetricWarning: Precision and F-score are ill-defined and being set to 0.0 in labels with no predicted samples. Use `zero_division` parameter to control this behavior.\n",
            "  _warn_prf(average, modifier, msg_start, len(result))\n"
          ]
        }
      ]
    },
    {
      "cell_type": "code",
      "source": [
        "import xgboost as xgb\n",
        "xgb_model=xgb.XGBClassifier(\n",
        "        learning_rate=0.1,\n",
        "        max_depth=7,\n",
        "        n_estimators=80,\n",
        "        use_label_encoder=False,\n",
        "        eval_metric='auc' )"
      ],
      "metadata": {
        "id": "Mw9CmpNWQoSc"
      },
      "execution_count": 86,
      "outputs": []
    },
    {
      "cell_type": "code",
      "source": [
        "xgb_model_vectorizer = xgb_model.fit(x_train_vectorizer, y_train)\n",
        "xgb_predictions_vectorizer=xgb_model_vectorizer.predict(x_test_vectorizer)\n",
        "print(confusion_matrix(y_test,xgb_predictions_vectorizer))\n",
        "print (classification_report(y_test, xgb_predictions_vectorizer))"
      ],
      "metadata": {
        "colab": {
          "base_uri": "https://localhost:8080/"
        },
        "id": "FDonJpUeQsqe",
        "outputId": "04bf390b-c7bb-488c-964a-38a098dd783b"
      },
      "execution_count": 87,
      "outputs": [
        {
          "output_type": "stream",
          "name": "stdout",
          "text": [
            "[[ 4  1  0  0]\n",
            " [ 2 28  0  0]\n",
            " [ 0  1  8  2]\n",
            " [ 0  1  0  3]]\n",
            "              precision    recall  f1-score   support\n",
            "\n",
            "           0       0.67      0.80      0.73         5\n",
            "           1       0.90      0.93      0.92        30\n",
            "           3       1.00      0.73      0.84        11\n",
            "           4       0.60      0.75      0.67         4\n",
            "\n",
            "    accuracy                           0.86        50\n",
            "   macro avg       0.79      0.80      0.79        50\n",
            "weighted avg       0.88      0.86      0.86        50\n",
            "\n"
          ]
        }
      ]
    },
    {
      "cell_type": "code",
      "source": [
        "xgb_model = xgb_model.fit(x_train_tfidf, y_train)\n",
        "xgb_predictions=xgb_model.predict(x_test_tfidf)\n",
        "print(confusion_matrix(y_test,xgb_predictions))\n",
        "print (classification_report(y_test, xgb_predictions))"
      ],
      "metadata": {
        "colab": {
          "base_uri": "https://localhost:8080/"
        },
        "id": "5tIqByFsQz4m",
        "outputId": "b8e3ed61-ff5c-4b2c-b7af-736956cf0df5"
      },
      "execution_count": 88,
      "outputs": [
        {
          "output_type": "stream",
          "name": "stdout",
          "text": [
            "[[ 5  0  0  0]\n",
            " [ 2 28  0  0]\n",
            " [ 0  0  9  2]\n",
            " [ 0  0  0  4]]\n",
            "              precision    recall  f1-score   support\n",
            "\n",
            "           0       0.71      1.00      0.83         5\n",
            "           1       1.00      0.93      0.97        30\n",
            "           3       1.00      0.82      0.90        11\n",
            "           4       0.67      1.00      0.80         4\n",
            "\n",
            "    accuracy                           0.92        50\n",
            "   macro avg       0.85      0.94      0.87        50\n",
            "weighted avg       0.94      0.92      0.92        50\n",
            "\n"
          ]
        }
      ]
    },
    {
      "cell_type": "code",
      "source": [
        "from keras.models import Model\n",
        "from keras.layers import LSTM, Activation, Dense, Dropout, Input, Embedding,SpatialDropout1D\n",
        "from tensorflow.keras.optimizers import RMSprop\n",
        "from keras.preprocessing.text import Tokenizer\n",
        "from keras.preprocessing import sequence\n",
        "from tensorflow.keras.utils import to_categorical\n",
        "from keras.callbacks import EarlyStopping\n",
        "from keras.models import Sequential"
      ],
      "metadata": {
        "id": "PRci9igxQ6uX"
      },
      "execution_count": 91,
      "outputs": []
    },
    {
      "cell_type": "code",
      "source": [
        "max_words = 50000\n",
        "max_len = 300\n",
        "tokenizer = Tokenizer(num_words=max_words)\n",
        "tokenizer.fit_on_texts(x_train)\n",
        "sequences = tokenizer.texts_to_sequences(x_train)\n",
        "sequences_matrix = sequence.pad_sequences(sequences,maxlen=max_len)"
      ],
      "metadata": {
        "id": "s229Dx66RFPI"
      },
      "execution_count": 92,
      "outputs": []
    },
    {
      "cell_type": "code",
      "source": [
        "model = Sequential()\n",
        "model.add(Embedding(max_words, 100, input_length=max_len))\n",
        "model.add(SpatialDropout1D(0.2))\n",
        "model.add(LSTM(100, dropout=0.2, recurrent_dropout=0.2))\n",
        "model.add(Dense(1, activation='sigmoid'))\n",
        "model.summary()\n",
        "model.compile(loss='binary_crossentropy',optimizer=RMSprop(),metrics=['accuracy'])"
      ],
      "metadata": {
        "colab": {
          "base_uri": "https://localhost:8080/"
        },
        "id": "d_TMREz7RNG0",
        "outputId": "2e5b58b0-c16a-4078-86e5-9175186bb29f"
      },
      "execution_count": 93,
      "outputs": [
        {
          "output_type": "stream",
          "name": "stdout",
          "text": [
            "Model: \"sequential_1\"\n",
            "_________________________________________________________________\n",
            " Layer (type)                Output Shape              Param #   \n",
            "=================================================================\n",
            " embedding_1 (Embedding)     (None, 300, 100)          5000000   \n",
            "                                                                 \n",
            " spatial_dropout1d (SpatialD  (None, 300, 100)         0         \n",
            " ropout1D)                                                       \n",
            "                                                                 \n",
            " lstm_1 (LSTM)               (None, 100)               80400     \n",
            "                                                                 \n",
            " dense_1 (Dense)             (None, 1)                 101       \n",
            "                                                                 \n",
            "=================================================================\n",
            "Total params: 5,080,501\n",
            "Trainable params: 5,080,501\n",
            "Non-trainable params: 0\n",
            "_________________________________________________________________\n"
          ]
        }
      ]
    },
    {
      "cell_type": "code",
      "source": [
        "from keras.callbacks import EarlyStopping,ModelCheckpoint\n",
        "\n",
        "stop = EarlyStopping(\n",
        "    monitor='val_accuracy', \n",
        "    mode='max',\n",
        "    patience=5\n",
        ")\n",
        "\n",
        "checkpoint= ModelCheckpoint(\n",
        "    filepath='./',\n",
        "    save_weights_only=True,\n",
        "    monitor='val_accuracy',\n",
        "    mode='max',\n",
        "    save_best_only=True)"
      ],
      "metadata": {
        "id": "8BiJx94WROwH"
      },
      "execution_count": 94,
      "outputs": []
    },
    {
      "cell_type": "code",
      "source": [
        "history=model.fit(sequences_matrix,y_train,batch_size=1024,epochs=10,\n",
        "          validation_split=0.2,callbacks=[stop,checkpoint])"
      ],
      "metadata": {
        "colab": {
          "base_uri": "https://localhost:8080/"
        },
        "id": "G5ZADQKMRVv9",
        "outputId": "ef3d4889-c76e-430d-b9c1-4a5b5b00ad1a"
      },
      "execution_count": 95,
      "outputs": [
        {
          "output_type": "stream",
          "name": "stdout",
          "text": [
            "Epoch 1/10\n",
            "1/1 [==============================] - 6s 6s/step - loss: 0.6927 - accuracy: 0.3559 - val_loss: 0.6003 - val_accuracy: 0.6667\n",
            "Epoch 2/10\n",
            "1/1 [==============================] - 1s 1s/step - loss: 0.5974 - accuracy: 0.6610 - val_loss: 0.3859 - val_accuracy: 0.6667\n",
            "Epoch 3/10\n",
            "1/1 [==============================] - 1s 1s/step - loss: 0.3937 - accuracy: 0.6610 - val_loss: -1.3000 - val_accuracy: 0.6667\n",
            "Epoch 4/10\n",
            "1/1 [==============================] - 1s 1s/step - loss: -1.0781 - accuracy: 0.6610 - val_loss: -2.7345 - val_accuracy: 0.6667\n",
            "Epoch 5/10\n",
            "1/1 [==============================] - 1s 1s/step - loss: -2.3027 - accuracy: 0.6610 - val_loss: -3.3729 - val_accuracy: 0.6667\n",
            "Epoch 6/10\n",
            "1/1 [==============================] - 1s 1s/step - loss: -2.8179 - accuracy: 0.6610 - val_loss: -3.8513 - val_accuracy: 0.6667\n"
          ]
        }
      ]
    }
  ]
}